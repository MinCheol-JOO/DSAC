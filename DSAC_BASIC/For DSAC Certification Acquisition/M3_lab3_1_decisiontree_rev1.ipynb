{
  "nbformat": 4,
  "nbformat_minor": 0,
  "metadata": {
    "colab": {
      "name": "M3_lab3_1_decisiontree_rev1.ipynb",
      "provenance": [],
      "collapsed_sections": [],
      "include_colab_link": true
    },
    "kernelspec": {
      "display_name": "Python 3",
      "language": "python",
      "name": "python3"
    },
    "language_info": {
      "codemirror_mode": {
        "name": "ipython",
        "version": 3
      },
      "file_extension": ".py",
      "mimetype": "text/x-python",
      "name": "python",
      "nbconvert_exporter": "python",
      "pygments_lexer": "ipython3",
      "version": "3.6.8"
    }
  },
  "cells": [
    {
      "cell_type": "markdown",
      "metadata": {
        "id": "view-in-github",
        "colab_type": "text"
      },
      "source": [
        "<a href=\"https://colab.research.google.com/github/rtajeong/M3/blob/main/M3_lab3_1_decisiontree_rev1.ipynb\" target=\"_parent\"><img src=\"https://colab.research.google.com/assets/colab-badge.svg\" alt=\"Open In Colab\"/></a>"
      ]
    },
    {
      "cell_type": "markdown",
      "metadata": {
        "id": "jLiegAgrN9rn"
      },
      "source": [
        "결정트리\n",
        "==\n",
        "데이터\n",
        "--\n",
        "- 붓꽃(iris) 분류 데이터\n"
      ]
    },
    {
      "cell_type": "code",
      "metadata": {
        "id": "IxARNEkiN9rp"
      },
      "source": [
        "from sklearn.datasets import load_iris\n",
        "iris = load_iris()\n",
        "\n",
        "X = iris.data[:, :2] \n",
        "y = iris.target"
      ],
      "execution_count": null,
      "outputs": []
    },
    {
      "cell_type": "code",
      "metadata": {
        "colab": {
          "base_uri": "https://localhost:8080/"
        },
        "id": "Oq-0Op8FN9rs",
        "outputId": "fbd5600f-f9ca-4c0d-ef77-0036fd32a9f0"
      },
      "source": [
        "from sklearn.tree import DecisionTreeClassifier\n",
        "clf = DecisionTreeClassifier(max_depth = 2)\n",
        "clf.fit(X, y)"
      ],
      "execution_count": null,
      "outputs": [
        {
          "output_type": "execute_result",
          "data": {
            "text/plain": [
              "DecisionTreeClassifier(ccp_alpha=0.0, class_weight=None, criterion='gini',\n",
              "                       max_depth=2, max_features=None, max_leaf_nodes=None,\n",
              "                       min_impurity_decrease=0.0, min_impurity_split=None,\n",
              "                       min_samples_leaf=1, min_samples_split=2,\n",
              "                       min_weight_fraction_leaf=0.0, presort='deprecated',\n",
              "                       random_state=None, splitter='best')"
            ]
          },
          "metadata": {
            "tags": []
          },
          "execution_count": 2
        }
      ]
    },
    {
      "cell_type": "markdown",
      "metadata": {
        "id": "LXbeJAz3N9ry"
      },
      "source": [
        "# 결정 트리 그리기 (옵션)\n",
        "- using tree.plot_tree\n",
        "- using graphviz library"
      ]
    },
    {
      "cell_type": "code",
      "metadata": {
        "colab": {
          "base_uri": "https://localhost:8080/",
          "height": 369
        },
        "id": "Fciur_TJ9OBs",
        "outputId": "a8925940-234f-4348-8dfb-fd95484671c3"
      },
      "source": [
        "from sklearn import tree\n",
        "tree.plot_tree(clf, filled=True) # filled=True -> paint to indicate majority class"
      ],
      "execution_count": null,
      "outputs": [
        {
          "output_type": "execute_result",
          "data": {
            "text/plain": [
              "[Text(167.4, 181.2, 'X[0] <= 5.45\\ngini = 0.667\\nsamples = 150\\nvalue = [50, 50, 50]'),\n",
              " Text(83.7, 108.72, 'X[1] <= 2.8\\ngini = 0.237\\nsamples = 52\\nvalue = [45, 6, 1]'),\n",
              " Text(41.85, 36.23999999999998, 'gini = 0.449\\nsamples = 7\\nvalue = [1, 5, 1]'),\n",
              " Text(125.55000000000001, 36.23999999999998, 'gini = 0.043\\nsamples = 45\\nvalue = [44, 1, 0]'),\n",
              " Text(251.10000000000002, 108.72, 'X[0] <= 6.15\\ngini = 0.546\\nsamples = 98\\nvalue = [5, 44, 49]'),\n",
              " Text(209.25, 36.23999999999998, 'gini = 0.508\\nsamples = 43\\nvalue = [5, 28, 10]'),\n",
              " Text(292.95, 36.23999999999998, 'gini = 0.413\\nsamples = 55\\nvalue = [0, 16, 39]')]"
            ]
          },
          "metadata": {
            "tags": []
          },
          "execution_count": 3
        },
        {
          "output_type": "display_data",
          "data": {
            "image/png": "[encoded data removed]",
            "text/plain": [
              "<Figure size 432x288 with 1 Axes>"
            ]
          },
          "metadata": {
            "tags": [],
            "needs_background": "light"
          }
        }
      ]
    },
    {
      "cell_type": "markdown",
      "metadata": {
        "id": "QtnLyNAmN9rz"
      },
      "source": [
        "Graphbiz 설치\n",
        "--\n",
        "\n",
        "- graphviz.org 사이트에서 다운로드 후 설치\n",
        "- 윈도우 버전:\n",
        "- https://graphviz.gitlab.io/_pages/Download/Download_windows.html"
      ]
    },
    {
      "cell_type": "code",
      "metadata": {
        "id": "EYYj6m8IN9rz"
      },
      "source": [
        "# !pip install graphviz   or\n",
        "# conda install python-graphviz (in cmd 창)\n",
        "# note that the above two commands install graphviz library in different places."
      ],
      "execution_count": null,
      "outputs": []
    },
    {
      "cell_type": "markdown",
      "metadata": {
        "id": "iq8t-iS29OBv"
      },
      "source": [
        "- export_graphviz(): Export a decision tree in DOT format. This function generates a GraphViz representation of the decision tree, which is then written into out_file\n",
        "- dot file: DOT is a graph description language. DOT graphs are typically files with the filename extension gv or dot."
      ]
    },
    {
      "cell_type": "code",
      "metadata": {
        "id": "dj5vH3YQ9OBv"
      },
      "source": [
        "# graphvis 실행시 path 문제가 있는 경우\n",
        "# - 내 PC (오른쪽 마우스 클릭) -> 속성 -> 고급시스템 -> 환경변수 (시스템변수) -> path 에 graphviz path 추가"
      ],
      "execution_count": null,
      "outputs": []
    },
    {
      "cell_type": "code",
      "metadata": {
        "id": "dgOBFPSH9OBw"
      },
      "source": [
        "# export_graphviz(): Export a decision tree in DOT format."
      ],
      "execution_count": null,
      "outputs": []
    },
    {
      "cell_type": "code",
      "metadata": {
        "id": "WjvXWXrJN9r2",
        "scrolled": true
      },
      "source": [
        "from sklearn.tree import export_graphviz\n",
        "import graphviz\n",
        "export_graphviz(\n",
        "    clf,\n",
        "    out_file = \"./iris.dot\",\n",
        "    feature_names = iris.feature_names[:2],\n",
        "    class_names = iris.target_names,\n",
        "    filled = True\n",
        "    )"
      ],
      "execution_count": null,
      "outputs": []
    },
    {
      "cell_type": "code",
      "metadata": {
        "colab": {
          "base_uri": "https://localhost:8080/",
          "height": 440
        },
        "id": "NgbjTOpxN9r5",
        "scrolled": true,
        "outputId": "013a7043-90df-49d7-fe05-2590419dba57"
      },
      "source": [
        "with open(\"./iris.dot\") as f:\n",
        "    dot_graph = str(open(\"./iris.dot\", \"rb\").read(), \"utf8\")\n",
        "graphviz.Source(dot_graph)"
      ],
      "execution_count": null,
      "outputs": [
        {
          "output_type": "execute_result",
          "data": {
            "text/plain": [
              "<graphviz.files.Source at 0x7f14a1874190>"
            ],
            "image/svg+xml": "<?xml version=\"1.0\" encoding=\"UTF-8\" standalone=\"no\"?>\n<!DOCTYPE svg PUBLIC \"-//W3C//DTD SVG 1.1//EN\"\n \"http://www.w3.org/Graphics/SVG/1.1/DTD/svg11.dtd\">\n<!-- Generated by graphviz version 2.40.1 (20161225.0304)\n -->\n<!-- Title: Tree Pages: 1 -->\n<svg width=\"563pt\" height=\"314pt\"\n viewBox=\"0.00 0.00 563.00 314.00\" xmlns=\"http://www.w3.org/2000/svg\" xmlns:xlink=\"http://www.w3.org/1999/xlink\">\n<g id=\"graph0\" class=\"graph\" transform=\"scale(1 1) rotate(0) translate(4 310)\">\n<title>Tree</title>\n<polygon fill=\"#ffffff\" stroke=\"transparent\" points=\"-4,4 -4,-310 559,-310 559,4 -4,4\"/>\n<!-- 0 -->\n<g id=\"node1\" class=\"node\">\n<title>0</title>\n<polygon fill=\"#ffffff\" stroke=\"#000000\" points=\"353,-306 188,-306 188,-223 353,-223 353,-306\"/>\n<text text-anchor=\"middle\" x=\"270.5\" y=\"-290.8\" font-family=\"Times,serif\" font-size=\"14.00\" fill=\"#000000\">sepal length (cm) &lt;= 5.45</text>\n<text text-anchor=\"middle\" x=\"270.5\" y=\"-275.8\" font-family=\"Times,serif\" font-size=\"14.00\" fill=\"#000000\">gini = 0.667</text>\n<text text-anchor=\"middle\" x=\"270.5\" y=\"-260.8\" font-family=\"Times,serif\" font-size=\"14.00\" fill=\"#000000\">samples = 150</text>\n<text text-anchor=\"middle\" x=\"270.5\" y=\"-245.8\" font-family=\"Times,serif\" font-size=\"14.00\" fill=\"#000000\">value = [50, 50, 50]</text>\n<text text-anchor=\"middle\" x=\"270.5\" y=\"-230.8\" font-family=\"Times,serif\" font-size=\"14.00\" fill=\"#000000\">class = setosa</text>\n</g>\n<!-- 1 -->\n<g id=\"node2\" class=\"node\">\n<title>1</title>\n<polygon fill=\"#e99457\" stroke=\"#000000\" points=\"259,-187 104,-187 104,-104 259,-104 259,-187\"/>\n<text text-anchor=\"middle\" x=\"181.5\" y=\"-171.8\" font-family=\"Times,serif\" font-size=\"14.00\" fill=\"#000000\">sepal width (cm) &lt;= 2.8</text>\n<text text-anchor=\"middle\" x=\"181.5\" y=\"-156.8\" font-family=\"Times,serif\" font-size=\"14.00\" fill=\"#000000\">gini = 0.237</text>\n<text text-anchor=\"middle\" x=\"181.5\" y=\"-141.8\" font-family=\"Times,serif\" font-size=\"14.00\" fill=\"#000000\">samples = 52</text>\n<text text-anchor=\"middle\" x=\"181.5\" y=\"-126.8\" font-family=\"Times,serif\" font-size=\"14.00\" fill=\"#000000\">value = [45, 6, 1]</text>\n<text text-anchor=\"middle\" x=\"181.5\" y=\"-111.8\" font-family=\"Times,serif\" font-size=\"14.00\" fill=\"#000000\">class = setosa</text>\n</g>\n<!-- 0&#45;&gt;1 -->\n<g id=\"edge1\" class=\"edge\">\n<title>0&#45;&gt;1</title>\n<path fill=\"none\" stroke=\"#000000\" d=\"M239.3721,-222.8796C232.771,-214.0534 225.7371,-204.6485 218.9298,-195.5466\"/>\n<polygon fill=\"#000000\" stroke=\"#000000\" points=\"221.5528,-193.2099 212.7607,-187.2981 215.9472,-197.4024 221.5528,-193.2099\"/>\n<text text-anchor=\"middle\" x=\"209.1919\" y=\"-208.342\" font-family=\"Times,serif\" font-size=\"14.00\" fill=\"#000000\">True</text>\n</g>\n<!-- 4 -->\n<g id=\"node5\" class=\"node\">\n<title>4</title>\n<polygon fill=\"#f3edfd\" stroke=\"#000000\" points=\"442,-187 277,-187 277,-104 442,-104 442,-187\"/>\n<text text-anchor=\"middle\" x=\"359.5\" y=\"-171.8\" font-family=\"Times,serif\" font-size=\"14.00\" fill=\"#000000\">sepal length (cm) &lt;= 6.15</text>\n<text text-anchor=\"middle\" x=\"359.5\" y=\"-156.8\" font-family=\"Times,serif\" font-size=\"14.00\" fill=\"#000000\">gini = 0.546</text>\n<text text-anchor=\"middle\" x=\"359.5\" y=\"-141.8\" font-family=\"Times,serif\" font-size=\"14.00\" fill=\"#000000\">samples = 98</text>\n<text text-anchor=\"middle\" x=\"359.5\" y=\"-126.8\" font-family=\"Times,serif\" font-size=\"14.00\" fill=\"#000000\">value = [5, 44, 49]</text>\n<text text-anchor=\"middle\" x=\"359.5\" y=\"-111.8\" font-family=\"Times,serif\" font-size=\"14.00\" fill=\"#000000\">class = virginica</text>\n</g>\n<!-- 0&#45;&gt;4 -->\n<g id=\"edge4\" class=\"edge\">\n<title>0&#45;&gt;4</title>\n<path fill=\"none\" stroke=\"#000000\" d=\"M301.6279,-222.8796C308.229,-214.0534 315.2629,-204.6485 322.0702,-195.5466\"/>\n<polygon fill=\"#000000\" stroke=\"#000000\" points=\"325.0528,-197.4024 328.2393,-187.2981 319.4472,-193.2099 325.0528,-197.4024\"/>\n<text text-anchor=\"middle\" x=\"331.8081\" y=\"-208.342\" font-family=\"Times,serif\" font-size=\"14.00\" fill=\"#000000\">False</text>\n</g>\n<!-- 2 -->\n<g id=\"node3\" class=\"node\">\n<title>2</title>\n<polygon fill=\"#7beeab\" stroke=\"#000000\" points=\"115,-68 0,-68 0,0 115,0 115,-68\"/>\n<text text-anchor=\"middle\" x=\"57.5\" y=\"-52.8\" font-family=\"Times,serif\" font-size=\"14.00\" fill=\"#000000\">gini = 0.449</text>\n<text text-anchor=\"middle\" x=\"57.5\" y=\"-37.8\" font-family=\"Times,serif\" font-size=\"14.00\" fill=\"#000000\">samples = 7</text>\n<text text-anchor=\"middle\" x=\"57.5\" y=\"-22.8\" font-family=\"Times,serif\" font-size=\"14.00\" fill=\"#000000\">value = [1, 5, 1]</text>\n<text text-anchor=\"middle\" x=\"57.5\" y=\"-7.8\" font-family=\"Times,serif\" font-size=\"14.00\" fill=\"#000000\">class = versicolor</text>\n</g>\n<!-- 1&#45;&gt;2 -->\n<g id=\"edge2\" class=\"edge\">\n<title>1&#45;&gt;2</title>\n<path fill=\"none\" stroke=\"#000000\" d=\"M135.327,-103.9815C124.7993,-94.5151 113.6192,-84.462 103.1151,-75.0168\"/>\n<polygon fill=\"#000000\" stroke=\"#000000\" points=\"105.3811,-72.3475 95.6049,-68.2637 100.7006,-77.5526 105.3811,-72.3475\"/>\n</g>\n<!-- 3 -->\n<g id=\"node4\" class=\"node\">\n<title>3</title>\n<polygon fill=\"#e6843d\" stroke=\"#000000\" points=\"250,-68 133,-68 133,0 250,0 250,-68\"/>\n<text text-anchor=\"middle\" x=\"191.5\" y=\"-52.8\" font-family=\"Times,serif\" font-size=\"14.00\" fill=\"#000000\">gini = 0.043</text>\n<text text-anchor=\"middle\" x=\"191.5\" y=\"-37.8\" font-family=\"Times,serif\" font-size=\"14.00\" fill=\"#000000\">samples = 45</text>\n<text text-anchor=\"middle\" x=\"191.5\" y=\"-22.8\" font-family=\"Times,serif\" font-size=\"14.00\" fill=\"#000000\">value = [44, 1, 0]</text>\n<text text-anchor=\"middle\" x=\"191.5\" y=\"-7.8\" font-family=\"Times,serif\" font-size=\"14.00\" fill=\"#000000\">class = setosa</text>\n</g>\n<!-- 1&#45;&gt;3 -->\n<g id=\"edge3\" class=\"edge\">\n<title>1&#45;&gt;3</title>\n<path fill=\"none\" stroke=\"#000000\" d=\"M185.2236,-103.9815C185.9737,-95.618 186.7649,-86.7965 187.5232,-78.3409\"/>\n<polygon fill=\"#000000\" stroke=\"#000000\" points=\"191.0197,-78.5364 188.427,-68.2637 184.0477,-77.911 191.0197,-78.5364\"/>\n</g>\n<!-- 5 -->\n<g id=\"node6\" class=\"node\">\n<title>5</title>\n<polygon fill=\"#93f1ba\" stroke=\"#000000\" points=\"412,-68 287,-68 287,0 412,0 412,-68\"/>\n<text text-anchor=\"middle\" x=\"349.5\" y=\"-52.8\" font-family=\"Times,serif\" font-size=\"14.00\" fill=\"#000000\">gini = 0.508</text>\n<text text-anchor=\"middle\" x=\"349.5\" y=\"-37.8\" font-family=\"Times,serif\" font-size=\"14.00\" fill=\"#000000\">samples = 43</text>\n<text text-anchor=\"middle\" x=\"349.5\" y=\"-22.8\" font-family=\"Times,serif\" font-size=\"14.00\" fill=\"#000000\">value = [5, 28, 10]</text>\n<text text-anchor=\"middle\" x=\"349.5\" y=\"-7.8\" font-family=\"Times,serif\" font-size=\"14.00\" fill=\"#000000\">class = versicolor</text>\n</g>\n<!-- 4&#45;&gt;5 -->\n<g id=\"edge5\" class=\"edge\">\n<title>4&#45;&gt;5</title>\n<path fill=\"none\" stroke=\"#000000\" d=\"M355.7764,-103.9815C355.0263,-95.618 354.2351,-86.7965 353.4768,-78.3409\"/>\n<polygon fill=\"#000000\" stroke=\"#000000\" points=\"356.9523,-77.911 352.573,-68.2637 349.9803,-78.5364 356.9523,-77.911\"/>\n</g>\n<!-- 6 -->\n<g id=\"node7\" class=\"node\">\n<title>6</title>\n<polygon fill=\"#b58af0\" stroke=\"#000000\" points=\"555,-68 430,-68 430,0 555,0 555,-68\"/>\n<text text-anchor=\"middle\" x=\"492.5\" y=\"-52.8\" font-family=\"Times,serif\" font-size=\"14.00\" fill=\"#000000\">gini = 0.413</text>\n<text text-anchor=\"middle\" x=\"492.5\" y=\"-37.8\" font-family=\"Times,serif\" font-size=\"14.00\" fill=\"#000000\">samples = 55</text>\n<text text-anchor=\"middle\" x=\"492.5\" y=\"-22.8\" font-family=\"Times,serif\" font-size=\"14.00\" fill=\"#000000\">value = [0, 16, 39]</text>\n<text text-anchor=\"middle\" x=\"492.5\" y=\"-7.8\" font-family=\"Times,serif\" font-size=\"14.00\" fill=\"#000000\">class = virginica</text>\n</g>\n<!-- 4&#45;&gt;6 -->\n<g id=\"edge6\" class=\"edge\">\n<title>4&#45;&gt;6</title>\n<path fill=\"none\" stroke=\"#000000\" d=\"M409.0243,-103.9815C420.4257,-94.4232 432.5405,-84.2668 443.9021,-74.7419\"/>\n<polygon fill=\"#000000\" stroke=\"#000000\" points=\"446.2147,-77.3704 451.6294,-68.2637 441.7175,-72.006 446.2147,-77.3704\"/>\n</g>\n</g>\n</svg>\n"
          },
          "metadata": {
            "tags": []
          },
          "execution_count": 8
        }
      ]
    },
    {
      "cell_type": "markdown",
      "metadata": {
        "id": "QxRW-8amN9r9"
      },
      "source": [
        "결정 경계선 그리기\n",
        "--"
      ]
    },
    {
      "cell_type": "code",
      "metadata": {
        "colab": {
          "base_uri": "https://localhost:8080/",
          "height": 300
        },
        "id": "ARBB0fJPN9r-",
        "scrolled": true,
        "outputId": "9f4eaa49-243e-4d77-fb8c-71d4ff8f7d47"
      },
      "source": [
        "%matplotlib inline\n",
        "import matplotlib.pyplot as plt\n",
        "import numpy as np\n",
        "\n",
        "plt.xlim(4, 8.5)\n",
        "plt.ylim(1.5, 4.5)\n",
        "\n",
        "markers = ['o', '+', '^']\n",
        "for i in range(3):\n",
        "    xs = X[:, 0][y == i]\n",
        "    ys = X[:, 1][y == i]\n",
        "    plt.scatter(xs, ys, marker=markers[i])\n",
        "\n",
        "plt.legend(iris.target_names)\n",
        "plt.xlabel(\"Sepal length\")\n",
        "plt.ylabel(\"Sepal width\")\n",
        "\n",
        "\n",
        "# 결정 트리 경계선: 실선은 루트 노드 점선은 자식 노드\n",
        "xx = np.linspace(5.45, 5.45, 3)\n",
        "yy = np.linspace(1.5, 4.5, 3)\n",
        "plt.plot(xx, yy, '-k') # 검정색 실선\n",
        "\n",
        "xx = np.linspace(4, 5.45, 3)\n",
        "yy = np.linspace(2.8, 2.8, 3)\n",
        "plt.plot(xx, yy, '--b') # 파란색 점선\n",
        "\n",
        "xx = np.linspace(6.15, 6.15, 3)\n",
        "yy = np.linspace(1.5, 4.5, 3)\n",
        "plt.plot(xx, yy, '--r') # 붉은색 점선\n"
      ],
      "execution_count": null,
      "outputs": [
        {
          "output_type": "execute_result",
          "data": {
            "text/plain": [
              "[<matplotlib.lines.Line2D at 0x7f14a10c87d0>]"
            ]
          },
          "metadata": {
            "tags": []
          },
          "execution_count": 9
        },
        {
          "output_type": "display_data",
          "data": {
            "image/png": "[encoded data removed]",
            "text/plain": [
              "<Figure size 432x288 with 1 Axes>"
            ]
          },
          "metadata": {
            "tags": [],
            "needs_background": "light"
          }
        }
      ]
    },
    {
      "cell_type": "code",
      "metadata": {
        "colab": {
          "base_uri": "https://localhost:8080/"
        },
        "id": "aVOw8N1sN9sC",
        "outputId": "951dc5cb-eefb-411f-ea1e-f0420b9270dd"
      },
      "source": [
        "print(clf.predict([[5.5, 4]]))   # prediction"
      ],
      "execution_count": null,
      "outputs": [
        {
          "output_type": "stream",
          "text": [
            "[1]\n"
          ],
          "name": "stdout"
        }
      ]
    },
    {
      "cell_type": "code",
      "metadata": {
        "colab": {
          "base_uri": "https://localhost:8080/"
        },
        "id": "qsQnDe9TN9sI",
        "scrolled": true,
        "outputId": "b9110290-fe81-4db8-d6b9-bff17d481038"
      },
      "source": [
        "print(clf.predict_proba([[5.5, 4]]))   # prediction probability"
      ],
      "execution_count": null,
      "outputs": [
        {
          "output_type": "stream",
          "text": [
            "[[0.11627907 0.65116279 0.23255814]]\n"
          ],
          "name": "stdout"
        }
      ]
    },
    {
      "cell_type": "markdown",
      "metadata": {
        "id": "ArMKRYIqN9sM"
      },
      "source": [
        "## 트리 내부 변수\n",
        "### 유방암 분류"
      ]
    },
    {
      "cell_type": "code",
      "metadata": {
        "id": "wtGHC8gsN9sN"
      },
      "source": [
        "from sklearn.datasets import load_breast_cancer\n",
        "from sklearn.tree import DecisionTreeClassifier\n",
        "from sklearn.ensemble import RandomForestClassifier \n",
        "from sklearn.model_selection import train_test_split \n",
        "import matplotlib.pyplot as plt\n",
        "import numpy as np\n",
        "import pandas as pd"
      ],
      "execution_count": null,
      "outputs": []
    },
    {
      "cell_type": "code",
      "metadata": {
        "id": "6PX_5WDeN9sP"
      },
      "source": [
        "cancer = load_breast_cancer() "
      ],
      "execution_count": null,
      "outputs": []
    },
    {
      "cell_type": "code",
      "metadata": {
        "colab": {
          "base_uri": "https://localhost:8080/"
        },
        "id": "hKaNxmYn9OB2",
        "outputId": "ff68f07e-1302-48bb-eada-31b8f2d9e228"
      },
      "source": [
        "cancer"
      ],
      "execution_count": null,
      "outputs": [
        {
          "output_type": "execute_result",
          "data": {
            "text/plain": [
              "{'DESCR': '.. _breast_cancer_dataset:\\n\\nBreast cancer wisconsin (diagnostic) dataset\\n--------------------------------------------\\n\\n**Data Set Characteristics:**\\n\\n    :Number of Instances: 569\\n\\n    :Number of Attributes: 30 numeric, predictive attributes and the class\\n\\n    :Attribute Information:\\n        - radius (mean of distances from center to points on the perimeter)\\n        - texture (standard deviation of gray-scale values)\\n        - perimeter\\n        - area\\n        - smoothness (local variation in radius lengths)\\n        - compactness (perimeter^2 / area - 1.0)\\n        - concavity (severity of concave portions of the contour)\\n        - concave points (number of concave portions of the contour)\\n        - symmetry \\n        - fractal dimension (\"coastline approximation\" - 1)\\n\\n        The mean, standard error, and \"worst\" or largest (mean of the three\\n        largest values) of these features were computed for each image,\\n        resulting in 30 features.  For instance, field 3 is Mean Radius, field\\n        13 is Radius SE, field 23 is Worst Radius.\\n\\n        - class:\\n                - WDBC-Malignant\\n                - WDBC-Benign\\n\\n    :Summary Statistics:\\n\\n    ===================================== ====== ======\\n                                           Min    Max\\n    ===================================== ====== ======\\n    radius (mean):                        6.981  28.11\\n    texture (mean):                       9.71   39.28\\n    perimeter (mean):                     43.79  188.5\\n    area (mean):                          143.5  2501.0\\n    smoothness (mean):                    0.053  0.163\\n    compactness (mean):                   0.019  0.345\\n    concavity (mean):                     0.0    0.427\\n    concave points (mean):                0.0    0.201\\n    symmetry (mean):                      0.106  0.304\\n    fractal dimension (mean):             0.05   0.097\\n    radius (standard error):              0.112  2.873\\n    texture (standard error):             0.36   4.885\\n    perimeter (standard error):           0.757  21.98\\n    area (standard error):                6.802  542.2\\n    smoothness (standard error):          0.002  0.031\\n    compactness (standard error):         0.002  0.135\\n    concavity (standard error):           0.0    0.396\\n    concave points (standard error):      0.0    0.053\\n    symmetry (standard error):            0.008  0.079\\n    fractal dimension (standard error):   0.001  0.03\\n    radius (worst):                       7.93   36.04\\n    texture (worst):                      12.02  49.54\\n    perimeter (worst):                    50.41  251.2\\n    area (worst):                         185.2  4254.0\\n    smoothness (worst):                   0.071  0.223\\n    compactness (worst):                  0.027  1.058\\n    concavity (worst):                    0.0    1.252\\n    concave points (worst):               0.0    0.291\\n    symmetry (worst):                     0.156  0.664\\n    fractal dimension (worst):            0.055  0.208\\n    ===================================== ====== ======\\n\\n    :Missing Attribute Values: None\\n\\n    :Class Distribution: 212 - Malignant, 357 - Benign\\n\\n    :Creator:  Dr. William H. Wolberg, W. Nick Street, Olvi L. Mangasarian\\n\\n    :Donor: Nick Street\\n\\n    :Date: November, 1995\\n\\nThis is a copy of UCI ML Breast Cancer Wisconsin (Diagnostic) datasets.\\nhttps://goo.gl/U2Uwz2\\n\\nFeatures are computed from a digitized image of a fine needle\\naspirate (FNA) of a breast mass.  They describe\\ncharacteristics of the cell nuclei present in the image.\\n\\nSeparating plane described above was obtained using\\nMultisurface Method-Tree (MSM-T) [K. P. Bennett, \"Decision Tree\\nConstruction Via Linear Programming.\" Proceedings of the 4th\\nMidwest Artificial Intelligence and Cognitive Science Society,\\npp. 97-101, 1992], a classification method which uses linear\\nprogramming to construct a decision tree.  Relevant features\\nwere selected using an exhaustive search in the space of 1-4\\nfeatures and 1-3 separating planes.\\n\\nThe actual linear program used to obtain the separating plane\\nin the 3-dimensional space is that described in:\\n[K. P. Bennett and O. L. Mangasarian: \"Robust Linear\\nProgramming Discrimination of Two Linearly Inseparable Sets\",\\nOptimization Methods and Software 1, 1992, 23-34].\\n\\nThis database is also available through the UW CS ftp server:\\n\\nftp ftp.cs.wisc.edu\\ncd math-prog/cpo-dataset/machine-learn/WDBC/\\n\\n.. topic:: References\\n\\n   - W.N. Street, W.H. Wolberg and O.L. Mangasarian. Nuclear feature extraction \\n     for breast tumor diagnosis. IS&T/SPIE 1993 International Symposium on \\n     Electronic Imaging: Science and Technology, volume 1905, pages 861-870,\\n     San Jose, CA, 1993.\\n   - O.L. Mangasarian, W.N. Street and W.H. Wolberg. Breast cancer diagnosis and \\n     prognosis via linear programming. Operations Research, 43(4), pages 570-577, \\n     July-August 1995.\\n   - W.H. Wolberg, W.N. Street, and O.L. Mangasarian. Machine learning techniques\\n     to diagnose breast cancer from fine-needle aspirates. Cancer Letters 77 (1994) \\n     163-171.',\n",
              " 'data': array([[1.799e+01, 1.038e+01, 1.228e+02, ..., 2.654e-01, 4.601e-01,\n",
              "         1.189e-01],\n",
              "        [2.057e+01, 1.777e+01, 1.329e+02, ..., 1.860e-01, 2.750e-01,\n",
              "         8.902e-02],\n",
              "        [1.969e+01, 2.125e+01, 1.300e+02, ..., 2.430e-01, 3.613e-01,\n",
              "         8.758e-02],\n",
              "        ...,\n",
              "        [1.660e+01, 2.808e+01, 1.083e+02, ..., 1.418e-01, 2.218e-01,\n",
              "         7.820e-02],\n",
              "        [2.060e+01, 2.933e+01, 1.401e+02, ..., 2.650e-01, 4.087e-01,\n",
              "         1.240e-01],\n",
              "        [7.760e+00, 2.454e+01, 4.792e+01, ..., 0.000e+00, 2.871e-01,\n",
              "         7.039e-02]]),\n",
              " 'feature_names': array(['mean radius', 'mean texture', 'mean perimeter', 'mean area',\n",
              "        'mean smoothness', 'mean compactness', 'mean concavity',\n",
              "        'mean concave points', 'mean symmetry', 'mean fractal dimension',\n",
              "        'radius error', 'texture error', 'perimeter error', 'area error',\n",
              "        'smoothness error', 'compactness error', 'concavity error',\n",
              "        'concave points error', 'symmetry error',\n",
              "        'fractal dimension error', 'worst radius', 'worst texture',\n",
              "        'worst perimeter', 'worst area', 'worst smoothness',\n",
              "        'worst compactness', 'worst concavity', 'worst concave points',\n",
              "        'worst symmetry', 'worst fractal dimension'], dtype='<U23'),\n",
              " 'filename': '/usr/local/lib/python3.7/dist-packages/sklearn/datasets/data/breast_cancer.csv',\n",
              " 'target': array([0, 0, 0, 0, 0, 0, 0, 0, 0, 0, 0, 0, 0, 0, 0, 0, 0, 0, 0, 1, 1, 1,\n",
              "        0, 0, 0, 0, 0, 0, 0, 0, 0, 0, 0, 0, 0, 0, 0, 1, 0, 0, 0, 0, 0, 0,\n",
              "        0, 0, 1, 0, 1, 1, 1, 1, 1, 0, 0, 1, 0, 0, 1, 1, 1, 1, 0, 1, 0, 0,\n",
              "        1, 1, 1, 1, 0, 1, 0, 0, 1, 0, 1, 0, 0, 1, 1, 1, 0, 0, 1, 0, 0, 0,\n",
              "        1, 1, 1, 0, 1, 1, 0, 0, 1, 1, 1, 0, 0, 1, 1, 1, 1, 0, 1, 1, 0, 1,\n",
              "        1, 1, 1, 1, 1, 1, 1, 0, 0, 0, 1, 0, 0, 1, 1, 1, 0, 0, 1, 0, 1, 0,\n",
              "        0, 1, 0, 0, 1, 1, 0, 1, 1, 0, 1, 1, 1, 1, 0, 1, 1, 1, 1, 1, 1, 1,\n",
              "        1, 1, 0, 1, 1, 1, 1, 0, 0, 1, 0, 1, 1, 0, 0, 1, 1, 0, 0, 1, 1, 1,\n",
              "        1, 0, 1, 1, 0, 0, 0, 1, 0, 1, 0, 1, 1, 1, 0, 1, 1, 0, 0, 1, 0, 0,\n",
              "        0, 0, 1, 0, 0, 0, 1, 0, 1, 0, 1, 1, 0, 1, 0, 0, 0, 0, 1, 1, 0, 0,\n",
              "        1, 1, 1, 0, 1, 1, 1, 1, 1, 0, 0, 1, 1, 0, 1, 1, 0, 0, 1, 0, 1, 1,\n",
              "        1, 1, 0, 1, 1, 1, 1, 1, 0, 1, 0, 0, 0, 0, 0, 0, 0, 0, 0, 0, 0, 0,\n",
              "        0, 0, 1, 1, 1, 1, 1, 1, 0, 1, 0, 1, 1, 0, 1, 1, 0, 1, 0, 0, 1, 1,\n",
              "        1, 1, 1, 1, 1, 1, 1, 1, 1, 1, 1, 0, 1, 1, 0, 1, 0, 1, 1, 1, 1, 1,\n",
              "        1, 1, 1, 1, 1, 1, 1, 1, 1, 0, 1, 1, 1, 0, 1, 0, 1, 1, 1, 1, 0, 0,\n",
              "        0, 1, 1, 1, 1, 0, 1, 0, 1, 0, 1, 1, 1, 0, 1, 1, 1, 1, 1, 1, 1, 0,\n",
              "        0, 0, 1, 1, 1, 1, 1, 1, 1, 1, 1, 1, 1, 0, 0, 1, 0, 0, 0, 1, 0, 0,\n",
              "        1, 1, 1, 1, 1, 0, 1, 1, 1, 1, 1, 0, 1, 1, 1, 0, 1, 1, 0, 0, 1, 1,\n",
              "        1, 1, 1, 1, 0, 1, 1, 1, 1, 1, 1, 1, 0, 1, 1, 1, 1, 1, 0, 1, 1, 0,\n",
              "        1, 1, 1, 1, 1, 1, 1, 1, 1, 1, 1, 1, 0, 1, 0, 0, 1, 0, 1, 1, 1, 1,\n",
              "        1, 0, 1, 1, 0, 1, 0, 1, 1, 0, 1, 0, 1, 1, 1, 1, 1, 1, 1, 1, 0, 0,\n",
              "        1, 1, 1, 1, 1, 1, 0, 1, 1, 1, 1, 1, 1, 1, 1, 1, 1, 0, 1, 1, 1, 1,\n",
              "        1, 1, 1, 0, 1, 0, 1, 1, 0, 1, 1, 1, 1, 1, 0, 0, 1, 0, 1, 0, 1, 1,\n",
              "        1, 1, 1, 0, 1, 1, 0, 1, 0, 1, 0, 0, 1, 1, 1, 0, 1, 1, 1, 1, 1, 1,\n",
              "        1, 1, 1, 1, 1, 0, 1, 0, 0, 1, 1, 1, 1, 1, 1, 1, 1, 1, 1, 1, 1, 1,\n",
              "        1, 1, 1, 1, 1, 1, 1, 1, 1, 1, 1, 1, 0, 0, 0, 0, 0, 0, 1]),\n",
              " 'target_names': array(['malignant', 'benign'], dtype='<U9')}"
            ]
          },
          "metadata": {
            "tags": []
          },
          "execution_count": 14
        }
      ]
    },
    {
      "cell_type": "code",
      "metadata": {
        "colab": {
          "base_uri": "https://localhost:8080/"
        },
        "id": "eTitxvAR9OB3",
        "outputId": "3fa275d5-b44b-4255-dc38-e2bc7ac5b47b"
      },
      "source": [
        "# dir(cancer)\n",
        "cancer.feature_names"
      ],
      "execution_count": null,
      "outputs": [
        {
          "output_type": "execute_result",
          "data": {
            "text/plain": [
              "array(['mean radius', 'mean texture', 'mean perimeter', 'mean area',\n",
              "       'mean smoothness', 'mean compactness', 'mean concavity',\n",
              "       'mean concave points', 'mean symmetry', 'mean fractal dimension',\n",
              "       'radius error', 'texture error', 'perimeter error', 'area error',\n",
              "       'smoothness error', 'compactness error', 'concavity error',\n",
              "       'concave points error', 'symmetry error',\n",
              "       'fractal dimension error', 'worst radius', 'worst texture',\n",
              "       'worst perimeter', 'worst area', 'worst smoothness',\n",
              "       'worst compactness', 'worst concavity', 'worst concave points',\n",
              "       'worst symmetry', 'worst fractal dimension'], dtype='<U23')"
            ]
          },
          "metadata": {
            "tags": []
          },
          "execution_count": 15
        }
      ]
    },
    {
      "cell_type": "code",
      "metadata": {
        "id": "8IsAxDhWN9sU"
      },
      "source": [
        "np.random.seed(9)\n",
        "# X_train, X_test, y_train, y_test = train_test_split(\n",
        "#    cancer.data, cancer.target, stratify=cancer.target) \n",
        "# stratify: If not None, data is split in a stratified fashion, using this as the class labels."
      ],
      "execution_count": null,
      "outputs": []
    },
    {
      "cell_type": "code",
      "metadata": {
        "id": "Z_SEYau39OB4"
      },
      "source": [
        "X_train, X_test, y_train, y_test = train_test_split(cancer.data, cancer.target) "
      ],
      "execution_count": null,
      "outputs": []
    },
    {
      "cell_type": "code",
      "metadata": {
        "colab": {
          "base_uri": "https://localhost:8080/"
        },
        "id": "8MjjZaYw9OB5",
        "outputId": "6d52240f-4bd1-48de-b941-7f014f870711"
      },
      "source": [
        "X_train.shape, y_train.shape"
      ],
      "execution_count": null,
      "outputs": [
        {
          "output_type": "execute_result",
          "data": {
            "text/plain": [
              "((426, 30), (426,))"
            ]
          },
          "metadata": {
            "tags": []
          },
          "execution_count": 18
        }
      ]
    },
    {
      "cell_type": "code",
      "metadata": {
        "colab": {
          "base_uri": "https://localhost:8080/"
        },
        "id": "Q66GQ37x9OB6",
        "outputId": "2bd28bca-fbe7-407e-e519-1fa13bbcf204"
      },
      "source": [
        "clf = DecisionTreeClassifier()\n",
        "clf.fit(X_train, y_train)\n",
        "print(clf.score(X_test, y_test))"
      ],
      "execution_count": null,
      "outputs": [
        {
          "output_type": "stream",
          "text": [
            "0.9370629370629371\n"
          ],
          "name": "stdout"
        }
      ]
    },
    {
      "cell_type": "code",
      "metadata": {
        "id": "pOEbvljF9OB6"
      },
      "source": [
        "# feature importance: is calculated as the decrease in node impurity \n",
        "# weighted by the probability of reaching that node. The node probability \n",
        "# can be calculated by the number of samples that reach the node, \n",
        "# divided by the total number of samples. The higher the value the more \n",
        "# important the feature. 결정트리를 만드는데 기여한 정도"
      ],
      "execution_count": null,
      "outputs": []
    },
    {
      "cell_type": "code",
      "metadata": {
        "colab": {
          "base_uri": "https://localhost:8080/"
        },
        "id": "va92V7Z7N9sY",
        "outputId": "f0277220-7f55-4ef7-d3a6-f57fbd67b266"
      },
      "source": [
        "list(zip(cancer.feature_names, clf.feature_importances_.round(4)))"
      ],
      "execution_count": null,
      "outputs": [
        {
          "output_type": "execute_result",
          "data": {
            "text/plain": [
              "[('mean radius', 0.0074),\n",
              " ('mean texture', 0.043),\n",
              " ('mean perimeter', 0.0),\n",
              " ('mean area', 0.0),\n",
              " ('mean smoothness', 0.0),\n",
              " ('mean compactness', 0.0),\n",
              " ('mean concavity', 0.0),\n",
              " ('mean concave points', 0.0),\n",
              " ('mean symmetry', 0.0),\n",
              " ('mean fractal dimension', 0.0),\n",
              " ('radius error', 0.0),\n",
              " ('texture error', 0.0),\n",
              " ('perimeter error', 0.0),\n",
              " ('area error', 0.0033),\n",
              " ('smoothness error', 0.0),\n",
              " ('compactness error', 0.0188),\n",
              " ('concavity error', 0.0),\n",
              " ('concave points error', 0.0),\n",
              " ('symmetry error', 0.0093),\n",
              " ('fractal dimension error', 0.0),\n",
              " ('worst radius', 0.7116),\n",
              " ('worst texture', 0.0591),\n",
              " ('worst perimeter', 0.0),\n",
              " ('worst area', 0.0),\n",
              " ('worst smoothness', 0.0),\n",
              " ('worst compactness', 0.0211),\n",
              " ('worst concavity', 0.0106),\n",
              " ('worst concave points', 0.1157),\n",
              " ('worst symmetry', 0.0),\n",
              " ('worst fractal dimension', 0.0)]"
            ]
          },
          "metadata": {
            "tags": []
          },
          "execution_count": 21
        }
      ]
    },
    {
      "cell_type": "code",
      "metadata": {
        "id": "KR52om1VN9sb"
      },
      "source": [
        "df = pd.DataFrame({'feature':cancer.feature_names,'importance':clf.feature_importances_ })"
      ],
      "execution_count": null,
      "outputs": []
    },
    {
      "cell_type": "code",
      "metadata": {
        "colab": {
          "base_uri": "https://localhost:8080/",
          "height": 986
        },
        "id": "zRlDpyLAN9se",
        "outputId": "878ae5f8-7966-4647-b457-5ed987f780ba"
      },
      "source": [
        "df"
      ],
      "execution_count": null,
      "outputs": [
        {
          "output_type": "execute_result",
          "data": {
            "text/html": [
              "<div>\n",
              "<style scoped>\n",
              "    .dataframe tbody tr th:only-of-type {\n",
              "        vertical-align: middle;\n",
              "    }\n",
              "\n",
              "    .dataframe tbody tr th {\n",
              "        vertical-align: top;\n",
              "    }\n",
              "\n",
              "    .dataframe thead th {\n",
              "        text-align: right;\n",
              "    }\n",
              "</style>\n",
              "<table border=\"1\" class=\"dataframe\">\n",
              "  <thead>\n",
              "    <tr style=\"text-align: right;\">\n",
              "      <th></th>\n",
              "      <th>feature</th>\n",
              "      <th>importance</th>\n",
              "    </tr>\n",
              "  </thead>\n",
              "  <tbody>\n",
              "    <tr>\n",
              "      <th>0</th>\n",
              "      <td>mean radius</td>\n",
              "      <td>0.007389</td>\n",
              "    </tr>\n",
              "    <tr>\n",
              "      <th>1</th>\n",
              "      <td>mean texture</td>\n",
              "      <td>0.043044</td>\n",
              "    </tr>\n",
              "    <tr>\n",
              "      <th>2</th>\n",
              "      <td>mean perimeter</td>\n",
              "      <td>0.000000</td>\n",
              "    </tr>\n",
              "    <tr>\n",
              "      <th>3</th>\n",
              "      <td>mean area</td>\n",
              "      <td>0.000000</td>\n",
              "    </tr>\n",
              "    <tr>\n",
              "      <th>4</th>\n",
              "      <td>mean smoothness</td>\n",
              "      <td>0.000000</td>\n",
              "    </tr>\n",
              "    <tr>\n",
              "      <th>5</th>\n",
              "      <td>mean compactness</td>\n",
              "      <td>0.000000</td>\n",
              "    </tr>\n",
              "    <tr>\n",
              "      <th>6</th>\n",
              "      <td>mean concavity</td>\n",
              "      <td>0.000000</td>\n",
              "    </tr>\n",
              "    <tr>\n",
              "      <th>7</th>\n",
              "      <td>mean concave points</td>\n",
              "      <td>0.000000</td>\n",
              "    </tr>\n",
              "    <tr>\n",
              "      <th>8</th>\n",
              "      <td>mean symmetry</td>\n",
              "      <td>0.000000</td>\n",
              "    </tr>\n",
              "    <tr>\n",
              "      <th>9</th>\n",
              "      <td>mean fractal dimension</td>\n",
              "      <td>0.000000</td>\n",
              "    </tr>\n",
              "    <tr>\n",
              "      <th>10</th>\n",
              "      <td>radius error</td>\n",
              "      <td>0.000000</td>\n",
              "    </tr>\n",
              "    <tr>\n",
              "      <th>11</th>\n",
              "      <td>texture error</td>\n",
              "      <td>0.000000</td>\n",
              "    </tr>\n",
              "    <tr>\n",
              "      <th>12</th>\n",
              "      <td>perimeter error</td>\n",
              "      <td>0.000000</td>\n",
              "    </tr>\n",
              "    <tr>\n",
              "      <th>13</th>\n",
              "      <td>area error</td>\n",
              "      <td>0.003323</td>\n",
              "    </tr>\n",
              "    <tr>\n",
              "      <th>14</th>\n",
              "      <td>smoothness error</td>\n",
              "      <td>0.000000</td>\n",
              "    </tr>\n",
              "    <tr>\n",
              "      <th>15</th>\n",
              "      <td>compactness error</td>\n",
              "      <td>0.018815</td>\n",
              "    </tr>\n",
              "    <tr>\n",
              "      <th>16</th>\n",
              "      <td>concavity error</td>\n",
              "      <td>0.000000</td>\n",
              "    </tr>\n",
              "    <tr>\n",
              "      <th>17</th>\n",
              "      <td>concave points error</td>\n",
              "      <td>0.000000</td>\n",
              "    </tr>\n",
              "    <tr>\n",
              "      <th>18</th>\n",
              "      <td>symmetry error</td>\n",
              "      <td>0.009318</td>\n",
              "    </tr>\n",
              "    <tr>\n",
              "      <th>19</th>\n",
              "      <td>fractal dimension error</td>\n",
              "      <td>0.000000</td>\n",
              "    </tr>\n",
              "    <tr>\n",
              "      <th>20</th>\n",
              "      <td>worst radius</td>\n",
              "      <td>0.711625</td>\n",
              "    </tr>\n",
              "    <tr>\n",
              "      <th>21</th>\n",
              "      <td>worst texture</td>\n",
              "      <td>0.059071</td>\n",
              "    </tr>\n",
              "    <tr>\n",
              "      <th>22</th>\n",
              "      <td>worst perimeter</td>\n",
              "      <td>0.000000</td>\n",
              "    </tr>\n",
              "    <tr>\n",
              "      <th>23</th>\n",
              "      <td>worst area</td>\n",
              "      <td>0.000000</td>\n",
              "    </tr>\n",
              "    <tr>\n",
              "      <th>24</th>\n",
              "      <td>worst smoothness</td>\n",
              "      <td>0.000000</td>\n",
              "    </tr>\n",
              "    <tr>\n",
              "      <th>25</th>\n",
              "      <td>worst compactness</td>\n",
              "      <td>0.021073</td>\n",
              "    </tr>\n",
              "    <tr>\n",
              "      <th>26</th>\n",
              "      <td>worst concavity</td>\n",
              "      <td>0.010635</td>\n",
              "    </tr>\n",
              "    <tr>\n",
              "      <th>27</th>\n",
              "      <td>worst concave points</td>\n",
              "      <td>0.115708</td>\n",
              "    </tr>\n",
              "    <tr>\n",
              "      <th>28</th>\n",
              "      <td>worst symmetry</td>\n",
              "      <td>0.000000</td>\n",
              "    </tr>\n",
              "    <tr>\n",
              "      <th>29</th>\n",
              "      <td>worst fractal dimension</td>\n",
              "      <td>0.000000</td>\n",
              "    </tr>\n",
              "  </tbody>\n",
              "</table>\n",
              "</div>"
            ],
            "text/plain": [
              "                    feature  importance\n",
              "0               mean radius    0.007389\n",
              "1              mean texture    0.043044\n",
              "2            mean perimeter    0.000000\n",
              "3                 mean area    0.000000\n",
              "4           mean smoothness    0.000000\n",
              "5          mean compactness    0.000000\n",
              "6            mean concavity    0.000000\n",
              "7       mean concave points    0.000000\n",
              "8             mean symmetry    0.000000\n",
              "9    mean fractal dimension    0.000000\n",
              "10             radius error    0.000000\n",
              "11            texture error    0.000000\n",
              "12          perimeter error    0.000000\n",
              "13               area error    0.003323\n",
              "14         smoothness error    0.000000\n",
              "15        compactness error    0.018815\n",
              "16          concavity error    0.000000\n",
              "17     concave points error    0.000000\n",
              "18           symmetry error    0.009318\n",
              "19  fractal dimension error    0.000000\n",
              "20             worst radius    0.711625\n",
              "21            worst texture    0.059071\n",
              "22          worst perimeter    0.000000\n",
              "23               worst area    0.000000\n",
              "24         worst smoothness    0.000000\n",
              "25        worst compactness    0.021073\n",
              "26          worst concavity    0.010635\n",
              "27     worst concave points    0.115708\n",
              "28           worst symmetry    0.000000\n",
              "29  worst fractal dimension    0.000000"
            ]
          },
          "metadata": {
            "tags": []
          },
          "execution_count": 23
        }
      ]
    },
    {
      "cell_type": "code",
      "metadata": {
        "colab": {
          "base_uri": "https://localhost:8080/"
        },
        "id": "yHLpdf83N9sj",
        "outputId": "08668f6a-4bd9-4d33-a33a-035459a02b5a"
      },
      "source": [
        "df=df.sort_values(by='importance', ascending=False) \n",
        "print(df.head(20))"
      ],
      "execution_count": null,
      "outputs": [
        {
          "output_type": "stream",
          "text": [
            "                   feature  importance\n",
            "20            worst radius    0.711625\n",
            "27    worst concave points    0.115708\n",
            "21           worst texture    0.059071\n",
            "1             mean texture    0.043044\n",
            "25       worst compactness    0.021073\n",
            "15       compactness error    0.018815\n",
            "26         worst concavity    0.010635\n",
            "18          symmetry error    0.009318\n",
            "0              mean radius    0.007389\n",
            "13              area error    0.003323\n",
            "9   mean fractal dimension    0.000000\n",
            "6           mean concavity    0.000000\n",
            "28          worst symmetry    0.000000\n",
            "2           mean perimeter    0.000000\n",
            "3                mean area    0.000000\n",
            "4          mean smoothness    0.000000\n",
            "24        worst smoothness    0.000000\n",
            "23              worst area    0.000000\n",
            "22         worst perimeter    0.000000\n",
            "5         mean compactness    0.000000\n"
          ],
          "name": "stdout"
        }
      ]
    },
    {
      "cell_type": "code",
      "metadata": {
        "colab": {
          "base_uri": "https://localhost:8080/"
        },
        "id": "48E7yVkQ9OB9",
        "outputId": "9dd55329-02bb-4b71-cecd-7fea2dad82e8"
      },
      "source": [
        "df.shape"
      ],
      "execution_count": null,
      "outputs": [
        {
          "output_type": "execute_result",
          "data": {
            "text/plain": [
              "(30, 2)"
            ]
          },
          "metadata": {
            "tags": []
          },
          "execution_count": 25
        }
      ]
    },
    {
      "cell_type": "code",
      "metadata": {
        "colab": {
          "base_uri": "https://localhost:8080/"
        },
        "id": "PMcgfzxe9OB9",
        "outputId": "0a23e628-d761-4ca3-f2fe-d916525675c3"
      },
      "source": [
        "len(df.feature)"
      ],
      "execution_count": null,
      "outputs": [
        {
          "output_type": "execute_result",
          "data": {
            "text/plain": [
              "30"
            ]
          },
          "metadata": {
            "tags": []
          },
          "execution_count": 26
        }
      ]
    },
    {
      "cell_type": "code",
      "metadata": {
        "colab": {
          "base_uri": "https://localhost:8080/",
          "height": 442
        },
        "id": "_i_E1kzaN9sp",
        "outputId": "57a5b4e9-8aff-4eff-f52e-d2d83bb4076b"
      },
      "source": [
        "x = df.feature\n",
        "y = df.importance\n",
        "ypos = np.arange(len(x))\n",
        "plt.figure(figsize=(10,7)) \n",
        "plt.barh(x, y) \n",
        "plt.yticks(ypos, x) \n",
        "plt.xlabel('Importance') \n",
        "plt.ylabel('Variable') \n",
        "plt.xlim(0, 1) \n",
        "plt.ylim(-1, len(x)) \n",
        "plt.show()"
      ],
      "execution_count": null,
      "outputs": [
        {
          "output_type": "display_data",
          "data": {
            "image/png": "[encoded data removed]",
            "text/plain": [
              "<Figure size 720x504 with 1 Axes>"
            ]
          },
          "metadata": {
            "tags": [],
            "needs_background": "light"
          }
        }
      ]
    },
    {
      "cell_type": "code",
      "metadata": {
        "colab": {
          "base_uri": "https://localhost:8080/",
          "height": 555
        },
        "id": "Uzq6NlY39OB-",
        "outputId": "cf49f215-4df6-415e-d8bd-11810b059f76"
      },
      "source": [
        "x = df.feature\n",
        "y = df.importance\n",
        "\n",
        "plt.figure(figsize=(10,7)) \n",
        "plt.bar(x, y) \n",
        "plt.ylabel('Importance') \n",
        "plt.xlabel('Variable') \n",
        "plt.xticks(rotation=90)\n",
        "plt.ylim(0, 1) \n",
        "plt.xlim(-1, len(x)) \n",
        "plt.show()"
      ],
      "execution_count": null,
      "outputs": [
        {
          "output_type": "display_data",
          "data": {
            "image/png": "[encoded data removed]",
            "text/plain": [
              "<Figure size 720x504 with 1 Axes>"
            ]
          },
          "metadata": {
            "tags": [],
            "needs_background": "light"
          }
        }
      ]
    },
    {
      "cell_type": "code",
      "metadata": {
        "colab": {
          "base_uri": "https://localhost:8080/"
        },
        "id": "gytYsnUY9OB_",
        "outputId": "6f432e28-fc91-47c4-d082-e6a5ee1de085"
      },
      "source": [
        "# exercise for tree regressor() ********************추후에*********\n",
        "from sklearn.tree import DecisionTreeRegressor\n",
        "from sklearn.model_selection import train_test_split\n",
        "X = iris.data[:,:2]\n",
        "y = iris.data[:,2]\n",
        "X_train, X_test, y_train, y_test = train_test_split(X, y, test_size=0.2)\n",
        "\n",
        "tr_reg1 = DecisionTreeRegressor(max_depth=2)\n",
        "tr_reg2 = DecisionTreeRegressor(max_depth=5)\n",
        "tr_reg1.fit(X_train,y_train)\n",
        "tr_reg2.fit(X_train,y_train)\n",
        "tr_reg1.score(X_test, y_test), tr_reg2.score(X_test, y_test)"
      ],
      "execution_count": null,
      "outputs": [
        {
          "output_type": "execute_result",
          "data": {
            "text/plain": [
              "(0.8273026760637123, 0.8239910886453354)"
            ]
          },
          "metadata": {
            "tags": []
          },
          "execution_count": 29
        }
      ]
    },
    {
      "cell_type": "code",
      "metadata": {
        "colab": {
          "base_uri": "https://localhost:8080/",
          "height": 369
        },
        "id": "XemW_fCr9OB_",
        "outputId": "d80122bd-e9c3-4db3-ddd6-67bd9ec1b16d"
      },
      "source": [
        "tree.plot_tree(tr_reg1, filled=True)"
      ],
      "execution_count": null,
      "outputs": [
        {
          "output_type": "execute_result",
          "data": {
            "text/plain": [
              "[Text(167.4, 181.2, 'X[0] <= 5.55\\nmse = 3.341\\nsamples = 120\\nvalue = 3.702'),\n",
              " Text(83.7, 108.72, 'X[1] <= 2.8\\nmse = 0.893\\nsamples = 48\\nvalue = 1.831'),\n",
              " Text(41.85, 36.23999999999998, 'mse = 1.017\\nsamples = 7\\nvalue = 3.6'),\n",
              " Text(125.55000000000001, 36.23999999999998, 'mse = 0.247\\nsamples = 41\\nvalue = 1.529'),\n",
              " Text(251.10000000000002, 108.72, 'X[0] <= 5.85\\nmse = 1.081\\nsamples = 72\\nvalue = 4.95'),\n",
              " Text(209.25, 36.23999999999998, 'mse = 1.361\\nsamples = 18\\nvalue = 3.856'),\n",
              " Text(292.95, 36.23999999999998, 'mse = 0.456\\nsamples = 54\\nvalue = 5.315')]"
            ]
          },
          "metadata": {
            "tags": []
          },
          "execution_count": 30
        },
        {
          "output_type": "display_data",
          "data": {
            "image/png": "[encoded data removed]",
            "text/plain": [
              "<Figure size 432x288 with 1 Axes>"
            ]
          },
          "metadata": {
            "tags": [],
            "needs_background": "light"
          }
        }
      ]
    },
    {
      "cell_type": "code",
      "metadata": {
        "colab": {
          "base_uri": "https://localhost:8080/",
          "height": 1000
        },
        "id": "qdbonI5l9OCA",
        "outputId": "331916c0-967f-411c-d552-d2e5c40daaaf"
      },
      "source": [
        "tree.plot_tree(tr_reg2, filled=True)"
      ],
      "execution_count": null,
      "outputs": [
        {
          "output_type": "execute_result",
          "data": {
            "text/plain": [
              "[Text(148.21875, 199.32, 'X[0] <= 5.55\\nmse = 3.341\\nsamples = 120\\nvalue = 3.702'),\n",
              " Text(61.03125000000001, 163.07999999999998, 'X[1] <= 2.8\\nmse = 0.893\\nsamples = 48\\nvalue = 1.831'),\n",
              " Text(20.925, 126.83999999999999, 'X[0] <= 4.7\\nmse = 1.017\\nsamples = 7\\nvalue = 3.6'),\n",
              " Text(13.950000000000001, 90.6, 'mse = 0.0\\nsamples = 1\\nvalue = 1.3'),\n",
              " Text(27.900000000000002, 90.6, 'X[1] <= 2.45\\nmse = 0.158\\nsamples = 6\\nvalue = 3.983'),\n",
              " Text(13.950000000000001, 54.359999999999985, 'X[0] <= 5.25\\nmse = 0.087\\nsamples = 3\\nvalue = 3.7'),\n",
              " Text(6.9750000000000005, 18.119999999999976, 'mse = 0.0\\nsamples = 1\\nvalue = 3.3'),\n",
              " Text(20.925, 18.119999999999976, 'mse = 0.01\\nsamples = 2\\nvalue = 3.9'),\n",
              " Text(41.85, 54.359999999999985, 'X[1] <= 2.65\\nmse = 0.069\\nsamples = 3\\nvalue = 4.267'),\n",
              " Text(34.875, 18.119999999999976, 'mse = 0.002\\nsamples = 2\\nvalue = 4.45'),\n",
              " Text(48.825, 18.119999999999976, 'mse = -0.0\\nsamples = 1\\nvalue = 3.9'),\n",
              " Text(101.1375, 126.83999999999999, 'X[0] <= 5.35\\nmse = 0.247\\nsamples = 41\\nvalue = 1.529'),\n",
              " Text(83.7, 90.6, 'X[0] <= 4.65\\nmse = 0.027\\nsamples = 33\\nvalue = 1.448'),\n",
              " Text(69.75, 54.359999999999985, 'X[1] <= 3.5\\nmse = 0.022\\nsamples = 7\\nvalue = 1.271'),\n",
              " Text(62.775000000000006, 18.119999999999976, 'mse = 0.011\\nsamples = 6\\nvalue = 1.317'),\n",
              " Text(76.72500000000001, 18.119999999999976, 'mse = 0.0\\nsamples = 1\\nvalue = 1.0'),\n",
              " Text(97.65, 54.359999999999985, 'X[1] <= 3.75\\nmse = 0.018\\nsamples = 26\\nvalue = 1.496'),\n",
              " Text(90.67500000000001, 18.119999999999976, 'mse = 0.013\\nsamples = 22\\nvalue = 1.473'),\n",
              " Text(104.62500000000001, 18.119999999999976, 'mse = 0.027\\nsamples = 4\\nvalue = 1.625'),\n",
              " Text(118.575, 90.6, 'X[1] <= 3.2\\nmse = 1.015\\nsamples = 8\\nvalue = 1.862'),\n",
              " Text(111.60000000000001, 54.359999999999985, 'mse = 0.0\\nsamples = 1\\nvalue = 4.5'),\n",
              " Text(125.55000000000001, 54.359999999999985, 'X[0] <= 5.45\\nmse = 0.024\\nsamples = 7\\nvalue = 1.486'),\n",
              " Text(118.575, 18.119999999999976, 'mse = 0.022\\nsamples = 5\\nvalue = 1.54'),\n",
              " Text(132.525, 18.119999999999976, 'mse = 0.002\\nsamples = 2\\nvalue = 1.35'),\n",
              " Text(235.40625000000003, 163.07999999999998, 'X[0] <= 5.85\\nmse = 1.081\\nsamples = 72\\nvalue = 4.95'),\n",
              " Text(191.81250000000003, 126.83999999999999, 'X[1] <= 3.4\\nmse = 1.361\\nsamples = 18\\nvalue = 3.856'),\n",
              " Text(167.4, 90.6, 'X[1] <= 2.65\\nmse = 0.256\\nsamples = 15\\nvalue = 4.333'),\n",
              " Text(153.45000000000002, 54.359999999999985, 'X[0] <= 5.75\\nmse = 0.062\\nsamples = 2\\nvalue = 3.75'),\n",
              " Text(146.47500000000002, 18.119999999999976, 'mse = 0.0\\nsamples = 1\\nvalue = 3.5'),\n",
              " Text(160.425, 18.119999999999976, 'mse = 0.0\\nsamples = 1\\nvalue = 4.0'),\n",
              " Text(181.35000000000002, 54.359999999999985, 'X[0] <= 5.75\\nmse = 0.225\\nsamples = 13\\nvalue = 4.423'),\n",
              " Text(174.375, 18.119999999999976, 'mse = 0.114\\nsamples = 9\\nvalue = 4.256'),\n",
              " Text(188.32500000000002, 18.119999999999976, 'mse = 0.27\\nsamples = 4\\nvalue = 4.8'),\n",
              " Text(216.22500000000002, 90.6, 'X[0] <= 5.75\\nmse = 0.042\\nsamples = 3\\nvalue = 1.467'),\n",
              " Text(209.25000000000003, 54.359999999999985, 'X[1] <= 4.1\\nmse = 0.01\\nsamples = 2\\nvalue = 1.6'),\n",
              " Text(202.275, 18.119999999999976, 'mse = 0.0\\nsamples = 1\\nvalue = 1.7'),\n",
              " Text(216.22500000000002, 18.119999999999976, 'mse = -0.0\\nsamples = 1\\nvalue = 1.5'),\n",
              " Text(223.20000000000002, 54.359999999999985, 'mse = 0.0\\nsamples = 1\\nvalue = 1.2'),\n",
              " Text(279.0, 126.83999999999999, 'X[0] <= 7.05\\nmse = 0.456\\nsamples = 54\\nvalue = 5.315'),\n",
              " Text(251.10000000000002, 90.6, 'X[1] <= 2.95\\nmse = 0.22\\nsamples = 44\\nvalue = 5.073'),\n",
              " Text(237.15, 54.359999999999985, 'X[1] <= 2.85\\nmse = 0.211\\nsamples = 19\\nvalue = 4.879'),\n",
              " Text(230.175, 18.119999999999976, 'mse = 0.219\\nsamples = 15\\nvalue = 4.973'),\n",
              " Text(244.12500000000003, 18.119999999999976, 'mse = 0.022\\nsamples = 4\\nvalue = 4.525'),\n",
              " Text(265.05, 54.359999999999985, 'X[0] <= 6.15\\nmse = 0.177\\nsamples = 25\\nvalue = 5.22'),\n",
              " Text(258.07500000000005, 18.119999999999976, 'mse = 0.033\\nsamples = 4\\nvalue = 4.85'),\n",
              " Text(272.02500000000003, 18.119999999999976, 'mse = 0.173\\nsamples = 21\\nvalue = 5.29'),\n",
              " Text(306.90000000000003, 90.6, 'X[0] <= 7.5\\nmse = 0.1\\nsamples = 10\\nvalue = 6.38'),\n",
              " Text(292.95000000000005, 54.359999999999985, 'X[0] <= 7.15\\nmse = 0.02\\nsamples = 4\\nvalue = 6.1'),\n",
              " Text(285.975, 18.119999999999976, 'mse = 0.0\\nsamples = 1\\nvalue = 5.9'),\n",
              " Text(299.925, 18.119999999999976, 'mse = 0.009\\nsamples = 3\\nvalue = 6.167'),\n",
              " Text(320.85, 54.359999999999985, 'X[1] <= 2.9\\nmse = 0.066\\nsamples = 6\\nvalue = 6.567'),\n",
              " Text(313.875, 18.119999999999976, 'mse = 0.01\\nsamples = 2\\nvalue = 6.8'),\n",
              " Text(327.82500000000005, 18.119999999999976, 'mse = 0.052\\nsamples = 4\\nvalue = 6.45')]"
            ]
          },
          "metadata": {
            "tags": []
          },
          "execution_count": 31
        },
        {
          "output_type": "display_data",
          "data": {
            "image/png": "[encoded data removed]",
            "text/plain": [
              "<Figure size 432x288 with 1 Axes>"
            ]
          },
          "metadata": {
            "tags": [],
            "needs_background": "light"
          }
        }
      ]
    },
    {
      "cell_type": "code",
      "metadata": {
        "id": "jtJ_-zzh9OCA"
      },
      "source": [
        ""
      ],
      "execution_count": null,
      "outputs": []
    }
  ]
}