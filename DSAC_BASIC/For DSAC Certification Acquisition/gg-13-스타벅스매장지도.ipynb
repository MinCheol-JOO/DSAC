{
 "cells": [
  {
   "cell_type": "markdown",
   "metadata": {
    "collapsed": true,
    "slideshow": {
     "slide_type": "slide"
    }
   },
   "source": [
    "# 스타벅스 매장 데이터와 지도\n",
    "\n",
    "\n",
    "* json_normalize(): JSON 데이터 DataFrame으로 전환\n",
    "* folium 을 사용하여 지도에 위치 표시"
   ]
  },
  {
   "cell_type": "markdown",
   "metadata": {
    "slideshow": {
     "slide_type": "slide"
    }
   },
   "source": [
    "# 스타벅스 매장찾기\n",
    "http://www.istarbucks.co.kr\n",
    "\n",
    "* STORE >> 매장 찾기\n",
    "* 지역검색 >> 서울 >> 전체"
   ]
  },
  {
   "cell_type": "code",
   "execution_count": 6,
   "metadata": {
    "slideshow": {
     "slide_type": "slide"
    }
   },
   "outputs": [],
   "source": [
    "import requests\n",
    "import json\n",
    "import pandas as pd\n",
    "from pandas.io.json import json_normalize\n",
    "# %config InlineBackend.figure_format = 'retina'    # retina(망막) display: 망막으로 구분할 수 없다는 뜻의 애플 용어"
   ]
  },
  {
   "cell_type": "code",
   "execution_count": 7,
   "metadata": {
    "slideshow": {
     "slide_type": "-"
    }
   },
   "outputs": [
    {
     "data": {
      "text/plain": [
       "'\\n<!DOCTYPE html>\\n<html>\\n<head lang=\"ko\">\\n\\t\\r\\n\\r\\n\\n\\n\\n\\n\\n\\n\\r\\n<meta http-equiv=\"X-UA-Compatible\" content=\"IE=edge\">\\r\\n<meta charset=\"utf-8\">\\r\\n<meta name=\"viewport\" content=\"width=device-width, initial-scale=1.0, maximum-scale=1.0, minimum-scale=1.0, user-scalable=no\">\\r\\n<meta property=\"og:type\"\\t\\tcontent=\"website\">\\r\\n<meta property=\"og:title\"\\t\\tcontent=\"Starbucks\">\\r\\n<meta property=\"og:url\"\\t\\t\\tcontent=\"https://www.starbucks.co.kr/\">\\r\\n<meta property=\"og:image\"\\t\\tcontent=\"https://image.istarbucks.co.kr/common/img/kakaotalk.png\">\\r\\n<meta property=\"og:description\" content=\"Starbucks\">\\r\\n\\r\\n<title id=\"titleJoin\">Starbucks Coffee Korea</title>\\r\\n<link rel=\"shortcut icon\" href=\"https://image.istarbucks.co.kr/common/img/common/favicon.ico?v=200828\" type=\"image/ico\"> <!-- 20200827 파비콘 교체 및 CDN 변수처리 -->\\r\\n<link href=\"/common/css/reset.css\" rel=\"stylesheet\">\\r\\n<link href=\"/common/css/style.css?v=200130\" rel=\"stylesheet\">\\r\\n<link href=\"/common/css/jquery.bxslider.css\" rel=\"stylesheet\">\\r\\n<link href=\"/common/css/idangerou'"
      ]
     },
     "execution_count": 7,
     "metadata": {},
     "output_type": "execute_result"
    }
   ],
   "source": [
    "data = {\n",
    "    'ins_lat':'37.56682', # 지정한 위도와 경도에서 가까운 순으로 나열\n",
    "    'ins_lng':'126.97865',\n",
    "    'p_sido_cd':'01', # 01=서울시, 08=경기 ... 16=제주\n",
    "    'p_gugun_cd':'',  # 세부지역 (지정하지 않으면 시/도 전체)\n",
    "    'in_biz_cd':'',\n",
    "    'set_date':'',\n",
    "    'iend':'1000',\n",
    "}\n",
    "    \n",
    "url = 'https://www.istarbucks.co.kr/store/getStore.do'\n",
    "r = requests.post(url, data=data)\n",
    "\n",
    "r.text[:1000] # 수신된 데이터의 앞부분만 확인"
   ]
  },
  {
   "cell_type": "markdown",
   "metadata": {
    "slideshow": {
     "slide_type": "slide"
    }
   },
   "source": [
    "데이터는 JSON으로 수신되며, 형태는 다음과 같다.\n",
    "\n",
    "```json\n",
    "{\n",
    "  \"list\": [\n",
    "      {\n",
    "            // ... 중략 ...\n",
    "            \"s_code\": \"1311\",\n",
    "            \"s_name\": \"방화DT\",\n",
    "            \"tel\": \"02-2664-3480\",\n",
    "            \"fax\": \"02-2664-3481\",\n",
    "            \"sido_code\": \"01\",\n",
    "            \"sido_name\": \"서울\",\n",
    "            \"gugun_code\": \"0103\",\n",
    "            \"gugun_name\": \"강서구\",\n",
    "            \"addr\": \"서울특별시 강서구 방화동 293-4\",\n",
    "            \"park_info\": null,\n",
    "            \"new_state\": null,\n",
    "            \"theme_state\": \"T17@T16@T09@T20@T01@T05@T08@T04\",\n",
    "            // ... 중략 ...\n",
    "            \"lat\": \"37.574339\",\n",
    "            \"lot\": \"126.816415\",\n",
    "            \"t22\": 0\n",
    "        },\n",
    "        {\n",
    "            // ... 중략 ...\n",
    "            \"s_code\": \"1267\",\n",
    "            \"s_name\": \"마곡나루역\",\n",
    "            \"tel\": \"02-3662-3504\",\n",
    "            \"fax\": \"02-3662-3505\",\n",
    "            \"sido_code\": \"01\",\n",
    "            \"sido_name\": \"서울\",\n",
    "            \"gugun_code\": \"0103\",\n",
    "            \"gugun_name\": \"강서구\",\n",
    "            \"addr\": \"서울특별시 강서구 마곡동 759-3 보타닉파크타워Ⅰ105,203,204호\",\n",
    "            \"park_info\": null,\n",
    "            \"new_state\": null,\n",
    "            \"theme_state\": \"T08@T05@T04@T17@T16@P80@T20\",\n",
    "            // ... 중략 ...\n",
    "            \"lat\": \"37.56813\",\n",
    "            \"lot\": \"126.82614\",\n",
    "            \"t22\": 0\n",
    "        },\n",
    "    ]\n",
    " }\n",
    "```"
   ]
  },
  {
   "cell_type": "markdown",
   "metadata": {
    "slideshow": {
     "slide_type": "slide"
    }
   },
   "source": [
    "# JSON to DataFrame\n",
    "\n",
    "json_normalize() 를 사용하여 JSON 데이터를 DataFrame로 전환 "
   ]
  },
  {
   "cell_type": "code",
   "execution_count": 8,
   "metadata": {
    "slideshow": {
     "slide_type": "-"
    }
   },
   "outputs": [
    {
     "ename": "JSONDecodeError",
     "evalue": "Expecting value: line 2 column 1 (char 1)",
     "output_type": "error",
     "traceback": [
      "\u001b[1;31m---------------------------------------------------------------------------\u001b[0m",
      "\u001b[1;31mJSONDecodeError\u001b[0m                           Traceback (most recent call last)",
      "\u001b[1;32m<ipython-input-8-a44ac8347758>\u001b[0m in \u001b[0;36m<module>\u001b[1;34m\u001b[0m\n\u001b[1;32m----> 1\u001b[1;33m \u001b[0mjo\u001b[0m \u001b[1;33m=\u001b[0m \u001b[0mjson\u001b[0m\u001b[1;33m.\u001b[0m\u001b[0mloads\u001b[0m\u001b[1;33m(\u001b[0m\u001b[0mr\u001b[0m\u001b[1;33m.\u001b[0m\u001b[0mtext\u001b[0m\u001b[1;33m)\u001b[0m\u001b[1;33m\u001b[0m\u001b[1;33m\u001b[0m\u001b[0m\n\u001b[0m",
      "\u001b[1;32m~\\anaconda3\\lib\\json\\__init__.py\u001b[0m in \u001b[0;36mloads\u001b[1;34m(s, cls, object_hook, parse_float, parse_int, parse_constant, object_pairs_hook, **kw)\u001b[0m\n\u001b[0;32m    355\u001b[0m             \u001b[0mparse_int\u001b[0m \u001b[1;32mis\u001b[0m \u001b[1;32mNone\u001b[0m \u001b[1;32mand\u001b[0m \u001b[0mparse_float\u001b[0m \u001b[1;32mis\u001b[0m \u001b[1;32mNone\u001b[0m \u001b[1;32mand\u001b[0m\u001b[1;33m\u001b[0m\u001b[1;33m\u001b[0m\u001b[0m\n\u001b[0;32m    356\u001b[0m             parse_constant is None and object_pairs_hook is None and not kw):\n\u001b[1;32m--> 357\u001b[1;33m         \u001b[1;32mreturn\u001b[0m \u001b[0m_default_decoder\u001b[0m\u001b[1;33m.\u001b[0m\u001b[0mdecode\u001b[0m\u001b[1;33m(\u001b[0m\u001b[0ms\u001b[0m\u001b[1;33m)\u001b[0m\u001b[1;33m\u001b[0m\u001b[1;33m\u001b[0m\u001b[0m\n\u001b[0m\u001b[0;32m    358\u001b[0m     \u001b[1;32mif\u001b[0m \u001b[0mcls\u001b[0m \u001b[1;32mis\u001b[0m \u001b[1;32mNone\u001b[0m\u001b[1;33m:\u001b[0m\u001b[1;33m\u001b[0m\u001b[1;33m\u001b[0m\u001b[0m\n\u001b[0;32m    359\u001b[0m         \u001b[0mcls\u001b[0m \u001b[1;33m=\u001b[0m \u001b[0mJSONDecoder\u001b[0m\u001b[1;33m\u001b[0m\u001b[1;33m\u001b[0m\u001b[0m\n",
      "\u001b[1;32m~\\anaconda3\\lib\\json\\decoder.py\u001b[0m in \u001b[0;36mdecode\u001b[1;34m(self, s, _w)\u001b[0m\n\u001b[0;32m    335\u001b[0m \u001b[1;33m\u001b[0m\u001b[0m\n\u001b[0;32m    336\u001b[0m         \"\"\"\n\u001b[1;32m--> 337\u001b[1;33m         \u001b[0mobj\u001b[0m\u001b[1;33m,\u001b[0m \u001b[0mend\u001b[0m \u001b[1;33m=\u001b[0m \u001b[0mself\u001b[0m\u001b[1;33m.\u001b[0m\u001b[0mraw_decode\u001b[0m\u001b[1;33m(\u001b[0m\u001b[0ms\u001b[0m\u001b[1;33m,\u001b[0m \u001b[0midx\u001b[0m\u001b[1;33m=\u001b[0m\u001b[0m_w\u001b[0m\u001b[1;33m(\u001b[0m\u001b[0ms\u001b[0m\u001b[1;33m,\u001b[0m \u001b[1;36m0\u001b[0m\u001b[1;33m)\u001b[0m\u001b[1;33m.\u001b[0m\u001b[0mend\u001b[0m\u001b[1;33m(\u001b[0m\u001b[1;33m)\u001b[0m\u001b[1;33m)\u001b[0m\u001b[1;33m\u001b[0m\u001b[1;33m\u001b[0m\u001b[0m\n\u001b[0m\u001b[0;32m    338\u001b[0m         \u001b[0mend\u001b[0m \u001b[1;33m=\u001b[0m \u001b[0m_w\u001b[0m\u001b[1;33m(\u001b[0m\u001b[0ms\u001b[0m\u001b[1;33m,\u001b[0m \u001b[0mend\u001b[0m\u001b[1;33m)\u001b[0m\u001b[1;33m.\u001b[0m\u001b[0mend\u001b[0m\u001b[1;33m(\u001b[0m\u001b[1;33m)\u001b[0m\u001b[1;33m\u001b[0m\u001b[1;33m\u001b[0m\u001b[0m\n\u001b[0;32m    339\u001b[0m         \u001b[1;32mif\u001b[0m \u001b[0mend\u001b[0m \u001b[1;33m!=\u001b[0m \u001b[0mlen\u001b[0m\u001b[1;33m(\u001b[0m\u001b[0ms\u001b[0m\u001b[1;33m)\u001b[0m\u001b[1;33m:\u001b[0m\u001b[1;33m\u001b[0m\u001b[1;33m\u001b[0m\u001b[0m\n",
      "\u001b[1;32m~\\anaconda3\\lib\\json\\decoder.py\u001b[0m in \u001b[0;36mraw_decode\u001b[1;34m(self, s, idx)\u001b[0m\n\u001b[0;32m    353\u001b[0m             \u001b[0mobj\u001b[0m\u001b[1;33m,\u001b[0m \u001b[0mend\u001b[0m \u001b[1;33m=\u001b[0m \u001b[0mself\u001b[0m\u001b[1;33m.\u001b[0m\u001b[0mscan_once\u001b[0m\u001b[1;33m(\u001b[0m\u001b[0ms\u001b[0m\u001b[1;33m,\u001b[0m \u001b[0midx\u001b[0m\u001b[1;33m)\u001b[0m\u001b[1;33m\u001b[0m\u001b[1;33m\u001b[0m\u001b[0m\n\u001b[0;32m    354\u001b[0m         \u001b[1;32mexcept\u001b[0m \u001b[0mStopIteration\u001b[0m \u001b[1;32mas\u001b[0m \u001b[0merr\u001b[0m\u001b[1;33m:\u001b[0m\u001b[1;33m\u001b[0m\u001b[1;33m\u001b[0m\u001b[0m\n\u001b[1;32m--> 355\u001b[1;33m             \u001b[1;32mraise\u001b[0m \u001b[0mJSONDecodeError\u001b[0m\u001b[1;33m(\u001b[0m\u001b[1;34m\"Expecting value\"\u001b[0m\u001b[1;33m,\u001b[0m \u001b[0ms\u001b[0m\u001b[1;33m,\u001b[0m \u001b[0merr\u001b[0m\u001b[1;33m.\u001b[0m\u001b[0mvalue\u001b[0m\u001b[1;33m)\u001b[0m \u001b[1;32mfrom\u001b[0m \u001b[1;32mNone\u001b[0m\u001b[1;33m\u001b[0m\u001b[1;33m\u001b[0m\u001b[0m\n\u001b[0m\u001b[0;32m    356\u001b[0m         \u001b[1;32mreturn\u001b[0m \u001b[0mobj\u001b[0m\u001b[1;33m,\u001b[0m \u001b[0mend\u001b[0m\u001b[1;33m\u001b[0m\u001b[1;33m\u001b[0m\u001b[0m\n",
      "\u001b[1;31mJSONDecodeError\u001b[0m: Expecting value: line 2 column 1 (char 1)"
     ]
    }
   ],
   "source": [
    "jo = json.loads(r.text)"
   ]
  },
  {
   "cell_type": "code",
   "execution_count": null,
   "metadata": {},
   "outputs": [],
   "source": [
    "# jo"
   ]
  },
  {
   "cell_type": "code",
   "execution_count": null,
   "metadata": {
    "slideshow": {
     "slide_type": "-"
    }
   },
   "outputs": [],
   "source": [
    "df = json_normalize(jo, 'list')"
   ]
  },
  {
   "cell_type": "code",
   "execution_count": null,
   "metadata": {},
   "outputs": [],
   "source": [
    "# df"
   ]
  },
  {
   "cell_type": "code",
   "execution_count": null,
   "metadata": {
    "slideshow": {
     "slide_type": "-"
    }
   },
   "outputs": [],
   "source": [
    "# 행(row)수, 서울 457개 매장\n",
    "len(df) "
   ]
  },
  {
   "cell_type": "code",
   "execution_count": null,
   "metadata": {
    "slideshow": {
     "slide_type": "subslide"
    }
   },
   "outputs": [],
   "source": [
    "# 컬럼수 111개\n",
    "df.columns"
   ]
  },
  {
   "cell_type": "code",
   "execution_count": null,
   "metadata": {
    "slideshow": {
     "slide_type": "-"
    }
   },
   "outputs": [],
   "source": [
    "# 주요한 컬럼 몇 가지 선택\n",
    "               \n",
    "df = df[['s_name', 'lat', 'lot', 'sido_name', 'gugun_name', 'doro_address', 'tel']]\n",
    "df.head(20)"
   ]
  },
  {
   "cell_type": "markdown",
   "metadata": {
    "slideshow": {
     "slide_type": "slide"
    }
   },
   "source": [
    "# 위도 경도 데이터 타입 변환"
   ]
  },
  {
   "cell_type": "code",
   "execution_count": null,
   "metadata": {
    "slideshow": {
     "slide_type": "-"
    }
   },
   "outputs": [],
   "source": [
    "df.dtypes"
   ]
  },
  {
   "cell_type": "markdown",
   "metadata": {
    "slideshow": {
     "slide_type": "subslide"
    }
   },
   "source": [
    "### lat, lot타입으로 전환 (str→float) "
   ]
  },
  {
   "cell_type": "code",
   "execution_count": null,
   "metadata": {
    "slideshow": {
     "slide_type": "-"
    }
   },
   "outputs": [],
   "source": [
    "df['lat'] = df['lat'].astype(float)\n",
    "df['lot'] = df['lot'].astype(float)"
   ]
  },
  {
   "cell_type": "code",
   "execution_count": null,
   "metadata": {
    "slideshow": {
     "slide_type": "-"
    }
   },
   "outputs": [],
   "source": [
    "df.dtypes"
   ]
  },
  {
   "cell_type": "code",
   "execution_count": null,
   "metadata": {},
   "outputs": [],
   "source": [
    "df.head()"
   ]
  },
  {
   "cell_type": "markdown",
   "metadata": {
    "slideshow": {
     "slide_type": "subslide"
    }
   },
   "source": [
    "### 특정 지점"
   ]
  },
  {
   "cell_type": "code",
   "execution_count": null,
   "metadata": {
    "slideshow": {
     "slide_type": "-"
    }
   },
   "outputs": [],
   "source": [
    "df[df['s_name'] == '시청'] # 시청점"
   ]
  },
  {
   "cell_type": "markdown",
   "metadata": {
    "slideshow": {
     "slide_type": "-"
    }
   },
   "source": [
    "스타벅스 시청점의 위도(lat)와 경도(lot)는 각각  37.56629, 126.979808"
   ]
  },
  {
   "cell_type": "markdown",
   "metadata": {
    "slideshow": {
     "slide_type": "slide"
    }
   },
   "source": [
    "# folium\n",
    "https://github.com/python-visualization/folium\n",
    "\n",
    "파이썬 지리정보 시각화 모듈  (문서: https://folium.readthedocs.io )"
   ]
  },
  {
   "cell_type": "code",
   "execution_count": null,
   "metadata": {},
   "outputs": [],
   "source": [
    "!pip install folium"
   ]
  },
  {
   "cell_type": "code",
   "execution_count": null,
   "metadata": {
    "slideshow": {
     "slide_type": "-"
    }
   },
   "outputs": [],
   "source": [
    "import folium\n",
    "\n",
    "# 서울 시청 \n",
    "map_osm = folium.Map(location=(37.56629, 126.979808))\n",
    "map_osm"
   ]
  },
  {
   "cell_type": "markdown",
   "metadata": {
    "slideshow": {
     "slide_type": "-"
    }
   },
   "source": [
    "지도를 상하좌우로 움직이거나 확대/축소 할 수 있다"
   ]
  },
  {
   "cell_type": "code",
   "execution_count": null,
   "metadata": {
    "slideshow": {
     "slide_type": "subslide"
    }
   },
   "outputs": [],
   "source": [
    "# 확대 지정 (zoom_start)\n",
    "map_osm = folium.Map(location=(37.56629, 126.979808), zoom_start=17)\n",
    "map_osm"
   ]
  },
  {
   "cell_type": "code",
   "execution_count": null,
   "metadata": {
    "slideshow": {
     "slide_type": "subslide"
    }
   },
   "outputs": [],
   "source": [
    "# 지도 tiles 지정\n",
    "# map_osm = folium.Map(location=(37.56629, 126.979808), zoom_start=17, tiles='Stamen Toner')\n",
    "map_osm = folium.Map(location=(37.56629, 126.979808), zoom_start=17)\n",
    "map_osm"
   ]
  },
  {
   "cell_type": "code",
   "execution_count": null,
   "metadata": {
    "slideshow": {
     "slide_type": "subslide"
    }
   },
   "outputs": [],
   "source": [
    "시청_좌표=(37.56629, 126.979808)\n",
    " \n",
    "map_osm = folium.Map(location=시청_좌표, zoom_start=17)\n",
    "folium.Marker(시청_좌표, popup='시청').add_to(map_osm)\n",
    "map_osm"
   ]
  },
  {
   "cell_type": "markdown",
   "metadata": {
    "slideshow": {
     "slide_type": "slide"
    }
   },
   "source": [
    "# 서울 스타벅스 전 지점"
   ]
  },
  {
   "cell_type": "code",
   "execution_count": null,
   "metadata": {
    "slideshow": {
     "slide_type": "-"
    }
   },
   "outputs": [],
   "source": [
    "map_osm = folium.Map(location=시청_좌표, zoom_start=11)\n",
    "\n",
    "for ix, row in df.iterrows():\n",
    "    location = (row['lat'], row['lot'])\n",
    "    folium.Marker(location, popup=row['s_name']).add_to(map_osm)\n",
    "\n",
    "map_osm"
   ]
  },
  {
   "cell_type": "markdown",
   "metadata": {
    "slideshow": {
     "slide_type": "slide"
    }
   },
   "source": [
    "# 제주도 스타벅스 매장 지도"
   ]
  },
  {
   "cell_type": "code",
   "execution_count": null,
   "metadata": {
    "slideshow": {
     "slide_type": "-"
    }
   },
   "outputs": [],
   "source": [
    "import requests\n",
    "import json\n",
    "import pandas as pd\n",
    "from pandas.io.json import json_normalize\n",
    "\n",
    "한라산_좌표 = (33.361666, 126.529166)\n",
    "\n",
    "data = {\n",
    "    'ins_lat': '33.4996213', # 제주 시청의 좌표\n",
    "    'ins_lng': '126.5311884',\n",
    "    'p_sido_cd':'16', # 01=서울시, 08=경기 ... 16=제주\n",
    "    'p_gugun_cd':'',  # 세부지역 (지정하지 않으면 시/도 전체)\n",
    "    'in_biz_cd':'',\n",
    "    'set_date':'',\n",
    "    'iend':'1000',\n",
    "}\n",
    "    \n",
    "url = 'https://www.istarbucks.co.kr/store/getStore.do'\n",
    "r = requests.post(url, data=data)\n",
    "df = json_normalize(json.loads(r.text), 'list')\n",
    "\n",
    "map_osm = folium.Map(location=(33.361666, 126.529166), zoom_start=10)\n",
    "for ix, row in df.iterrows():\n",
    "    location = (row['lat'], row['lot'])\n",
    "    folium.Marker(location, popup=row['s_name']).add_to(map_osm)\n",
    "\n",
    "map_osm"
   ]
  },
  {
   "cell_type": "code",
   "execution_count": null,
   "metadata": {
    "slideshow": {
     "slide_type": "subslide"
    }
   },
   "outputs": [],
   "source": [
    "df[['s_name', 'gugun_name', 'doro_address', 'tel']]"
   ]
  },
  {
   "cell_type": "markdown",
   "metadata": {
    "slideshow": {
     "slide_type": "slide"
    }
   },
   "source": [
    "# 요약\n",
    "* requests.post() 데이터 가져오기\n",
    "* json_normalize(): JSON 데이터 DataFrame으로 전환\n",
    "* folium 을 사용하여 지도에 위치 표시"
   ]
  },
  {
   "cell_type": "markdown",
   "metadata": {
    "slideshow": {
     "slide_type": "notes"
    }
   },
   "source": [
    "### 2018 FinanceData.KR [fb.com/financedata](fb.com/financedata)"
   ]
  }
 ],
 "metadata": {
  "kernelspec": {
   "display_name": "Python 3",
   "language": "python",
   "name": "python3"
  },
  "language_info": {
   "codemirror_mode": {
    "name": "ipython",
    "version": 3
   },
   "file_extension": ".py",
   "mimetype": "text/x-python",
   "name": "python",
   "nbconvert_exporter": "python",
   "pygments_lexer": "ipython3",
   "version": "3.8.3"
  },
  "nikola": {
   "category": "dev",
   "date": "2018-04-06 02:30:10 UTC+09:00",
   "description": "스타벅스 매장 데이터 수집과 지도에 시각화",
   "link": "",
   "slug": "python_starbucks_map",
   "tags": "python, starbucks, map",
   "title": "부동산 - 스타벅스 매장 데이터와 지도",
   "type": "text"
  }
 },
 "nbformat": 4,
 "nbformat_minor": 2
}
