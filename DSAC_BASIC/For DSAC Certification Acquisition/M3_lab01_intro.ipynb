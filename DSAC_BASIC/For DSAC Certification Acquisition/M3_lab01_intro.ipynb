{
  "nbformat": 4,
  "nbformat_minor": 0,
  "metadata": {
    "colab": {
      "name": "hallym_lab01_intro.ipynb",
      "provenance": [],
      "collapsed_sections": [],
      "authorship_tag": "ABX9TyO+yT7lRxpZ36Ah5bogoy5q",
      "include_colab_link": true
    },
    "kernelspec": {
      "name": "python3",
      "display_name": "Python 3"
    }
  },
  "cells": [
    {
      "cell_type": "markdown",
      "metadata": {
        "id": "view-in-github",
        "colab_type": "text"
      },
      "source": [
        "<a href=\"https://colab.research.google.com/github/rtajeong/Hallym_univ_M34/blob/main/hallym_lab01_intro.ipynb\" target=\"_parent\"><img src=\"https://colab.research.google.com/assets/colab-badge.svg\" alt=\"Open In Colab\"/></a>"
      ]
    },
    {
      "cell_type": "markdown",
      "metadata": {
        "id": "2EZzBEe8i6ZO"
      },
      "source": [
        "# Numpy 연습"
      ]
    },
    {
      "cell_type": "code",
      "metadata": {
        "id": "ujovJ7vHgBdS"
      },
      "source": [
        "import numpy as np"
      ],
      "execution_count": null,
      "outputs": []
    },
    {
      "cell_type": "markdown",
      "metadata": {
        "id": "zUTx5YnflCLt"
      },
      "source": [
        "## method 1 - c-style code"
      ]
    },
    {
      "cell_type": "code",
      "metadata": {
        "colab": {
          "base_uri": "https://localhost:8080/"
        },
        "id": "Hv5pbmPDi3Ym",
        "outputId": "cab868a2-5328-46e4-f336-3c38a220aa9e"
      },
      "source": [
        "N = 100000\r\n",
        "x = np.random.rand(N)   # uniform random number in (0,1)\r\n",
        "y = np.random.rand(N)\r\n",
        "cnt = 0\r\n",
        "for i in range(N):\r\n",
        "  if x[i]**2 + y[i]**2 < 1.0:\r\n",
        "    cnt += 1\r\n",
        "  else:\r\n",
        "    continue\r\n",
        "pi = cnt/N * 4\r\n",
        "print(pi)"
      ],
      "execution_count": null,
      "outputs": [
        {
          "output_type": "stream",
          "text": [
            "3.14528\n"
          ],
          "name": "stdout"
        }
      ]
    },
    {
      "cell_type": "markdown",
      "metadata": {
        "id": "DP5vkUWqk_gN"
      },
      "source": [
        "## method 2 - python style"
      ]
    },
    {
      "cell_type": "code",
      "metadata": {
        "id": "F_2C0hRsiytL"
      },
      "source": [
        "N = 10\r\n",
        "x = np.random.rand(N) \r\n",
        "y = np.random.rand(N)"
      ],
      "execution_count": null,
      "outputs": []
    },
    {
      "cell_type": "code",
      "metadata": {
        "colab": {
          "base_uri": "https://localhost:8080/"
        },
        "id": "riN9JnsblLOd",
        "outputId": "319c8de8-c0c7-45e7-94ae-829f05c6c0da"
      },
      "source": [
        "x.round(2), y.round(2)"
      ],
      "execution_count": null,
      "outputs": [
        {
          "output_type": "execute_result",
          "data": {
            "text/plain": [
              "(array([0.99, 0.22, 0.25, 0.75, 0.58, 0.92, 0.56, 0.48, 0.45, 0.75]),\n",
              " array([0.3 , 0.98, 0.8 , 0.77, 0.2 , 0.43, 0.85, 0.12, 0.25, 0.45]))"
            ]
          },
          "metadata": {
            "tags": []
          },
          "execution_count": 21
        }
      ]
    },
    {
      "cell_type": "code",
      "metadata": {
        "colab": {
          "base_uri": "https://localhost:8080/"
        },
        "id": "pGqe4eJClL1s",
        "outputId": "da7fcde0-faaa-4dbe-b79f-d55ba189a7ff"
      },
      "source": [
        "x**2, y**2"
      ],
      "execution_count": null,
      "outputs": [
        {
          "output_type": "execute_result",
          "data": {
            "text/plain": [
              "(array([0.97701498, 0.04852492, 0.0607614 , 0.55618185, 0.33995878,\n",
              "        0.84375887, 0.31903243, 0.22905773, 0.20337476, 0.56265046]),\n",
              " array([0.08835363, 0.95384955, 0.63382269, 0.59417834, 0.03948562,\n",
              "        0.18453433, 0.71607795, 0.01530881, 0.0625175 , 0.2041435 ]))"
            ]
          },
          "metadata": {
            "tags": []
          },
          "execution_count": 22
        }
      ]
    },
    {
      "cell_type": "code",
      "metadata": {
        "colab": {
          "base_uri": "https://localhost:8080/"
        },
        "id": "_oZe7_-_lRSG",
        "outputId": "67b12f59-0419-45d6-fbf9-562301307533"
      },
      "source": [
        "x**2 + y**2"
      ],
      "execution_count": null,
      "outputs": [
        {
          "output_type": "execute_result",
          "data": {
            "text/plain": [
              "array([1.06536861, 1.00237447, 0.69458408, 1.15036018, 0.3794444 ,\n",
              "       1.0282932 , 1.03511038, 0.24436654, 0.26589226, 0.76679396])"
            ]
          },
          "metadata": {
            "tags": []
          },
          "execution_count": 23
        }
      ]
    },
    {
      "cell_type": "code",
      "metadata": {
        "colab": {
          "base_uri": "https://localhost:8080/"
        },
        "id": "pqrBB2eDlgBz",
        "outputId": "73f552dd-8243-4e8d-d3db-3e2462cd9cbf"
      },
      "source": [
        "x**2 + y**2 < 1.0"
      ],
      "execution_count": null,
      "outputs": [
        {
          "output_type": "execute_result",
          "data": {
            "text/plain": [
              "array([False, False,  True, False,  True, False, False,  True,  True,\n",
              "        True])"
            ]
          },
          "metadata": {
            "tags": []
          },
          "execution_count": 24
        }
      ]
    },
    {
      "cell_type": "code",
      "metadata": {
        "colab": {
          "base_uri": "https://localhost:8080/"
        },
        "id": "fidyOSHLllXZ",
        "outputId": "c5889e68-2fd9-42f0-ef67-00504f516ffe"
      },
      "source": [
        "(x**2 + y**2 < 1.0).sum()"
      ],
      "execution_count": null,
      "outputs": [
        {
          "output_type": "execute_result",
          "data": {
            "text/plain": [
              "5"
            ]
          },
          "metadata": {
            "tags": []
          },
          "execution_count": 25
        }
      ]
    },
    {
      "cell_type": "code",
      "metadata": {
        "colab": {
          "base_uri": "https://localhost:8080/"
        },
        "id": "vnrE_3TNl7P1",
        "outputId": "46ca6766-ce84-49d8-ef45-b4b147d00473"
      },
      "source": [
        "(x**2 + y**2 < 1.0).sum()/N * 4"
      ],
      "execution_count": null,
      "outputs": [
        {
          "output_type": "execute_result",
          "data": {
            "text/plain": [
              "2.0"
            ]
          },
          "metadata": {
            "tags": []
          },
          "execution_count": 26
        }
      ]
    },
    {
      "cell_type": "code",
      "metadata": {
        "colab": {
          "base_uri": "https://localhost:8080/"
        },
        "id": "AdjgYo_Dl-fG",
        "outputId": "ee5016e8-2a62-45e4-f2e9-c15c4e3c9aa8"
      },
      "source": [
        "# 코드 전체\r\n",
        "N = 300\r\n",
        "x = np.random.rand(N) \r\n",
        "y = np.random.rand(N)\r\n",
        "print(\"pi is: \", (x**2 + y**2 < 1.0).sum()/N * 4)"
      ],
      "execution_count": null,
      "outputs": [
        {
          "output_type": "stream",
          "text": [
            "pi is:  3.1333333333333333\n"
          ],
          "name": "stdout"
        }
      ]
    },
    {
      "cell_type": "code",
      "metadata": {
        "id": "TsEOGk-2nGCF"
      },
      "source": [
        "import matplotlib.pyplot as plt\r\n",
        "%matplotlib inline"
      ],
      "execution_count": null,
      "outputs": []
    },
    {
      "cell_type": "code",
      "metadata": {
        "colab": {
          "base_uri": "https://localhost:8080/",
          "height": 283
        },
        "id": "yRIO5knMnYNc",
        "outputId": "d4601cd8-42a5-410e-9283-f1c450ec7a7b"
      },
      "source": [
        "plt.figure(figsize=(4,4))\r\n",
        "plt.scatter(x, y, s=3)\r\n",
        "\r\n",
        "a = np.linspace(-0,1, 100)\r\n",
        "b = (1 - a**2)**0.5\r\n",
        "plt.plot(a, b, c='r')"
      ],
      "execution_count": null,
      "outputs": [
        {
          "output_type": "execute_result",
          "data": {
            "text/plain": [
              "[<matplotlib.lines.Line2D at 0x7fa7b69a4cf8>]"
            ]
          },
          "metadata": {
            "tags": []
          },
          "execution_count": 52
        },
        {
          "output_type": "display_data",
          "data": {
            "image/png": "[encoded data removed]",
            "text/plain": [
              "<Figure size 288x288 with 1 Axes>"
            ]
          },
          "metadata": {
            "tags": [],
            "needs_background": "light"
          }
        }
      ]
    },
    {
      "cell_type": "markdown",
      "metadata": {
        "id": "HOhAryW62KOP"
      },
      "source": [
        "# Gradient Descent method for Linear Regression"
      ]
    },
    {
      "cell_type": "code",
      "metadata": {
        "id": "9ZrVncKwnboG"
      },
      "source": [
        "n = 100\r\n",
        "x = np.random.randn(n)\r\n",
        "y = 0.7 * x + 0.7     # w=0.7, b=0.7\r\n",
        "y = y + np.random.randn(n) * 0.5\r\n",
        "plt.scatter(x, y)\r\n",
        "w = np.random.randn()\r\n",
        "b = np.random.randn()\r\n",
        "\r\n",
        "lr = 0.01\r\n",
        "n_epoch = 200\r\n",
        "lossHistory = []\r\n",
        "\r\n",
        "for i in range(n_epoch):\r\n",
        "  y_pred = w * x + b\r\n",
        "  loss = ((y_pred - y)**2).mean()\r\n",
        "\r\n",
        "  w = w - lr * 2 * ((y_pred - y) * x).mean()\r\n",
        "  b = b - lr * 2 * (y_pred - y).mean()\r\n",
        "  lossHistory.append(loss)\r\n",
        "\r\n",
        "  if (i % 10 ==0) : \r\n",
        "    print(w, b, loss)\r\n",
        "\r\n",
        "# graph\r\n",
        "xx = np.linspace (-3, 5, 100)\r\n",
        "yy = xx * w + b\r\n",
        "plt.plot(xx, yy, c='r')"
      ],
      "execution_count": null,
      "outputs": []
    },
    {
      "cell_type": "code",
      "metadata": {
        "id": "RH0ZFWoc5Wws"
      },
      "source": [
        "plt.plot(lossHistory)"
      ],
      "execution_count": null,
      "outputs": []
    },
    {
      "cell_type": "code",
      "metadata": {
        "colab": {
          "base_uri": "https://localhost:8080/"
        },
        "id": "PNf-9JU170FM",
        "outputId": "d6206324-b288-4b24-b1b1-1df98ec2aa6e"
      },
      "source": [
        "from sklearn.linear_model import LinearRegression\r\n",
        "\r\n",
        "model = LinearRegression()\r\n",
        "model.fit(x.reshape(-1,1), y)\r\n",
        "model.coef_, model.intercept_"
      ],
      "execution_count": null,
      "outputs": [
        {
          "output_type": "execute_result",
          "data": {
            "text/plain": [
              "(array([0.70563189]), 0.6795470752380733)"
            ]
          },
          "metadata": {
            "tags": []
          },
          "execution_count": 81
        }
      ]
    },
    {
      "cell_type": "markdown",
      "metadata": {
        "id": "vDDx2nN0NrpW"
      },
      "source": [
        "# Gradient Descent method for Linear Classification\r\n",
        "- Logistic Regression"
      ]
    },
    {
      "cell_type": "code",
      "metadata": {
        "colab": {
          "base_uri": "https://localhost:8080/",
          "height": 306
        },
        "id": "13_wo9Sl9hMP",
        "outputId": "6a715677-4bcc-4306-b06c-6055cfe9bca4"
      },
      "source": [
        "from sklearn.datasets import make_blobs\r\n",
        "N = 300\r\n",
        "np.random.seed(17)\r\n",
        "(X, y) = make_blobs(n_samples=N, n_features=2, centers=2,\r\n",
        "                     cluster_std=1.5, random_state=20)\r\n",
        "plt.scatter(X[:,0], X[:,1], c=y)\r\n",
        "x1, x2 = X[:,0], X[:,1]\r\n",
        "\r\n",
        "w1 = np.random.randn()\r\n",
        "w2 = np.random.randn()\r\n",
        "b = np.random.randn()\r\n",
        "\r\n",
        "def sigmoid(x):\r\n",
        "  return 1.0/(1.0 + np.exp(-x))\r\n",
        "\r\n",
        "lossHistory = []\r\n",
        "n_epoch = 300\r\n",
        "lr = 0.01\r\n",
        "\r\n",
        "for i in range(n_epoch):\r\n",
        "  z = w1 * x1 + w2 * x2 + b\r\n",
        "  y_pred = sigmoid(z)\r\n",
        "  loss = -(y*np.log(y_pred)+(1-y)*np.log(1-y_pred)).mean()\r\n",
        "  lossHistory.append(loss)\r\n",
        "\r\n",
        "  w1 = w1 - lr * ((y_pred - y) * x1).mean()\r\n",
        "  w2 = w2 - lr * ((y_pred - y) * x2).mean()\r\n",
        "  b  = b  - lr * ((y_pred - y) * 1 ).mean()\r\n",
        "\r\n",
        "  # if (i % 30 ==0) : \r\n",
        "  #  print(w1, w2, b, loss)\r\n",
        "\r\n",
        "accuracy = ((sigmoid(w1*x1 + w2*x2 + b) > 0.5) == y).mean()\r\n",
        "print(accuracy)\r\n",
        "\r\n",
        "# plotting\r\n",
        "xx = np.linspace(-3, 13, 100)\r\n",
        "yy = -w1/w2 * xx - b/w2\r\n",
        "plt.plot(xx, yy)"
      ],
      "execution_count": null,
      "outputs": [
        {
          "output_type": "stream",
          "text": [
            "0.9833333333333333\n"
          ],
          "name": "stdout"
        },
        {
          "output_type": "execute_result",
          "data": {
            "text/plain": [
              "[<matplotlib.lines.Line2D at 0x7fa7a250f668>]"
            ]
          },
          "metadata": {
            "tags": []
          },
          "execution_count": 110
        },
        {
          "output_type": "display_data",
          "data": {
            "image/png": "[encoded data removed]",
            "text/plain": [
              "<Figure size 432x288 with 1 Axes>"
            ]
          },
          "metadata": {
            "tags": [],
            "needs_background": "light"
          }
        }
      ]
    },
    {
      "cell_type": "code",
      "metadata": {
        "colab": {
          "base_uri": "https://localhost:8080/",
          "height": 283
        },
        "id": "Mqd54l0sRtZc",
        "outputId": "1243cfe2-6f1a-4d84-a7c7-3e89bcda62c6"
      },
      "source": [
        "plt.plot(lossHistory)"
      ],
      "execution_count": null,
      "outputs": [
        {
          "output_type": "execute_result",
          "data": {
            "text/plain": [
              "[<matplotlib.lines.Line2D at 0x7fa7a26e30f0>]"
            ]
          },
          "metadata": {
            "tags": []
          },
          "execution_count": 104
        },
        {
          "output_type": "display_data",
          "data": {
            "image/png": "[encoded data removed]",
            "text/plain": [
              "<Figure size 432x288 with 1 Axes>"
            ]
          },
          "metadata": {
            "tags": [],
            "needs_background": "light"
          }
        }
      ]
    },
    {
      "cell_type": "code",
      "metadata": {
        "id": "cjmvZ6TxRv4z"
      },
      "source": [
        "# using Library function\r\n",
        "from sklearn.linear_model import SGDClassifier, LogisticRegression"
      ],
      "execution_count": null,
      "outputs": []
    },
    {
      "cell_type": "code",
      "metadata": {
        "colab": {
          "base_uri": "https://localhost:8080/",
          "height": 283
        },
        "id": "CrXEdqTpS0r7",
        "outputId": "f4bdc606-f3a9-48f9-f1bc-d816d43558d1"
      },
      "source": [
        "N = 300\r\n",
        "np.random.seed(17)\r\n",
        "(X, y) = make_blobs(n_samples=N, n_features=2, centers=2,\r\n",
        "                     cluster_std=1.5, random_state=20)\r\n",
        "plt.scatter(X[:,0], X[:,1], c=y)\r\n",
        "x1, x2 = X[:,0], X[:,1]\r\n",
        "\r\n",
        "model = LogisticRegression()\r\n",
        "model.fit(X, y)\r\n",
        "model.coef_, model.intercept_\r\n",
        "\r\n",
        "plt.ylim([-3, 15])\r\n",
        "w1, w2, b = model.coef_[0,0], model.coef_[0,1], model.intercept_[0]\r\n",
        "xx = np.linspace(-3, 13, 100)\r\n",
        "yy = -w1/w2 * xx - b/w2\r\n",
        "plt.plot(xx, yy)"
      ],
      "execution_count": null,
      "outputs": [
        {
          "output_type": "execute_result",
          "data": {
            "text/plain": [
              "[<matplotlib.lines.Line2D at 0x7fa7a2631518>]"
            ]
          },
          "metadata": {
            "tags": []
          },
          "execution_count": 106
        },
        {
          "output_type": "display_data",
          "data": {
            "image/png": "[encoded data removed]",
            "text/plain": [
              "<Figure size 432x288 with 1 Axes>"
            ]
          },
          "metadata": {
            "tags": [],
            "needs_background": "light"
          }
        }
      ]
    },
    {
      "cell_type": "code",
      "metadata": {
        "colab": {
          "base_uri": "https://localhost:8080/"
        },
        "id": "aq9p5iOyTCqX",
        "outputId": "42dfbfb0-f906-4d97-a376-5a44daf4776e"
      },
      "source": [
        "model.score(X, y)"
      ],
      "execution_count": null,
      "outputs": [
        {
          "output_type": "execute_result",
          "data": {
            "text/plain": [
              "0.9933333333333333"
            ]
          },
          "metadata": {
            "tags": []
          },
          "execution_count": 107
        }
      ]
    },
    {
      "cell_type": "code",
      "metadata": {
        "id": "gQDzuGPcY1vX"
      },
      "source": [
        ""
      ],
      "execution_count": null,
      "outputs": []
    }
  ]
}