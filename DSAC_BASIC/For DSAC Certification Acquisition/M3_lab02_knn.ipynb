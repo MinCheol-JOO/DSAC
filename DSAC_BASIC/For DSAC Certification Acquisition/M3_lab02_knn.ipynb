{
  "nbformat": 4,
  "nbformat_minor": 0,
  "metadata": {
    "colab": {
      "name": "hallym_lab02_knn.ipynb",
      "provenance": [],
      "collapsed_sections": [],
      "authorship_tag": "ABX9TyMYy5TOMmPhCG6PF4kwzcZt",
      "include_colab_link": true
    },
    "kernelspec": {
      "name": "python3",
      "display_name": "Python 3"
    }
  },
  "cells": [
    {
      "cell_type": "markdown",
      "metadata": {
        "id": "view-in-github",
        "colab_type": "text"
      },
      "source": [
        "<a href=\"https://colab.research.google.com/github/rtajeong/Hallym_univ_M34/blob/main/hallym_lab02_knn.ipynb\" target=\"_parent\"><img src=\"https://colab.research.google.com/assets/colab-badge.svg\" alt=\"Open In Colab\"/></a>"
      ]
    },
    {
      "cell_type": "markdown",
      "metadata": {
        "id": "P1EsOEdvK6iL"
      },
      "source": [
        "# nonlinear Classification"
      ]
    },
    {
      "cell_type": "markdown",
      "metadata": {
        "id": "6nXIg06mnqGR"
      },
      "source": [
        "# KNN"
      ]
    },
    {
      "cell_type": "code",
      "metadata": {
        "id": "OjGAdRJlAOJ9"
      },
      "source": [
        "import numpy as np\r\n",
        "import pandas as pd\r\n",
        "import matplotlib.pyplot as plt\r\n",
        "%matplotlib inline"
      ],
      "execution_count": null,
      "outputs": []
    },
    {
      "cell_type": "code",
      "metadata": {
        "id": "INrud4B7Kzr3"
      },
      "source": [
        "from sklearn.datasets import load_iris\r\n",
        "from sklearn.model_selection import train_test_split\r\n",
        "from sklearn.linear_model import SGDClassifier\r\n",
        "from sklearn.neighbors import KNeighborsClassifier\r\n"
      ],
      "execution_count": null,
      "outputs": []
    },
    {
      "cell_type": "code",
      "metadata": {
        "id": "Zv2nnpbgNvNf"
      },
      "source": [
        "iris = load_iris()"
      ],
      "execution_count": null,
      "outputs": []
    },
    {
      "cell_type": "code",
      "metadata": {
        "id": "QShNPcRsN010"
      },
      "source": [
        "X, y = iris.data, iris.target"
      ],
      "execution_count": null,
      "outputs": []
    },
    {
      "cell_type": "code",
      "metadata": {
        "colab": {
          "base_uri": "https://localhost:8080/"
        },
        "id": "XhQu9mrWN-sj",
        "outputId": "1a7a2951-c1d8-4a10-d3da-e0b6378801b6"
      },
      "source": [
        "X.shape, y.shape"
      ],
      "execution_count": null,
      "outputs": [
        {
          "output_type": "execute_result",
          "data": {
            "text/plain": [
              "((150, 4), (150,))"
            ]
          },
          "metadata": {
            "tags": []
          },
          "execution_count": 61
        }
      ]
    },
    {
      "cell_type": "code",
      "metadata": {
        "colab": {
          "base_uri": "https://localhost:8080/"
        },
        "id": "CdWYXKKAPTuy",
        "outputId": "6df4d281-6b69-45d9-af4a-a3bfda78fdc0"
      },
      "source": [
        "dir(iris)"
      ],
      "execution_count": null,
      "outputs": [
        {
          "output_type": "execute_result",
          "data": {
            "text/plain": [
              "['DESCR', 'data', 'feature_names', 'filename', 'target', 'target_names']"
            ]
          },
          "metadata": {
            "tags": []
          },
          "execution_count": 62
        }
      ]
    },
    {
      "cell_type": "code",
      "metadata": {
        "colab": {
          "base_uri": "https://localhost:8080/",
          "height": 286
        },
        "id": "rO0Bab-dOtWF",
        "outputId": "248eee4c-15ea-4fcb-d92b-709e54a4ff71"
      },
      "source": [
        "plt.scatter(X[:,0], X[:,1], c=y)"
      ],
      "execution_count": null,
      "outputs": [
        {
          "output_type": "execute_result",
          "data": {
            "text/plain": [
              "<matplotlib.collections.PathCollection at 0x7f8009fc14e0>"
            ]
          },
          "metadata": {
            "tags": []
          },
          "execution_count": 128
        },
        {
          "output_type": "display_data",
          "data": {
            "image/png": "[encoded data removed]",
            "text/plain": [
              "<Figure size 432x288 with 1 Axes>"
            ]
          },
          "metadata": {
            "tags": [],
            "needs_background": "light"
          }
        }
      ]
    },
    {
      "cell_type": "code",
      "metadata": {
        "id": "nlNjO0h4PXxJ"
      },
      "source": [
        "X_train, X_test, y_train, y_test = train_test_split(X, y, test_size=0.3)"
      ],
      "execution_count": null,
      "outputs": []
    },
    {
      "cell_type": "code",
      "metadata": {
        "colab": {
          "base_uri": "https://localhost:8080/"
        },
        "id": "9oRxvn5l7kWP",
        "outputId": "b5287836-0e66-438c-e952-f88ebced818e"
      },
      "source": [
        "# for testing data split in knn\r\n",
        "\r\n",
        "X_train, X_test, y_train, y_test = train_test_split(X, y, test_size=0.5)\r\n",
        "knn = KNeighborsClassifier(n_neighbors=5)\r\n",
        "knn.fit(X_train, y_train)\r\n",
        "knn.score(X_test, y_test)"
      ],
      "execution_count": null,
      "outputs": [
        {
          "output_type": "execute_result",
          "data": {
            "text/plain": [
              "1.0"
            ]
          },
          "metadata": {
            "tags": []
          },
          "execution_count": 144
        }
      ]
    },
    {
      "cell_type": "code",
      "metadata": {
        "colab": {
          "base_uri": "https://localhost:8080/"
        },
        "id": "AospC-efQHnk",
        "outputId": "87b482c8-8cfa-4860-9a6b-f728c7010272"
      },
      "source": [
        "X_train.shape, X_test.shape"
      ],
      "execution_count": null,
      "outputs": [
        {
          "output_type": "execute_result",
          "data": {
            "text/plain": [
              "((105, 4), (45, 4))"
            ]
          },
          "metadata": {
            "tags": []
          },
          "execution_count": 65
        }
      ]
    },
    {
      "cell_type": "code",
      "metadata": {
        "colab": {
          "base_uri": "https://localhost:8080/"
        },
        "id": "f5yAHg-IQL4h",
        "outputId": "2cc34d3c-0d13-4a68-9367-9a96bba727d7"
      },
      "source": [
        "clf1 = SGDClassifier()\r\n",
        "clf2 = KNeighborsClassifier(n_neighbors=9)\r\n",
        "\r\n",
        "clf1.fit(X_train, y_train)\r\n",
        "clf2.fit(X_train, y_train)\r\n",
        "print(clf1.score(X_test, y_test), clf2.score(X_test, y_test))"
      ],
      "execution_count": null,
      "outputs": [
        {
          "output_type": "stream",
          "text": [
            "0.6666666666666666 0.9555555555555556\n"
          ],
          "name": "stdout"
        }
      ]
    },
    {
      "cell_type": "code",
      "metadata": {
        "colab": {
          "base_uri": "https://localhost:8080/"
        },
        "id": "XU5hadSDRS2S",
        "outputId": "4daeda3a-199e-42f6-82fd-4536d634b289"
      },
      "source": [
        "for i in range(1, 10):\r\n",
        "  knn = KNeighborsClassifier(n_neighbors=i)\r\n",
        "  knn.fit(X_train, y_train)\r\n",
        "  print(\"k is :\", i, \"---\", knn.score(X_test, y_test))"
      ],
      "execution_count": null,
      "outputs": [
        {
          "output_type": "stream",
          "text": [
            "k is : 1 --- 0.9555555555555556\n",
            "k is : 2 --- 0.9555555555555556\n",
            "k is : 3 --- 0.9555555555555556\n",
            "k is : 4 --- 0.9555555555555556\n",
            "k is : 5 --- 0.9555555555555556\n",
            "k is : 6 --- 0.9555555555555556\n",
            "k is : 7 --- 0.9555555555555556\n",
            "k is : 8 --- 1.0\n",
            "k is : 9 --- 0.9555555555555556\n"
          ],
          "name": "stdout"
        }
      ]
    },
    {
      "cell_type": "markdown",
      "metadata": {
        "id": "MdfUb4jlUQeb"
      },
      "source": [
        "# K-fold cross validation"
      ]
    },
    {
      "cell_type": "code",
      "metadata": {
        "colab": {
          "base_uri": "https://localhost:8080/"
        },
        "id": "_JwoDFRqXIxa",
        "outputId": "56c000d8-e402-4b04-f94b-402c04329deb"
      },
      "source": [
        "from sklearn.model_selection import cross_val_score, KFold\r\n",
        "knn = KNeighborsClassifier(n_neighbors=5)\r\n",
        "cval = cross_val_score(knn, X, y, cv=5)\r\n",
        "cval, cval.mean()"
      ],
      "execution_count": null,
      "outputs": [
        {
          "output_type": "execute_result",
          "data": {
            "text/plain": [
              "(array([0.96666667, 1.        , 0.93333333, 0.96666667, 1.        ]),\n",
              " 0.9733333333333334)"
            ]
          },
          "metadata": {
            "tags": []
          },
          "execution_count": 68
        }
      ]
    },
    {
      "cell_type": "code",
      "metadata": {
        "colab": {
          "base_uri": "https://localhost:8080/"
        },
        "id": "FCBrB4ZKXq8L",
        "outputId": "61c21e3d-6a1e-427d-d7b1-837945b0f475"
      },
      "source": [
        "# linear model (non-scaled)\r\n",
        "clf = SGDClassifier()\r\n",
        "cval = cross_val_score(clf, X, y, cv=5)\r\n",
        "cval, cval.mean()"
      ],
      "execution_count": null,
      "outputs": [
        {
          "output_type": "execute_result",
          "data": {
            "text/plain": [
              "(array([1.        , 0.96666667, 0.8       , 0.73333333, 0.73333333]),\n",
              " 0.8466666666666667)"
            ]
          },
          "metadata": {
            "tags": []
          },
          "execution_count": 69
        }
      ]
    },
    {
      "cell_type": "code",
      "metadata": {
        "colab": {
          "base_uri": "https://localhost:8080/"
        },
        "id": "rxztCqtjaebh",
        "outputId": "f5ca5a11-cef7-43b5-c883-a29630c5e4f8"
      },
      "source": [
        "# linear model (scaled)\r\n",
        "from sklearn.preprocessing import StandardScaler\r\n",
        "sc = StandardScaler()\r\n",
        "X_scaled = sc.fit_transform(X)\r\n",
        "\r\n",
        "clf = SGDClassifier()\r\n",
        "cval = cross_val_score(clf, X_scaled, y, cv=5)\r\n",
        "cval, cval.mean()"
      ],
      "execution_count": null,
      "outputs": [
        {
          "output_type": "execute_result",
          "data": {
            "text/plain": [
              "(array([1.        , 0.8       , 0.93333333, 0.93333333, 1.        ]),\n",
              " 0.9333333333333333)"
            ]
          },
          "metadata": {
            "tags": []
          },
          "execution_count": 70
        }
      ]
    },
    {
      "cell_type": "code",
      "metadata": {
        "colab": {
          "base_uri": "https://localhost:8080/"
        },
        "id": "TXYA7Cnva3yb",
        "outputId": "a243cc30-467b-41d3-c1ba-48d236c912bf"
      },
      "source": [
        "knn = KNeighborsClassifier(n_neighbors=5)\r\n",
        "cval = cross_val_score(knn, X_scaled, y, cv=5)\r\n",
        "cval, cval.mean()"
      ],
      "execution_count": null,
      "outputs": [
        {
          "output_type": "execute_result",
          "data": {
            "text/plain": [
              "(array([0.96666667, 0.96666667, 0.93333333, 0.93333333, 1.        ]), 0.96)"
            ]
          },
          "metadata": {
            "tags": []
          },
          "execution_count": 71
        }
      ]
    },
    {
      "cell_type": "markdown",
      "metadata": {
        "id": "JoQkM6JHn1qA"
      },
      "source": [
        "# Decision Tree "
      ]
    },
    {
      "cell_type": "code",
      "metadata": {
        "id": "R6r41GVXn5P4"
      },
      "source": [
        "from sklearn import tree\r\n",
        "from sklearn.tree import DecisionTreeClassifier"
      ],
      "execution_count": null,
      "outputs": []
    },
    {
      "cell_type": "code",
      "metadata": {
        "colab": {
          "base_uri": "https://localhost:8080/"
        },
        "id": "_DFvi9OMrvx7",
        "outputId": "72673bda-1cb8-46b0-d75f-226a199917aa"
      },
      "source": [
        "X.shape, y.shape"
      ],
      "execution_count": null,
      "outputs": [
        {
          "output_type": "execute_result",
          "data": {
            "text/plain": [
              "((150, 4), (150,))"
            ]
          },
          "metadata": {
            "tags": []
          },
          "execution_count": 95
        }
      ]
    },
    {
      "cell_type": "code",
      "metadata": {
        "colab": {
          "base_uri": "https://localhost:8080/"
        },
        "id": "mM39iOdEryHw",
        "outputId": "8512d3da-6057-4884-fbed-4b3b296d895e"
      },
      "source": [
        "X_train, X_test, y_train, y_test = train_test_split(X, y, test_size=0.3)\r\n",
        "clf = DecisionTreeClassifier(max_depth = 5)\r\n",
        "clf.fit(X_train, y_train)\r\n",
        "print(clf.score(X_test, y_test))"
      ],
      "execution_count": null,
      "outputs": [
        {
          "output_type": "stream",
          "text": [
            "0.9555555555555556\n"
          ],
          "name": "stdout"
        }
      ]
    },
    {
      "cell_type": "code",
      "metadata": {
        "colab": {
          "base_uri": "https://localhost:8080/"
        },
        "id": "_SuJhLTew7M5",
        "outputId": "af37b5be-11d8-477b-c504-6e491b1a98d3"
      },
      "source": [
        "clf.feature_importances_"
      ],
      "execution_count": null,
      "outputs": [
        {
          "output_type": "execute_result",
          "data": {
            "text/plain": [
              "array([0.03334241, 0.        , 0.55252884, 0.41412876])"
            ]
          },
          "metadata": {
            "tags": []
          },
          "execution_count": 97
        }
      ]
    },
    {
      "cell_type": "code",
      "metadata": {
        "id": "VLN50e33wyoR"
      },
      "source": [
        "\r\n",
        "# decision tree graph\r\n",
        "tree.plot_tree(clf, filled=True)"
      ],
      "execution_count": null,
      "outputs": []
    },
    {
      "cell_type": "code",
      "metadata": {
        "id": "2jkN6v_ysvD5"
      },
      "source": [
        "from sklearn.tree import export_graphviz\r\n",
        "import graphviz"
      ],
      "execution_count": null,
      "outputs": []
    },
    {
      "cell_type": "code",
      "metadata": {
        "id": "HshDO-G0vJPV"
      },
      "source": [
        "export_graphviz(\r\n",
        "    clf,\r\n",
        "    out_file='./iris.dot',\r\n",
        "    feature_names = iris.feature_names,\r\n",
        "    class_names = iris.target_names,\r\n",
        "    filled = True\r\n",
        "    )"
      ],
      "execution_count": null,
      "outputs": []
    },
    {
      "cell_type": "code",
      "metadata": {
        "colab": {
          "base_uri": "https://localhost:8080/",
          "height": 776
        },
        "id": "G3bWHOFWvydY",
        "outputId": "bd352042-77d3-481f-9000-9b42eecf165a"
      },
      "source": [
        "with open(\"./iris.dot\") as f:\r\n",
        "  dot_graph = str(open(\"./iris.dot\", \"rb\").read(), \"utf8\")\r\n",
        "graphviz.Source(dot_graph)"
      ],
      "execution_count": null,
      "outputs": [
        {
          "output_type": "execute_result",
          "data": {
            "text/plain": [
              "<graphviz.files.Source at 0x7f8008c8ada0>"
            ],
            "image/svg+xml": "<?xml version=\"1.0\" encoding=\"UTF-8\" standalone=\"no\"?>\n<!DOCTYPE svg PUBLIC \"-//W3C//DTD SVG 1.1//EN\"\n \"http://www.w3.org/Graphics/SVG/1.1/DTD/svg11.dtd\">\n<!-- Generated by graphviz version 2.40.1 (20161225.0304)\n -->\n<!-- Title: Tree Pages: 1 -->\n<svg width=\"801pt\" height=\"552pt\"\n viewBox=\"0.00 0.00 801.00 552.00\" xmlns=\"http://www.w3.org/2000/svg\" xmlns:xlink=\"http://www.w3.org/1999/xlink\">\n<g id=\"graph0\" class=\"graph\" transform=\"scale(1 1) rotate(0) translate(4 548)\">\n<title>Tree</title>\n<polygon fill=\"#ffffff\" stroke=\"transparent\" points=\"-4,4 -4,-548 797,-548 797,4 -4,4\"/>\n<!-- 0 -->\n<g id=\"node1\" class=\"node\">\n<title>0</title>\n<polygon fill=\"#f8f4fe\" stroke=\"#000000\" points=\"479,-544 326,-544 326,-461 479,-461 479,-544\"/>\n<text text-anchor=\"middle\" x=\"402.5\" y=\"-528.8\" font-family=\"Times,serif\" font-size=\"14.00\" fill=\"#000000\">petal width (cm) &lt;= 0.7</text>\n<text text-anchor=\"middle\" x=\"402.5\" y=\"-513.8\" font-family=\"Times,serif\" font-size=\"14.00\" fill=\"#000000\">gini = 0.664</text>\n<text text-anchor=\"middle\" x=\"402.5\" y=\"-498.8\" font-family=\"Times,serif\" font-size=\"14.00\" fill=\"#000000\">samples = 105</text>\n<text text-anchor=\"middle\" x=\"402.5\" y=\"-483.8\" font-family=\"Times,serif\" font-size=\"14.00\" fill=\"#000000\">value = [35, 31, 39]</text>\n<text text-anchor=\"middle\" x=\"402.5\" y=\"-468.8\" font-family=\"Times,serif\" font-size=\"14.00\" fill=\"#000000\">class = virginica</text>\n</g>\n<!-- 1 -->\n<g id=\"node2\" class=\"node\">\n<title>1</title>\n<polygon fill=\"#e58139\" stroke=\"#000000\" points=\"383,-417.5 266,-417.5 266,-349.5 383,-349.5 383,-417.5\"/>\n<text text-anchor=\"middle\" x=\"324.5\" y=\"-402.3\" font-family=\"Times,serif\" font-size=\"14.00\" fill=\"#000000\">gini = 0.0</text>\n<text text-anchor=\"middle\" x=\"324.5\" y=\"-387.3\" font-family=\"Times,serif\" font-size=\"14.00\" fill=\"#000000\">samples = 35</text>\n<text text-anchor=\"middle\" x=\"324.5\" y=\"-372.3\" font-family=\"Times,serif\" font-size=\"14.00\" fill=\"#000000\">value = [35, 0, 0]</text>\n<text text-anchor=\"middle\" x=\"324.5\" y=\"-357.3\" font-family=\"Times,serif\" font-size=\"14.00\" fill=\"#000000\">class = setosa</text>\n</g>\n<!-- 0&#45;&gt;1 -->\n<g id=\"edge1\" class=\"edge\">\n<title>0&#45;&gt;1</title>\n<path fill=\"none\" stroke=\"#000000\" d=\"M375.2194,-460.8796C367.8677,-449.6636 359.9036,-437.5131 352.5126,-426.2372\"/>\n<polygon fill=\"#000000\" stroke=\"#000000\" points=\"355.4014,-424.2598 346.9921,-417.8149 349.5469,-428.0972 355.4014,-424.2598\"/>\n<text text-anchor=\"middle\" x=\"341.8982\" y=\"-438.5905\" font-family=\"Times,serif\" font-size=\"14.00\" fill=\"#000000\">True</text>\n</g>\n<!-- 2 -->\n<g id=\"node3\" class=\"node\">\n<title>2</title>\n<polygon fill=\"#e5d6fa\" stroke=\"#000000\" points=\"562,-425 401,-425 401,-342 562,-342 562,-425\"/>\n<text text-anchor=\"middle\" x=\"481.5\" y=\"-409.8\" font-family=\"Times,serif\" font-size=\"14.00\" fill=\"#000000\">petal width (cm) &lt;= 1.75</text>\n<text text-anchor=\"middle\" x=\"481.5\" y=\"-394.8\" font-family=\"Times,serif\" font-size=\"14.00\" fill=\"#000000\">gini = 0.493</text>\n<text text-anchor=\"middle\" x=\"481.5\" y=\"-379.8\" font-family=\"Times,serif\" font-size=\"14.00\" fill=\"#000000\">samples = 70</text>\n<text text-anchor=\"middle\" x=\"481.5\" y=\"-364.8\" font-family=\"Times,serif\" font-size=\"14.00\" fill=\"#000000\">value = [0, 31, 39]</text>\n<text text-anchor=\"middle\" x=\"481.5\" y=\"-349.8\" font-family=\"Times,serif\" font-size=\"14.00\" fill=\"#000000\">class = virginica</text>\n</g>\n<!-- 0&#45;&gt;2 -->\n<g id=\"edge2\" class=\"edge\">\n<title>0&#45;&gt;2</title>\n<path fill=\"none\" stroke=\"#000000\" d=\"M430.1304,-460.8796C435.93,-452.1434 442.1059,-442.8404 448.0908,-433.8253\"/>\n<polygon fill=\"#000000\" stroke=\"#000000\" points=\"451.1368,-435.5652 453.7517,-425.2981 445.3049,-431.6935 451.1368,-435.5652\"/>\n<text text-anchor=\"middle\" x=\"458.7022\" y=\"-446.103\" font-family=\"Times,serif\" font-size=\"14.00\" fill=\"#000000\">False</text>\n</g>\n<!-- 3 -->\n<g id=\"node4\" class=\"node\">\n<title>3</title>\n<polygon fill=\"#5ae996\" stroke=\"#000000\" points=\"465.5,-306 301.5,-306 301.5,-223 465.5,-223 465.5,-306\"/>\n<text text-anchor=\"middle\" x=\"383.5\" y=\"-290.8\" font-family=\"Times,serif\" font-size=\"14.00\" fill=\"#000000\">petal length (cm) &lt;= 4.95</text>\n<text text-anchor=\"middle\" x=\"383.5\" y=\"-275.8\" font-family=\"Times,serif\" font-size=\"14.00\" fill=\"#000000\">gini = 0.245</text>\n<text text-anchor=\"middle\" x=\"383.5\" y=\"-260.8\" font-family=\"Times,serif\" font-size=\"14.00\" fill=\"#000000\">samples = 35</text>\n<text text-anchor=\"middle\" x=\"383.5\" y=\"-245.8\" font-family=\"Times,serif\" font-size=\"14.00\" fill=\"#000000\">value = [0, 30, 5]</text>\n<text text-anchor=\"middle\" x=\"383.5\" y=\"-230.8\" font-family=\"Times,serif\" font-size=\"14.00\" fill=\"#000000\">class = versicolor</text>\n</g>\n<!-- 2&#45;&gt;3 -->\n<g id=\"edge3\" class=\"edge\">\n<title>2&#45;&gt;3</title>\n<path fill=\"none\" stroke=\"#000000\" d=\"M447.2244,-341.8796C439.8816,-332.9633 432.0524,-323.4565 424.4854,-314.268\"/>\n<polygon fill=\"#000000\" stroke=\"#000000\" points=\"426.9808,-311.7924 417.9219,-306.2981 421.5773,-316.2424 426.9808,-311.7924\"/>\n</g>\n<!-- 10 -->\n<g id=\"node11\" class=\"node\">\n<title>10</title>\n<polygon fill=\"#853fe6\" stroke=\"#000000\" points=\"662.5,-306 498.5,-306 498.5,-223 662.5,-223 662.5,-306\"/>\n<text text-anchor=\"middle\" x=\"580.5\" y=\"-290.8\" font-family=\"Times,serif\" font-size=\"14.00\" fill=\"#000000\">petal length (cm) &lt;= 4.85</text>\n<text text-anchor=\"middle\" x=\"580.5\" y=\"-275.8\" font-family=\"Times,serif\" font-size=\"14.00\" fill=\"#000000\">gini = 0.056</text>\n<text text-anchor=\"middle\" x=\"580.5\" y=\"-260.8\" font-family=\"Times,serif\" font-size=\"14.00\" fill=\"#000000\">samples = 35</text>\n<text text-anchor=\"middle\" x=\"580.5\" y=\"-245.8\" font-family=\"Times,serif\" font-size=\"14.00\" fill=\"#000000\">value = [0, 1, 34]</text>\n<text text-anchor=\"middle\" x=\"580.5\" y=\"-230.8\" font-family=\"Times,serif\" font-size=\"14.00\" fill=\"#000000\">class = virginica</text>\n</g>\n<!-- 2&#45;&gt;10 -->\n<g id=\"edge10\" class=\"edge\">\n<title>2&#45;&gt;10</title>\n<path fill=\"none\" stroke=\"#000000\" d=\"M516.1254,-341.8796C523.618,-332.8733 531.6119,-323.2644 539.3279,-313.9897\"/>\n<polygon fill=\"#000000\" stroke=\"#000000\" points=\"542.0219,-316.224 545.7268,-306.2981 536.6407,-311.7472 542.0219,-316.224\"/>\n</g>\n<!-- 4 -->\n<g id=\"node5\" class=\"node\">\n<title>4</title>\n<polygon fill=\"#40e685\" stroke=\"#000000\" points=\"271,-187 110,-187 110,-104 271,-104 271,-187\"/>\n<text text-anchor=\"middle\" x=\"190.5\" y=\"-171.8\" font-family=\"Times,serif\" font-size=\"14.00\" fill=\"#000000\">petal width (cm) &lt;= 1.65</text>\n<text text-anchor=\"middle\" x=\"190.5\" y=\"-156.8\" font-family=\"Times,serif\" font-size=\"14.00\" fill=\"#000000\">gini = 0.064</text>\n<text text-anchor=\"middle\" x=\"190.5\" y=\"-141.8\" font-family=\"Times,serif\" font-size=\"14.00\" fill=\"#000000\">samples = 30</text>\n<text text-anchor=\"middle\" x=\"190.5\" y=\"-126.8\" font-family=\"Times,serif\" font-size=\"14.00\" fill=\"#000000\">value = [0, 29, 1]</text>\n<text text-anchor=\"middle\" x=\"190.5\" y=\"-111.8\" font-family=\"Times,serif\" font-size=\"14.00\" fill=\"#000000\">class = versicolor</text>\n</g>\n<!-- 3&#45;&gt;4 -->\n<g id=\"edge4\" class=\"edge\">\n<title>3&#45;&gt;4</title>\n<path fill=\"none\" stroke=\"#000000\" d=\"M315.998,-222.8796C300.1308,-213.0962 283.1106,-202.6019 266.8844,-192.5971\"/>\n<polygon fill=\"#000000\" stroke=\"#000000\" points=\"268.3129,-189.3661 257.9639,-187.0969 264.639,-195.3245 268.3129,-189.3661\"/>\n</g>\n<!-- 7 -->\n<g id=\"node8\" class=\"node\">\n<title>7</title>\n<polygon fill=\"#a06aec\" stroke=\"#000000\" points=\"464,-187 303,-187 303,-104 464,-104 464,-187\"/>\n<text text-anchor=\"middle\" x=\"383.5\" y=\"-171.8\" font-family=\"Times,serif\" font-size=\"14.00\" fill=\"#000000\">petal width (cm) &lt;= 1.65</text>\n<text text-anchor=\"middle\" x=\"383.5\" y=\"-156.8\" font-family=\"Times,serif\" font-size=\"14.00\" fill=\"#000000\">gini = 0.32</text>\n<text text-anchor=\"middle\" x=\"383.5\" y=\"-141.8\" font-family=\"Times,serif\" font-size=\"14.00\" fill=\"#000000\">samples = 5</text>\n<text text-anchor=\"middle\" x=\"383.5\" y=\"-126.8\" font-family=\"Times,serif\" font-size=\"14.00\" fill=\"#000000\">value = [0, 1, 4]</text>\n<text text-anchor=\"middle\" x=\"383.5\" y=\"-111.8\" font-family=\"Times,serif\" font-size=\"14.00\" fill=\"#000000\">class = virginica</text>\n</g>\n<!-- 3&#45;&gt;7 -->\n<g id=\"edge7\" class=\"edge\">\n<title>3&#45;&gt;7</title>\n<path fill=\"none\" stroke=\"#000000\" d=\"M383.5,-222.8796C383.5,-214.6838 383.5,-205.9891 383.5,-197.5013\"/>\n<polygon fill=\"#000000\" stroke=\"#000000\" points=\"387.0001,-197.298 383.5,-187.2981 380.0001,-197.2981 387.0001,-197.298\"/>\n</g>\n<!-- 5 -->\n<g id=\"node6\" class=\"node\">\n<title>5</title>\n<polygon fill=\"#39e581\" stroke=\"#000000\" points=\"117,-68 0,-68 0,0 117,0 117,-68\"/>\n<text text-anchor=\"middle\" x=\"58.5\" y=\"-52.8\" font-family=\"Times,serif\" font-size=\"14.00\" fill=\"#000000\">gini = 0.0</text>\n<text text-anchor=\"middle\" x=\"58.5\" y=\"-37.8\" font-family=\"Times,serif\" font-size=\"14.00\" fill=\"#000000\">samples = 29</text>\n<text text-anchor=\"middle\" x=\"58.5\" y=\"-22.8\" font-family=\"Times,serif\" font-size=\"14.00\" fill=\"#000000\">value = [0, 29, 0]</text>\n<text text-anchor=\"middle\" x=\"58.5\" y=\"-7.8\" font-family=\"Times,serif\" font-size=\"14.00\" fill=\"#000000\">class = versicolor</text>\n</g>\n<!-- 4&#45;&gt;5 -->\n<g id=\"edge5\" class=\"edge\">\n<title>4&#45;&gt;5</title>\n<path fill=\"none\" stroke=\"#000000\" d=\"M141.3481,-103.9815C130.0324,-94.4232 118.0087,-84.2668 106.7325,-74.7419\"/>\n<polygon fill=\"#000000\" stroke=\"#000000\" points=\"108.9612,-72.0429 99.0633,-68.2637 104.4441,-77.3904 108.9612,-72.0429\"/>\n</g>\n<!-- 6 -->\n<g id=\"node7\" class=\"node\">\n<title>6</title>\n<polygon fill=\"#8139e5\" stroke=\"#000000\" points=\"245.5,-68 135.5,-68 135.5,0 245.5,0 245.5,-68\"/>\n<text text-anchor=\"middle\" x=\"190.5\" y=\"-52.8\" font-family=\"Times,serif\" font-size=\"14.00\" fill=\"#000000\">gini = 0.0</text>\n<text text-anchor=\"middle\" x=\"190.5\" y=\"-37.8\" font-family=\"Times,serif\" font-size=\"14.00\" fill=\"#000000\">samples = 1</text>\n<text text-anchor=\"middle\" x=\"190.5\" y=\"-22.8\" font-family=\"Times,serif\" font-size=\"14.00\" fill=\"#000000\">value = [0, 0, 1]</text>\n<text text-anchor=\"middle\" x=\"190.5\" y=\"-7.8\" font-family=\"Times,serif\" font-size=\"14.00\" fill=\"#000000\">class = virginica</text>\n</g>\n<!-- 4&#45;&gt;6 -->\n<g id=\"edge6\" class=\"edge\">\n<title>4&#45;&gt;6</title>\n<path fill=\"none\" stroke=\"#000000\" d=\"M190.5,-103.9815C190.5,-95.618 190.5,-86.7965 190.5,-78.3409\"/>\n<polygon fill=\"#000000\" stroke=\"#000000\" points=\"194.0001,-78.2636 190.5,-68.2637 187.0001,-78.2637 194.0001,-78.2636\"/>\n</g>\n<!-- 8 -->\n<g id=\"node9\" class=\"node\">\n<title>8</title>\n<polygon fill=\"#8139e5\" stroke=\"#000000\" points=\"373.5,-68 263.5,-68 263.5,0 373.5,0 373.5,-68\"/>\n<text text-anchor=\"middle\" x=\"318.5\" y=\"-52.8\" font-family=\"Times,serif\" font-size=\"14.00\" fill=\"#000000\">gini = 0.0</text>\n<text text-anchor=\"middle\" x=\"318.5\" y=\"-37.8\" font-family=\"Times,serif\" font-size=\"14.00\" fill=\"#000000\">samples = 4</text>\n<text text-anchor=\"middle\" x=\"318.5\" y=\"-22.8\" font-family=\"Times,serif\" font-size=\"14.00\" fill=\"#000000\">value = [0, 0, 4]</text>\n<text text-anchor=\"middle\" x=\"318.5\" y=\"-7.8\" font-family=\"Times,serif\" font-size=\"14.00\" fill=\"#000000\">class = virginica</text>\n</g>\n<!-- 7&#45;&gt;8 -->\n<g id=\"edge8\" class=\"edge\">\n<title>7&#45;&gt;8</title>\n<path fill=\"none\" stroke=\"#000000\" d=\"M359.2964,-103.9815C354.1529,-95.1585 348.7123,-85.8258 343.5384,-76.9506\"/>\n<polygon fill=\"#000000\" stroke=\"#000000\" points=\"346.5344,-75.1402 338.4743,-68.2637 340.487,-78.6656 346.5344,-75.1402\"/>\n</g>\n<!-- 9 -->\n<g id=\"node10\" class=\"node\">\n<title>9</title>\n<polygon fill=\"#39e581\" stroke=\"#000000\" points=\"507,-68 392,-68 392,0 507,0 507,-68\"/>\n<text text-anchor=\"middle\" x=\"449.5\" y=\"-52.8\" font-family=\"Times,serif\" font-size=\"14.00\" fill=\"#000000\">gini = 0.0</text>\n<text text-anchor=\"middle\" x=\"449.5\" y=\"-37.8\" font-family=\"Times,serif\" font-size=\"14.00\" fill=\"#000000\">samples = 1</text>\n<text text-anchor=\"middle\" x=\"449.5\" y=\"-22.8\" font-family=\"Times,serif\" font-size=\"14.00\" fill=\"#000000\">value = [0, 1, 0]</text>\n<text text-anchor=\"middle\" x=\"449.5\" y=\"-7.8\" font-family=\"Times,serif\" font-size=\"14.00\" fill=\"#000000\">class = versicolor</text>\n</g>\n<!-- 7&#45;&gt;9 -->\n<g id=\"edge9\" class=\"edge\">\n<title>7&#45;&gt;9</title>\n<path fill=\"none\" stroke=\"#000000\" d=\"M408.076,-103.9815C413.2986,-95.1585 418.8229,-85.8258 424.0763,-76.9506\"/>\n<polygon fill=\"#000000\" stroke=\"#000000\" points=\"427.1364,-78.652 429.2184,-68.2637 421.1126,-75.0863 427.1364,-78.652\"/>\n</g>\n<!-- 11 -->\n<g id=\"node12\" class=\"node\">\n<title>11</title>\n<polygon fill=\"#c09cf2\" stroke=\"#000000\" points=\"658,-187 503,-187 503,-104 658,-104 658,-187\"/>\n<text text-anchor=\"middle\" x=\"580.5\" y=\"-171.8\" font-family=\"Times,serif\" font-size=\"14.00\" fill=\"#000000\">sepal width (cm) &lt;= 3.1</text>\n<text text-anchor=\"middle\" x=\"580.5\" y=\"-156.8\" font-family=\"Times,serif\" font-size=\"14.00\" fill=\"#000000\">gini = 0.444</text>\n<text text-anchor=\"middle\" x=\"580.5\" y=\"-141.8\" font-family=\"Times,serif\" font-size=\"14.00\" fill=\"#000000\">samples = 3</text>\n<text text-anchor=\"middle\" x=\"580.5\" y=\"-126.8\" font-family=\"Times,serif\" font-size=\"14.00\" fill=\"#000000\">value = [0, 1, 2]</text>\n<text text-anchor=\"middle\" x=\"580.5\" y=\"-111.8\" font-family=\"Times,serif\" font-size=\"14.00\" fill=\"#000000\">class = virginica</text>\n</g>\n<!-- 10&#45;&gt;11 -->\n<g id=\"edge11\" class=\"edge\">\n<title>10&#45;&gt;11</title>\n<path fill=\"none\" stroke=\"#000000\" d=\"M580.5,-222.8796C580.5,-214.6838 580.5,-205.9891 580.5,-197.5013\"/>\n<polygon fill=\"#000000\" stroke=\"#000000\" points=\"584.0001,-197.298 580.5,-187.2981 577.0001,-197.2981 584.0001,-197.298\"/>\n</g>\n<!-- 14 -->\n<g id=\"node15\" class=\"node\">\n<title>14</title>\n<polygon fill=\"#8139e5\" stroke=\"#000000\" points=\"793,-179.5 676,-179.5 676,-111.5 793,-111.5 793,-179.5\"/>\n<text text-anchor=\"middle\" x=\"734.5\" y=\"-164.3\" font-family=\"Times,serif\" font-size=\"14.00\" fill=\"#000000\">gini = 0.0</text>\n<text text-anchor=\"middle\" x=\"734.5\" y=\"-149.3\" font-family=\"Times,serif\" font-size=\"14.00\" fill=\"#000000\">samples = 32</text>\n<text text-anchor=\"middle\" x=\"734.5\" y=\"-134.3\" font-family=\"Times,serif\" font-size=\"14.00\" fill=\"#000000\">value = [0, 0, 32]</text>\n<text text-anchor=\"middle\" x=\"734.5\" y=\"-119.3\" font-family=\"Times,serif\" font-size=\"14.00\" fill=\"#000000\">class = virginica</text>\n</g>\n<!-- 10&#45;&gt;14 -->\n<g id=\"edge14\" class=\"edge\">\n<title>10&#45;&gt;14</title>\n<path fill=\"none\" stroke=\"#000000\" d=\"M634.3617,-222.8796C649.7304,-211.0038 666.4547,-198.0804 681.7559,-186.2568\"/>\n<polygon fill=\"#000000\" stroke=\"#000000\" points=\"684.3196,-188.699 690.0924,-179.8149 680.0395,-183.1599 684.3196,-188.699\"/>\n</g>\n<!-- 12 -->\n<g id=\"node13\" class=\"node\">\n<title>12</title>\n<polygon fill=\"#8139e5\" stroke=\"#000000\" points=\"635.5,-68 525.5,-68 525.5,0 635.5,0 635.5,-68\"/>\n<text text-anchor=\"middle\" x=\"580.5\" y=\"-52.8\" font-family=\"Times,serif\" font-size=\"14.00\" fill=\"#000000\">gini = 0.0</text>\n<text text-anchor=\"middle\" x=\"580.5\" y=\"-37.8\" font-family=\"Times,serif\" font-size=\"14.00\" fill=\"#000000\">samples = 2</text>\n<text text-anchor=\"middle\" x=\"580.5\" y=\"-22.8\" font-family=\"Times,serif\" font-size=\"14.00\" fill=\"#000000\">value = [0, 0, 2]</text>\n<text text-anchor=\"middle\" x=\"580.5\" y=\"-7.8\" font-family=\"Times,serif\" font-size=\"14.00\" fill=\"#000000\">class = virginica</text>\n</g>\n<!-- 11&#45;&gt;12 -->\n<g id=\"edge12\" class=\"edge\">\n<title>11&#45;&gt;12</title>\n<path fill=\"none\" stroke=\"#000000\" d=\"M580.5,-103.9815C580.5,-95.618 580.5,-86.7965 580.5,-78.3409\"/>\n<polygon fill=\"#000000\" stroke=\"#000000\" points=\"584.0001,-78.2636 580.5,-68.2637 577.0001,-78.2637 584.0001,-78.2636\"/>\n</g>\n<!-- 13 -->\n<g id=\"node14\" class=\"node\">\n<title>13</title>\n<polygon fill=\"#39e581\" stroke=\"#000000\" points=\"769,-68 654,-68 654,0 769,0 769,-68\"/>\n<text text-anchor=\"middle\" x=\"711.5\" y=\"-52.8\" font-family=\"Times,serif\" font-size=\"14.00\" fill=\"#000000\">gini = 0.0</text>\n<text text-anchor=\"middle\" x=\"711.5\" y=\"-37.8\" font-family=\"Times,serif\" font-size=\"14.00\" fill=\"#000000\">samples = 1</text>\n<text text-anchor=\"middle\" x=\"711.5\" y=\"-22.8\" font-family=\"Times,serif\" font-size=\"14.00\" fill=\"#000000\">value = [0, 1, 0]</text>\n<text text-anchor=\"middle\" x=\"711.5\" y=\"-7.8\" font-family=\"Times,serif\" font-size=\"14.00\" fill=\"#000000\">class = versicolor</text>\n</g>\n<!-- 11&#45;&gt;13 -->\n<g id=\"edge13\" class=\"edge\">\n<title>11&#45;&gt;13</title>\n<path fill=\"none\" stroke=\"#000000\" d=\"M629.2796,-103.9815C640.4015,-94.5151 652.2128,-84.462 663.3099,-75.0168\"/>\n<polygon fill=\"#000000\" stroke=\"#000000\" points=\"665.8975,-77.4105 671.244,-68.2637 661.3604,-72.08 665.8975,-77.4105\"/>\n</g>\n</g>\n</svg>\n"
          },
          "metadata": {
            "tags": []
          },
          "execution_count": 92
        }
      ]
    },
    {
      "cell_type": "markdown",
      "metadata": {
        "id": "k1fFIIccwQUj"
      },
      "source": [
        "# Random Forest"
      ]
    },
    {
      "cell_type": "code",
      "metadata": {
        "id": "pdimVEgLxVI_"
      },
      "source": [
        "from sklearn.ensemble import RandomForestClassifier, GradientBoostingClassifier"
      ],
      "execution_count": null,
      "outputs": []
    },
    {
      "cell_type": "code",
      "metadata": {
        "colab": {
          "base_uri": "https://localhost:8080/"
        },
        "id": "4RM1DA86x7zG",
        "outputId": "6f2445b5-673a-4ebf-9b2f-dd306fdadbfa"
      },
      "source": [
        "X.shape, y.shape"
      ],
      "execution_count": null,
      "outputs": [
        {
          "output_type": "execute_result",
          "data": {
            "text/plain": [
              "((150, 4), (150,))"
            ]
          },
          "metadata": {
            "tags": []
          },
          "execution_count": 100
        }
      ]
    },
    {
      "cell_type": "code",
      "metadata": {
        "colab": {
          "base_uri": "https://localhost:8080/"
        },
        "id": "RKAoHVvxx__H",
        "outputId": "cc4417de-fe2f-4f25-d0fd-84db0e305ec8"
      },
      "source": [
        "X_train, X_test, y_train, y_test = train_test_split(X, y, test_size=0.3)\r\n",
        "rfc = RandomForestClassifier(n_estimators = 200)\r\n",
        "rfc.fit(X_train, y_train)\r\n",
        "rfc.score(X_test, y_test)\r\n"
      ],
      "execution_count": null,
      "outputs": [
        {
          "output_type": "execute_result",
          "data": {
            "text/plain": [
              "0.9777777777777777"
            ]
          },
          "metadata": {
            "tags": []
          },
          "execution_count": 111
        }
      ]
    },
    {
      "cell_type": "code",
      "metadata": {
        "colab": {
          "base_uri": "https://localhost:8080/"
        },
        "id": "_bd68cwg1NVf",
        "outputId": "7ea8baf2-ad02-4dda-a236-c760a3e3adba"
      },
      "source": [
        "rfc.feature_importances_"
      ],
      "execution_count": null,
      "outputs": [
        {
          "output_type": "execute_result",
          "data": {
            "text/plain": [
              "array([0.10536125, 0.03352916, 0.48712012, 0.37398946])"
            ]
          },
          "metadata": {
            "tags": []
          },
          "execution_count": 118
        }
      ]
    },
    {
      "cell_type": "code",
      "metadata": {
        "colab": {
          "base_uri": "https://localhost:8080/"
        },
        "id": "lRuHaxu7zI-4",
        "outputId": "2bccdc9e-45c4-4ccd-b5c8-58311c4a1dc4"
      },
      "source": [
        "X_train, X_test, y_train, y_test = train_test_split(X, y, test_size=0.3)\r\n",
        "gbc = GradientBoostingClassifier(n_estimators = 200)\r\n",
        "gbc.fit(X_train, y_train)\r\n",
        "gbc.score(X_test, y_test)"
      ],
      "execution_count": null,
      "outputs": [
        {
          "output_type": "execute_result",
          "data": {
            "text/plain": [
              "0.9777777777777777"
            ]
          },
          "metadata": {
            "tags": []
          },
          "execution_count": 122
        }
      ]
    },
    {
      "cell_type": "code",
      "metadata": {
        "colab": {
          "base_uri": "https://localhost:8080/"
        },
        "id": "jy9bZEM0yxly",
        "outputId": "67106392-2bfb-42a1-8bb9-c7c896b45304"
      },
      "source": [
        "gbc.feature_importances_"
      ],
      "execution_count": null,
      "outputs": [
        {
          "output_type": "execute_result",
          "data": {
            "text/plain": [
              "array([0.01393196, 0.00458026, 0.79810401, 0.18338377])"
            ]
          },
          "metadata": {
            "tags": []
          },
          "execution_count": 117
        }
      ]
    },
    {
      "cell_type": "markdown",
      "metadata": {
        "id": "4s7HCA2z1JNv"
      },
      "source": [
        "# with little bigger dataset"
      ]
    },
    {
      "cell_type": "code",
      "metadata": {
        "id": "Q9iKjDZ4-zxP"
      },
      "source": [
        "from sklearn.datasets import load_breast_cancer"
      ],
      "execution_count": null,
      "outputs": []
    },
    {
      "cell_type": "code",
      "metadata": {
        "colab": {
          "base_uri": "https://localhost:8080/"
        },
        "id": "oYLfWKcl_CIO",
        "outputId": "a9c1b510-188b-455e-b132-83d23d098418"
      },
      "source": [
        "cancer = load_breast_cancer()\r\n",
        "X, y = cancer.data, cancer.target\r\n",
        "X_train, X_test, y_train, y_test = train_test_split(X, y, test_size=0.3)\r\n",
        "clf = DecisionTreeClassifier()\r\n",
        "clf.fit(X_train, y_train)\r\n",
        "clf.score(X_test, y_test)"
      ],
      "execution_count": null,
      "outputs": [
        {
          "output_type": "execute_result",
          "data": {
            "text/plain": [
              "0.9122807017543859"
            ]
          },
          "metadata": {
            "tags": []
          },
          "execution_count": 180
        }
      ]
    },
    {
      "cell_type": "code",
      "metadata": {
        "colab": {
          "base_uri": "https://localhost:8080/"
        },
        "id": "TLBK12nz__rB",
        "outputId": "29c06e70-f6f8-42df-d6c3-d4fb36f75941"
      },
      "source": [
        "X.shape, y.shape"
      ],
      "execution_count": null,
      "outputs": [
        {
          "output_type": "execute_result",
          "data": {
            "text/plain": [
              "((569, 30), (569,))"
            ]
          },
          "metadata": {
            "tags": []
          },
          "execution_count": 181
        }
      ]
    },
    {
      "cell_type": "code",
      "metadata": {
        "colab": {
          "base_uri": "https://localhost:8080/"
        },
        "id": "qhNvwvJNAR1u",
        "outputId": "950fd694-7138-45f9-f6fe-c13936f12040"
      },
      "source": [
        "clf.feature_importances_"
      ],
      "execution_count": null,
      "outputs": [
        {
          "output_type": "execute_result",
          "data": {
            "text/plain": [
              "array([0.        , 0.02751574, 0.        , 0.01082362, 0.00818593,\n",
              "       0.00818593, 0.01064472, 0.        , 0.        , 0.        ,\n",
              "       0.00259185, 0.        , 0.        , 0.03432097, 0.        ,\n",
              "       0.        , 0.        , 0.        , 0.0122789 , 0.        ,\n",
              "       0.        , 0.03706291, 0.        , 0.10169966, 0.        ,\n",
              "       0.00727638, 0.01198463, 0.72742875, 0.        , 0.        ])"
            ]
          },
          "metadata": {
            "tags": []
          },
          "execution_count": 182
        }
      ]
    },
    {
      "cell_type": "code",
      "metadata": {
        "id": "btYnKBv2_b_w"
      },
      "source": [
        "# cancer.feature_names\n",
        "df = pd.DataFrame(list(zip(cancer.feature_names, clf.feature_importances_)))"
      ],
      "execution_count": null,
      "outputs": []
    },
    {
      "cell_type": "code",
      "metadata": {
        "id": "LGIlQuaoBXgf"
      },
      "source": [
        "df.columns = ['feature', 'importance']"
      ],
      "execution_count": null,
      "outputs": []
    },
    {
      "cell_type": "code",
      "metadata": {
        "id": "Vr6BXvBCAouY"
      },
      "source": [
        "df = df.sort_values(by='importance', ascending=False)"
      ],
      "execution_count": null,
      "outputs": []
    },
    {
      "cell_type": "code",
      "metadata": {
        "colab": {
          "base_uri": "https://localhost:8080/",
          "height": 204
        },
        "id": "vQnm9HoOBP-X",
        "outputId": "574abb95-176a-4e00-cf77-38ac06929f34"
      },
      "source": [
        "df.head()"
      ],
      "execution_count": null,
      "outputs": [
        {
          "output_type": "execute_result",
          "data": {
            "text/html": [
              "<div>\n",
              "<style scoped>\n",
              "    .dataframe tbody tr th:only-of-type {\n",
              "        vertical-align: middle;\n",
              "    }\n",
              "\n",
              "    .dataframe tbody tr th {\n",
              "        vertical-align: top;\n",
              "    }\n",
              "\n",
              "    .dataframe thead th {\n",
              "        text-align: right;\n",
              "    }\n",
              "</style>\n",
              "<table border=\"1\" class=\"dataframe\">\n",
              "  <thead>\n",
              "    <tr style=\"text-align: right;\">\n",
              "      <th></th>\n",
              "      <th>feature</th>\n",
              "      <th>importance</th>\n",
              "    </tr>\n",
              "  </thead>\n",
              "  <tbody>\n",
              "    <tr>\n",
              "      <th>27</th>\n",
              "      <td>worst concave points</td>\n",
              "      <td>0.727429</td>\n",
              "    </tr>\n",
              "    <tr>\n",
              "      <th>23</th>\n",
              "      <td>worst area</td>\n",
              "      <td>0.101700</td>\n",
              "    </tr>\n",
              "    <tr>\n",
              "      <th>21</th>\n",
              "      <td>worst texture</td>\n",
              "      <td>0.037063</td>\n",
              "    </tr>\n",
              "    <tr>\n",
              "      <th>13</th>\n",
              "      <td>area error</td>\n",
              "      <td>0.034321</td>\n",
              "    </tr>\n",
              "    <tr>\n",
              "      <th>1</th>\n",
              "      <td>mean texture</td>\n",
              "      <td>0.027516</td>\n",
              "    </tr>\n",
              "  </tbody>\n",
              "</table>\n",
              "</div>"
            ],
            "text/plain": [
              "                 feature  importance\n",
              "27  worst concave points    0.727429\n",
              "23            worst area    0.101700\n",
              "21         worst texture    0.037063\n",
              "13            area error    0.034321\n",
              "1           mean texture    0.027516"
            ]
          },
          "metadata": {
            "tags": []
          },
          "execution_count": 188
        }
      ]
    },
    {
      "cell_type": "code",
      "metadata": {
        "colab": {
          "base_uri": "https://localhost:8080/",
          "height": 442
        },
        "id": "XpCzEqiGBup1",
        "outputId": "1736617d-2187-4775-a9e6-13c8b415903b"
      },
      "source": [
        "x = df.feature\r\n",
        "y = df.importance\r\n",
        "ypos = np.arange(len(x))\r\n",
        "plt.figure(figsize=(10,7))\r\n",
        "plt.barh(x, y)\r\n",
        "plt.yticks(ypos, x)\r\n",
        "plt.xlabel('importance')\r\n",
        "plt.ylabel('variable')\r\n",
        "plt.xlim(0, 1)\r\n",
        "plt.ylim(-1, len(x))\r\n",
        "plt.show()"
      ],
      "execution_count": null,
      "outputs": [
        {
          "output_type": "display_data",
          "data": {
            "image/png": "[encoded data removed]",
            "text/plain": [
              "<Figure size 720x504 with 1 Axes>"
            ]
          },
          "metadata": {
            "tags": [],
            "needs_background": "light"
          }
        }
      ]
    },
    {
      "cell_type": "code",
      "metadata": {
        "colab": {
          "base_uri": "https://localhost:8080/",
          "height": 442
        },
        "id": "_jDSV81cCZaR",
        "outputId": "e97397d8-2332-48ba-a974-d91a7ac50e11"
      },
      "source": [
        "# randomforest\r\n",
        "rfc = RandomForestClassifier(n_estimators=1000)\r\n",
        "rfc.fit(X_train, y_train)\r\n",
        "rfc.score(X_test, y_test)\r\n",
        "df = pd.DataFrame(list(zip(cancer.feature_names, rfc.feature_importances_)))\r\n",
        "df.columns = ['feature', 'importance']\r\n",
        "df = df.sort_values(by='importance', ascending=False)\r\n",
        "\r\n",
        "x = df.feature\r\n",
        "y = df.importance\r\n",
        "ypos = np.arange(len(x))\r\n",
        "plt.figure(figsize=(10,7))\r\n",
        "plt.barh(x, y)\r\n",
        "plt.yticks(ypos, x)\r\n",
        "plt.xlabel('importance')\r\n",
        "plt.ylabel('variable')\r\n",
        "plt.xlim(0, 1)\r\n",
        "plt.ylim(-1, len(x))\r\n",
        "plt.show()"
      ],
      "execution_count": null,
      "outputs": [
        {
          "output_type": "display_data",
          "data": {
            "image/png": "[encoded data removed]",
            "text/plain": [
              "<Figure size 720x504 with 1 Axes>"
            ]
          },
          "metadata": {
            "tags": [],
            "needs_background": "light"
          }
        }
      ]
    },
    {
      "cell_type": "code",
      "metadata": {
        "colab": {
          "base_uri": "https://localhost:8080/",
          "height": 442
        },
        "id": "b17oVYWVIxRG",
        "outputId": "f2f55459-d59e-489e-ae30-335f6497fb5d"
      },
      "source": [
        "gbc = GradientBoostingClassifier(n_estimators=1000)\r\n",
        "gbc.fit(X_train, y_train)\r\n",
        "gbc.score(X_test, y_test)\r\n",
        "\r\n",
        "df = pd.DataFrame(list(zip(cancer.feature_names, gbc.feature_importances_)))\r\n",
        "df.columns = ['feature', 'importance']\r\n",
        "df = df.sort_values(by='importance', ascending=False)\r\n",
        "\r\n",
        "x = df.feature\r\n",
        "y = df.importance\r\n",
        "ypos = np.arange(len(x))\r\n",
        "plt.figure(figsize=(10,7))\r\n",
        "plt.barh(x, y)\r\n",
        "plt.yticks(ypos, x)\r\n",
        "plt.xlabel('importance')\r\n",
        "plt.ylabel('variable')\r\n",
        "plt.xlim(0, 1)\r\n",
        "plt.ylim(-1, len(x))\r\n",
        "plt.show()"
      ],
      "execution_count": null,
      "outputs": [
        {
          "output_type": "display_data",
          "data": {
            "image/png": "[encoded data removed]",
            "text/plain": [
              "<Figure size 720x504 with 1 Axes>"
            ]
          },
          "metadata": {
            "tags": [],
            "needs_background": "light"
          }
        }
      ]
    }
  ]
}