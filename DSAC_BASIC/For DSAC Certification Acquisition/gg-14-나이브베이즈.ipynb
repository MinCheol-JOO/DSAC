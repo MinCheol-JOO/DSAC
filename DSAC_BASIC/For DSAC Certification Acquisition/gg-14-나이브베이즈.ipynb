{
 "cells": [
  {
   "cell_type": "markdown",
   "metadata": {},
   "source": [
    "#  성별에 따른 데이터 시각화 및 나이브 베이즈이론을 활용한 예약 이행 여부 예측\n",
    "## 캐글  문제 : https://www.kaggle.com/joniarroba/noshowappointments\n",
    "### 데이터\n",
    "\n",
    "https://raw.githubusercontent.com/ZubairHussain/Appointment-No-Show-/master/No-show-Issue-Comma-300k.csv"
   ]
  },
  {
   "cell_type": "code",
   "execution_count": 2,
   "metadata": {},
   "outputs": [],
   "source": [
    "import numpy as np \n",
    "import pandas as pd\n",
    "import matplotlib.pyplot as plt \n",
    "import seaborn as sns "
   ]
  },
  {
   "cell_type": "code",
   "execution_count": 3,
   "metadata": {},
   "outputs": [
    {
     "name": "stderr",
     "output_type": "stream",
     "text": [
      "  % Total    % Received % Xferd  Average Speed   Time    Time     Time  Current\n",
      "                                 Dload  Upload   Total   Spent    Left  Speed\n",
      "\n",
      "  0     0    0     0    0     0      0      0 --:--:-- --:--:-- --:--:--     0\n",
      "  0     0    0     0    0     0      0      0 --:--:-- --:--:-- --:--:--     0\n",
      "  0     0    0     0    0     0      0      0 --:--:--  0:00:01 --:--:--     0\n",
      "  0     0    0     0    0     0      0      0 --:--:--  0:00:02 --:--:--     0\n",
      "  0     0    0     0    0     0      0      0 --:--:--  0:00:03 --:--:--     0\n",
      "  0 23.6M    0  6855    0     0   1706      0  4:02:00  0:00:04  4:01:56  1706\n",
      "  0 23.6M    0 81703    0     0  16265      0  0:25:23  0:00:05  0:25:18 16330\n",
      "  0 23.6M    0  231k    0     0  39354      0  0:10:29  0:00:06  0:10:23 52738\n",
      "  2 23.6M    2  567k    0     0  82800      0  0:04:59  0:00:07  0:04:52  126k\n",
      "  3 23.6M    3  934k    0     0   116k      0  0:03:27  0:00:08  0:03:19  209k\n",
      "  5 23.6M    5 1302k    0     0   144k      0  0:02:47  0:00:09  0:02:38  259k\n",
      "  6 23.6M    6 1654k    0     0   165k      0  0:02:26  0:00:10  0:02:16  315k\n",
      "  8 23.6M    8 2006k    0     0   182k      0  0:02:12  0:00:11  0:02:01  355k\n",
      "  9 23.6M    9 2374k    0     0   197k      0  0:02:02  0:00:12  0:01:50  361k\n",
      " 11 23.6M   11 2726k    0     0   209k      0  0:01:55  0:00:13  0:01:42  358k\n",
      " 12 23.6M   12 3094k    0     0   220k      0  0:01:49  0:00:14  0:01:35  358k\n",
      " 14 23.6M   14 3446k    0     0   229k      0  0:01:45  0:00:15  0:01:30  358k\n",
      " 15 23.6M   15 3798k    0     0   237k      0  0:01:42  0:00:16  0:01:26  358k\n",
      " 17 23.6M   17 4166k    0     0   244k      0  0:01:38  0:00:17  0:01:21  358k\n",
      " 18 23.6M   18 4518k    0     0   250k      0  0:01:36  0:00:18  0:01:18  358k\n",
      " 20 23.6M   20 4870k    0     0   256k      0  0:01:34  0:00:19  0:01:15  355k\n",
      " 21 23.6M   21 5238k    0     0   261k      0  0:01:32  0:00:20  0:01:12  358k\n",
      " 23 23.6M   23 5590k    0     0   265k      0  0:01:30  0:00:21  0:01:09  358k\n",
      " 24 23.6M   24 5942k    0     0   269k      0  0:01:29  0:00:22  0:01:07  355k\n",
      " 24 23.6M   24 6022k    0     0   255k      0  0:01:34  0:00:23  0:01:11  269k\n",
      " 25 23.6M   25 6166k    0     0   256k      0  0:01:34  0:00:24  0:01:10  259k\n",
      " 27 23.6M   27 6534k    0     0   261k      0  0:01:32  0:00:25  0:01:07  259k\n",
      " 28 23.6M   28 6886k    0     0   264k      0  0:01:31  0:00:26  0:01:05  259k\n",
      " 29 23.6M   29 7238k    0     0   267k      0  0:01:30  0:00:27  0:01:03  259k\n",
      " 31 23.6M   31 7590k    0     0   270k      0  0:01:29  0:00:28  0:01:01  355k\n",
      " 32 23.6M   32 7942k    0     0   273k      0  0:01:28  0:00:29  0:00:59  355k\n",
      " 34 23.6M   34 8294k    0     0   276k      0  0:01:27  0:00:30  0:00:57  352k\n",
      " 35 23.6M   35 8662k    0     0   279k      0  0:01:26  0:00:31  0:00:55  355k\n",
      " 37 23.6M   37 9014k    0     0   281k      0  0:01:25  0:00:32  0:00:53  355k\n",
      " 38 23.6M   38 9366k    0     0   283k      0  0:01:25  0:00:33  0:00:52  355k\n",
      " 40 23.6M   40 9734k    0     0   286k      0  0:01:24  0:00:34  0:00:50  358k\n",
      " 41 23.6M   41  9.8M    0     0   288k      0  0:01:23  0:00:35  0:00:48  358k\n",
      " 43 23.6M   43 10.1M    0     0   284k      0  0:01:25  0:00:36  0:00:49  312k\n",
      " 43 23.6M   43 10.1M    0     0   279k      0  0:01:26  0:00:37  0:00:49  266k\n",
      " 44 23.6M   44 10.4M    0     0   280k      0  0:01:26  0:00:38  0:00:48  262k\n",
      " 45 23.6M   45 10.7M    0     0   282k      0  0:01:25  0:00:39  0:00:46  259k\n",
      " 47 23.6M   47 11.1M    0     0   284k      0  0:01:25  0:00:40  0:00:45  259k\n",
      " 48 23.6M   48 11.4M    0     0   286k      0  0:01:24  0:00:41  0:00:43  301k\n",
      " 49 23.6M   49 11.8M    0     0   287k      0  0:01:24  0:00:42  0:00:42  353k\n",
      " 51 23.6M   51 12.1M    0     0   289k      0  0:01:23  0:00:43  0:00:40  355k\n",
      " 52 23.6M   52 12.5M    0     0   290k      0  0:01:23  0:00:44  0:00:39  355k\n",
      " 54 23.6M   54 12.8M    0     0   292k      0  0:01:22  0:00:45  0:00:37  354k\n",
      " 55 23.6M   55 13.1M    0     0   293k      0  0:01:22  0:00:46  0:00:36  354k\n",
      " 57 23.6M   57 13.5M    0     0   294k      0  0:01:22  0:00:47  0:00:35  354k\n",
      " 58 23.6M   58 13.8M    0     0   296k      0  0:01:21  0:00:48  0:00:33  351k\n",
      " 60 23.6M   60 14.2M    0     0   297k      0  0:01:21  0:00:49  0:00:32  352k\n",
      " 61 23.6M   61 14.5M    0     0   298k      0  0:01:21  0:00:50  0:00:31  352k\n",
      " 63 23.6M   63 14.9M    0     0   299k      0  0:01:20  0:00:51  0:00:29  352k\n",
      " 63 23.6M   63 15.1M    0     0   295k      0  0:01:21  0:00:52  0:00:29  305k\n",
      " 64 23.6M   64 15.1M    0     0   292k      0  0:01:22  0:00:53  0:00:29  256k\n",
      " 65 23.6M   65 15.4M    0     0   293k      0  0:01:22  0:00:54  0:00:28  256k\n",
      " 66 23.6M   66 15.8M    0     0   294k      0  0:01:22  0:00:55  0:00:27  256k\n",
      " 68 23.6M   68 16.1M    0     0   295k      0  0:01:21  0:00:56  0:00:25  256k\n",
      " 69 23.6M   69 16.5M    0     0   296k      0  0:01:21  0:00:57  0:00:24  302k\n",
      " 71 23.6M   71 16.8M    0     0   297k      0  0:01:21  0:00:58  0:00:23  351k\n",
      " 72 23.6M   72 17.1M    0     0   298k      0  0:01:21  0:00:59  0:00:22  351k\n",
      " 74 23.6M   74 17.5M    0     0   299k      0  0:01:20  0:01:00  0:00:20  352k\n",
      " 75 23.6M   75 17.8M    0     0   300k      0  0:01:20  0:01:01  0:00:19  351k\n",
      " 77 23.6M   77 18.2M    0     0   300k      0  0:01:20  0:01:02  0:00:18  348k\n",
      " 78 23.6M   78 18.5M    0     0   301k      0  0:01:20  0:01:03  0:00:17  348k\n",
      " 79 23.6M   79 18.8M    0     0   302k      0  0:01:20  0:01:04  0:00:16  345k\n",
      " 81 23.6M   81 19.2M    0     0   302k      0  0:01:19  0:01:05  0:00:14  345k\n",
      " 82 23.6M   82 19.5M    0     0   303k      0  0:01:19  0:01:06  0:00:13  343k\n",
      " 83 23.6M   83 19.8M    0     0   300k      0  0:01:20  0:01:07  0:00:13  300k\n",
      " 83 23.6M   83 19.8M    0     0   297k      0  0:01:21  0:01:08  0:00:13  250k\n",
      " 85 23.6M   85 20.1M    0     0   298k      0  0:01:21  0:01:09  0:00:12  249k\n",
      " 86 23.6M   86 20.4M    0     0   298k      0  0:01:20  0:01:10  0:00:10  249k\n",
      " 87 23.6M   87 20.7M    0     0   299k      0  0:01:20  0:01:11  0:00:09  248k\n",
      " 89 23.6M   89 21.1M    0     0   300k      0  0:01:20  0:01:12  0:00:08  290k\n",
      " 90 23.6M   90 21.4M    0     0   300k      0  0:01:20  0:01:13  0:00:07  345k\n",
      " 92 23.6M   92 21.7M    0     0   301k      0  0:01:20  0:01:14  0:00:06  345k\n",
      " 93 23.6M   93 22.1M    0     0   301k      0  0:01:20  0:01:15  0:00:05  339k\n",
      " 95 23.6M   95 22.4M    0     0   302k      0  0:01:20  0:01:16  0:00:04  342k\n",
      " 96 23.6M   96 22.7M    0     0   302k      0  0:01:19  0:01:17  0:00:02  345k\n",
      " 97 23.6M   97 23.1M    0     0   303k      0  0:01:19  0:01:18  0:00:01  342k\n",
      " 99 23.6M   99 23.4M    0     0   303k      0  0:01:19  0:01:19 --:--:--  339k\n",
      "100 23.6M  100 23.6M    0     0   304k      0  0:01:19  0:01:19 --:--:--  344k\n"
     ]
    }
   ],
   "source": [
    "!curl https://raw.githubusercontent.com/ZubairHussain/Appointment-No-Show-/master/No-show-Issue-Comma-300k.csv\\\n",
    "    -o ./data/no_show.csv"
   ]
  },
  {
   "cell_type": "code",
   "execution_count": 4,
   "metadata": {},
   "outputs": [
    {
     "data": {
      "text/html": [
       "<div>\n",
       "<style scoped>\n",
       "    .dataframe tbody tr th:only-of-type {\n",
       "        vertical-align: middle;\n",
       "    }\n",
       "\n",
       "    .dataframe tbody tr th {\n",
       "        vertical-align: top;\n",
       "    }\n",
       "\n",
       "    .dataframe thead th {\n",
       "        text-align: right;\n",
       "    }\n",
       "</style>\n",
       "<table border=\"1\" class=\"dataframe\">\n",
       "  <thead>\n",
       "    <tr style=\"text-align: right;\">\n",
       "      <th></th>\n",
       "      <th>Age</th>\n",
       "      <th>Gender</th>\n",
       "      <th>AppointmentRegistration</th>\n",
       "      <th>ApointmentData</th>\n",
       "      <th>DayOfTheWeek</th>\n",
       "      <th>Status</th>\n",
       "      <th>Diabetes</th>\n",
       "      <th>Alcoolism</th>\n",
       "      <th>HiperTension</th>\n",
       "      <th>Handcap</th>\n",
       "      <th>Smokes</th>\n",
       "      <th>Scholarship</th>\n",
       "      <th>Tuberculosis</th>\n",
       "      <th>Sms_Reminder</th>\n",
       "      <th>AwaitingTime</th>\n",
       "    </tr>\n",
       "  </thead>\n",
       "  <tbody>\n",
       "    <tr>\n",
       "      <th>0</th>\n",
       "      <td>19</td>\n",
       "      <td>M</td>\n",
       "      <td>2014-12-16T14:46:25Z</td>\n",
       "      <td>2015-01-14T00:00:00Z</td>\n",
       "      <td>Wednesday</td>\n",
       "      <td>Show-Up</td>\n",
       "      <td>0</td>\n",
       "      <td>0</td>\n",
       "      <td>0</td>\n",
       "      <td>0</td>\n",
       "      <td>0</td>\n",
       "      <td>0</td>\n",
       "      <td>0</td>\n",
       "      <td>0</td>\n",
       "      <td>-29</td>\n",
       "    </tr>\n",
       "    <tr>\n",
       "      <th>1</th>\n",
       "      <td>24</td>\n",
       "      <td>F</td>\n",
       "      <td>2015-08-18T07:01:26Z</td>\n",
       "      <td>2015-08-19T00:00:00Z</td>\n",
       "      <td>Wednesday</td>\n",
       "      <td>Show-Up</td>\n",
       "      <td>0</td>\n",
       "      <td>0</td>\n",
       "      <td>0</td>\n",
       "      <td>0</td>\n",
       "      <td>0</td>\n",
       "      <td>0</td>\n",
       "      <td>0</td>\n",
       "      <td>0</td>\n",
       "      <td>-1</td>\n",
       "    </tr>\n",
       "    <tr>\n",
       "      <th>2</th>\n",
       "      <td>4</td>\n",
       "      <td>F</td>\n",
       "      <td>2014-02-17T12:53:46Z</td>\n",
       "      <td>2014-02-18T00:00:00Z</td>\n",
       "      <td>Tuesday</td>\n",
       "      <td>Show-Up</td>\n",
       "      <td>0</td>\n",
       "      <td>0</td>\n",
       "      <td>0</td>\n",
       "      <td>0</td>\n",
       "      <td>0</td>\n",
       "      <td>0</td>\n",
       "      <td>0</td>\n",
       "      <td>0</td>\n",
       "      <td>-1</td>\n",
       "    </tr>\n",
       "    <tr>\n",
       "      <th>3</th>\n",
       "      <td>5</td>\n",
       "      <td>M</td>\n",
       "      <td>2014-07-23T17:02:11Z</td>\n",
       "      <td>2014-08-07T00:00:00Z</td>\n",
       "      <td>Thursday</td>\n",
       "      <td>Show-Up</td>\n",
       "      <td>0</td>\n",
       "      <td>0</td>\n",
       "      <td>0</td>\n",
       "      <td>0</td>\n",
       "      <td>0</td>\n",
       "      <td>0</td>\n",
       "      <td>0</td>\n",
       "      <td>1</td>\n",
       "      <td>-15</td>\n",
       "    </tr>\n",
       "    <tr>\n",
       "      <th>4</th>\n",
       "      <td>38</td>\n",
       "      <td>M</td>\n",
       "      <td>2015-10-21T15:20:09Z</td>\n",
       "      <td>2015-10-27T00:00:00Z</td>\n",
       "      <td>Tuesday</td>\n",
       "      <td>Show-Up</td>\n",
       "      <td>0</td>\n",
       "      <td>0</td>\n",
       "      <td>0</td>\n",
       "      <td>0</td>\n",
       "      <td>0</td>\n",
       "      <td>0</td>\n",
       "      <td>0</td>\n",
       "      <td>1</td>\n",
       "      <td>-6</td>\n",
       "    </tr>\n",
       "  </tbody>\n",
       "</table>\n",
       "</div>"
      ],
      "text/plain": [
       "   Age Gender AppointmentRegistration        ApointmentData DayOfTheWeek  \\\n",
       "0   19      M    2014-12-16T14:46:25Z  2015-01-14T00:00:00Z    Wednesday   \n",
       "1   24      F    2015-08-18T07:01:26Z  2015-08-19T00:00:00Z    Wednesday   \n",
       "2    4      F    2014-02-17T12:53:46Z  2014-02-18T00:00:00Z      Tuesday   \n",
       "3    5      M    2014-07-23T17:02:11Z  2014-08-07T00:00:00Z     Thursday   \n",
       "4   38      M    2015-10-21T15:20:09Z  2015-10-27T00:00:00Z      Tuesday   \n",
       "\n",
       "    Status  Diabetes  Alcoolism  HiperTension  Handcap  Smokes  Scholarship  \\\n",
       "0  Show-Up         0          0             0        0       0            0   \n",
       "1  Show-Up         0          0             0        0       0            0   \n",
       "2  Show-Up         0          0             0        0       0            0   \n",
       "3  Show-Up         0          0             0        0       0            0   \n",
       "4  Show-Up         0          0             0        0       0            0   \n",
       "\n",
       "   Tuberculosis  Sms_Reminder  AwaitingTime  \n",
       "0             0             0           -29  \n",
       "1             0             0            -1  \n",
       "2             0             0            -1  \n",
       "3             0             1           -15  \n",
       "4             0             1            -6  "
      ]
     },
     "execution_count": 4,
     "metadata": {},
     "output_type": "execute_result"
    }
   ],
   "source": [
    "data =  pd.read_csv('./data/no_show.csv')\n",
    "data.head()"
   ]
  },
  {
   "cell_type": "markdown",
   "metadata": {},
   "source": [
    "# 1. 데이터 점검"
   ]
  },
  {
   "cell_type": "markdown",
   "metadata": {
    "collapsed": true
   },
   "source": [
    "### 1.1 데이터 정리 및 오타 제거\n",
    "\n",
    "일부 column의 오타를 알맞게 고치고 예약 등록날과 예약된 날의 간격의 수를 양수로 바꾸어준다.  "
   ]
  },
  {
   "cell_type": "code",
   "execution_count": 5,
   "metadata": {},
   "outputs": [
    {
     "data": {
      "text/plain": [
       "Index(['Age', 'Gender', 'AppointmentRegistration', 'ApointmentData',\n",
       "       'DayOfTheWeek', 'Status', 'Diabetes', 'Alcoolism', 'HiperTension',\n",
       "       'Handcap', 'Smokes', 'Scholarship', 'Tuberculosis', 'Sms_Reminder',\n",
       "       'AwaitingTime'],\n",
       "      dtype='object')"
      ]
     },
     "execution_count": 5,
     "metadata": {},
     "output_type": "execute_result"
    }
   ],
   "source": [
    "data.columns"
   ]
  },
  {
   "cell_type": "code",
   "execution_count": 6,
   "metadata": {},
   "outputs": [
    {
     "data": {
      "text/html": [
       "<div>\n",
       "<style scoped>\n",
       "    .dataframe tbody tr th:only-of-type {\n",
       "        vertical-align: middle;\n",
       "    }\n",
       "\n",
       "    .dataframe tbody tr th {\n",
       "        vertical-align: top;\n",
       "    }\n",
       "\n",
       "    .dataframe thead th {\n",
       "        text-align: right;\n",
       "    }\n",
       "</style>\n",
       "<table border=\"1\" class=\"dataframe\">\n",
       "  <thead>\n",
       "    <tr style=\"text-align: right;\">\n",
       "      <th></th>\n",
       "      <th>Age</th>\n",
       "      <th>Gender</th>\n",
       "      <th>AppointmentRegistration</th>\n",
       "      <th>AppointmentData</th>\n",
       "      <th>DayOfTheWeek</th>\n",
       "      <th>Status</th>\n",
       "      <th>Diabetes</th>\n",
       "      <th>Alcoholism</th>\n",
       "      <th>Hypertension</th>\n",
       "      <th>Handicap</th>\n",
       "      <th>Smokes</th>\n",
       "      <th>Scholarship</th>\n",
       "      <th>Tuberculosis</th>\n",
       "      <th>Sms_Reminder</th>\n",
       "      <th>AwaitingTime</th>\n",
       "    </tr>\n",
       "  </thead>\n",
       "  <tbody>\n",
       "    <tr>\n",
       "      <th>0</th>\n",
       "      <td>19</td>\n",
       "      <td>M</td>\n",
       "      <td>2014-12-16T14:46:25Z</td>\n",
       "      <td>2015-01-14T00:00:00Z</td>\n",
       "      <td>Wednesday</td>\n",
       "      <td>Show-Up</td>\n",
       "      <td>0</td>\n",
       "      <td>0</td>\n",
       "      <td>0</td>\n",
       "      <td>0</td>\n",
       "      <td>0</td>\n",
       "      <td>0</td>\n",
       "      <td>0</td>\n",
       "      <td>0</td>\n",
       "      <td>-29</td>\n",
       "    </tr>\n",
       "    <tr>\n",
       "      <th>1</th>\n",
       "      <td>24</td>\n",
       "      <td>F</td>\n",
       "      <td>2015-08-18T07:01:26Z</td>\n",
       "      <td>2015-08-19T00:00:00Z</td>\n",
       "      <td>Wednesday</td>\n",
       "      <td>Show-Up</td>\n",
       "      <td>0</td>\n",
       "      <td>0</td>\n",
       "      <td>0</td>\n",
       "      <td>0</td>\n",
       "      <td>0</td>\n",
       "      <td>0</td>\n",
       "      <td>0</td>\n",
       "      <td>0</td>\n",
       "      <td>-1</td>\n",
       "    </tr>\n",
       "    <tr>\n",
       "      <th>2</th>\n",
       "      <td>4</td>\n",
       "      <td>F</td>\n",
       "      <td>2014-02-17T12:53:46Z</td>\n",
       "      <td>2014-02-18T00:00:00Z</td>\n",
       "      <td>Tuesday</td>\n",
       "      <td>Show-Up</td>\n",
       "      <td>0</td>\n",
       "      <td>0</td>\n",
       "      <td>0</td>\n",
       "      <td>0</td>\n",
       "      <td>0</td>\n",
       "      <td>0</td>\n",
       "      <td>0</td>\n",
       "      <td>0</td>\n",
       "      <td>-1</td>\n",
       "    </tr>\n",
       "    <tr>\n",
       "      <th>3</th>\n",
       "      <td>5</td>\n",
       "      <td>M</td>\n",
       "      <td>2014-07-23T17:02:11Z</td>\n",
       "      <td>2014-08-07T00:00:00Z</td>\n",
       "      <td>Thursday</td>\n",
       "      <td>Show-Up</td>\n",
       "      <td>0</td>\n",
       "      <td>0</td>\n",
       "      <td>0</td>\n",
       "      <td>0</td>\n",
       "      <td>0</td>\n",
       "      <td>0</td>\n",
       "      <td>0</td>\n",
       "      <td>1</td>\n",
       "      <td>-15</td>\n",
       "    </tr>\n",
       "    <tr>\n",
       "      <th>4</th>\n",
       "      <td>38</td>\n",
       "      <td>M</td>\n",
       "      <td>2015-10-21T15:20:09Z</td>\n",
       "      <td>2015-10-27T00:00:00Z</td>\n",
       "      <td>Tuesday</td>\n",
       "      <td>Show-Up</td>\n",
       "      <td>0</td>\n",
       "      <td>0</td>\n",
       "      <td>0</td>\n",
       "      <td>0</td>\n",
       "      <td>0</td>\n",
       "      <td>0</td>\n",
       "      <td>0</td>\n",
       "      <td>1</td>\n",
       "      <td>-6</td>\n",
       "    </tr>\n",
       "  </tbody>\n",
       "</table>\n",
       "</div>"
      ],
      "text/plain": [
       "   Age Gender AppointmentRegistration       AppointmentData DayOfTheWeek  \\\n",
       "0   19      M    2014-12-16T14:46:25Z  2015-01-14T00:00:00Z    Wednesday   \n",
       "1   24      F    2015-08-18T07:01:26Z  2015-08-19T00:00:00Z    Wednesday   \n",
       "2    4      F    2014-02-17T12:53:46Z  2014-02-18T00:00:00Z      Tuesday   \n",
       "3    5      M    2014-07-23T17:02:11Z  2014-08-07T00:00:00Z     Thursday   \n",
       "4   38      M    2015-10-21T15:20:09Z  2015-10-27T00:00:00Z      Tuesday   \n",
       "\n",
       "    Status  Diabetes  Alcoholism  Hypertension  Handicap  Smokes  Scholarship  \\\n",
       "0  Show-Up         0           0             0         0       0            0   \n",
       "1  Show-Up         0           0             0         0       0            0   \n",
       "2  Show-Up         0           0             0         0       0            0   \n",
       "3  Show-Up         0           0             0         0       0            0   \n",
       "4  Show-Up         0           0             0         0       0            0   \n",
       "\n",
       "   Tuberculosis  Sms_Reminder  AwaitingTime  \n",
       "0             0             0           -29  \n",
       "1             0             0            -1  \n",
       "2             0             0            -1  \n",
       "3             0             1           -15  \n",
       "4             0             1            -6  "
      ]
     },
     "execution_count": 6,
     "metadata": {},
     "output_type": "execute_result"
    }
   ],
   "source": [
    "data.rename(columns = {'ApointmentData':'AppointmentData', 'Alcoolism': 'Alcoholism', #철자가 틀린것을 고치기\n",
    "                         'HiperTension': 'Hypertension', 'Handcap': 'Handicap'}, inplace = True) \n",
    "\n",
    "data.head(5)     "
   ]
  },
  {
   "cell_type": "code",
   "execution_count": 7,
   "metadata": {},
   "outputs": [
    {
     "name": "stdout",
     "output_type": "stream",
     "text": [
      "0    29\n",
      "1     1\n",
      "2     1\n",
      "3    15\n",
      "4     6\n",
      "Name: AwaitingTime, dtype: int64\n"
     ]
    }
   ],
   "source": [
    "data.AwaitingTime = data.AwaitingTime.apply(abs) #등록날과 예약된 날의 간격이 음수로 되어있는데 이것을 절대값을 씌어주어 양수로 고쳐준다\n",
    "print(data.AwaitingTime.head())"
   ]
  },
  {
   "cell_type": "markdown",
   "metadata": {},
   "source": [
    "###  1.2  에러 체크 및 제거\n",
    "데이터를 확인하여 NAN이나 맞지 않는 값을 찾아내 제거한다."
   ]
  },
  {
   "cell_type": "code",
   "execution_count": 8,
   "metadata": {},
   "outputs": [
    {
     "name": "stdout",
     "output_type": "stream",
     "text": [
      "Age: [-2, -1, 0, 1, 2, 3, 4, 5, 6, 7, 8, 9, 10, 11, 12, 13, 14, 15, 16, 17, 18, 19, 20, 21, 22, 23, 24, 25, 26, 27, 28, 29, 30, 31, 32, 33, 34, 35, 36, 37, 38, 39, 40, 41, 42, 43, 44, 45, 46, 47, 48, 49, 50, 51, 52, 53, 54, 55, 56, 57, 58, 59, 60, 61, 62, 63, 64, 65, 66, 67, 68, 69, 70, 71, 72, 73, 74, 75, 76, 77, 78, 79, 80, 81, 82, 83, 84, 85, 86, 87, 88, 89, 90, 91, 92, 93, 94, 95, 96, 97, 98, 99, 100, 101, 102, 103, 104, 108, 113]\n",
      "Gender: ['M' 'F']\n",
      "DayOfTheWeek: ['Wednesday' 'Tuesday' 'Thursday' 'Friday' 'Monday' 'Saturday' 'Sunday']\n",
      "Status: ['Show-Up' 'No-Show']\n",
      "Diabetes: [0 1]\n",
      "Alcoholism: [0 1]\n",
      "Hypertension: [0 1]\n",
      "Handicap: [0 1 2 3 4]\n",
      "Smokes: [0 1]\n",
      "Scholarship: [0 1]\n",
      "Tuberculosis: [0 1]\n",
      "Sms_Reminder: [0 1 2]\n",
      "AwaitingTime: [1, 2, 3, 4, 5, 6, 7, 8, 9, 10, 11, 12, 13, 14, 15, 16, 17, 18, 19, 20, 21, 22, 23, 24, 25, 26, 27, 28, 29, 30, 31, 32, 33, 34, 35, 36, 37, 38, 39, 40, 41, 42, 43, 44, 45, 46, 47, 48, 49, 50, 51, 52, 53, 54, 55, 56, 57, 58, 59, 60, 61, 62, 63, 64, 65, 66, 67, 68, 69, 70, 71, 72, 73, 74, 75, 76, 77, 78, 79, 80, 81, 82, 83, 84, 85, 86, 87, 88, 89, 90, 91, 92, 93, 94, 95, 96, 97, 98, 99, 100, 101, 102, 103, 104, 105, 106, 107, 108, 109, 110, 111, 112, 113, 114, 115, 116, 117, 118, 119, 120, 122, 123, 124, 125, 126, 127, 128, 129, 130, 131, 133, 134, 135, 139, 140, 141, 142, 146, 147, 149, 153, 154, 156, 161, 162, 163, 168, 169, 170, 173, 174, 175, 176, 181, 182, 183, 184, 187, 189, 191, 195, 196, 203, 205, 206, 211, 217, 218, 224, 225, 226, 230, 231, 232, 238, 239, 245, 250, 253, 258, 259, 261, 265, 266, 268, 273, 275, 278, 279, 280, 281, 282, 287, 288, 294, 295, 296, 300, 301, 302, 303, 309, 314, 315, 321, 322, 329, 332, 334, 343, 349, 350, 398]\n"
     ]
    }
   ],
   "source": [
    "print('Age:',sorted(data.Age.unique())) # 각 데이터들의 잘못된 값이나 NAN값을 확인한다 SORTED는 값을 정렬해주고 \n",
    "print('Gender:',data.Gender.unique()) # unique는 중복없이 값을 보여준다\n",
    "print('DayOfTheWeek:',data.DayOfTheWeek.unique())\n",
    "print('Status:',data.Status.unique())\n",
    "print('Diabetes:',data.Diabetes.unique())\n",
    "print('Alcoholism:',data.Alcoholism.unique())\n",
    "print('Hypertension:',data.Hypertension.unique())\n",
    "print('Handicap:',data.Handicap.unique())\n",
    "print('Smokes:',data.Smokes.unique())\n",
    "print('Scholarship:',data.Scholarship.unique())\n",
    "print('Tuberculosis:',data.Tuberculosis.unique())\n",
    "print('Sms_Reminder:',data.Sms_Reminder.unique())\n",
    "print('AwaitingTime:',sorted(data.AwaitingTime.unique()))"
   ]
  },
  {
   "cell_type": "markdown",
   "metadata": {},
   "source": [
    "-1과 -2같이 잘못된 나이와 데이터 정리를 위해 100세 이상의 나이를 모두 제거 한다"
   ]
  },
  {
   "cell_type": "code",
   "execution_count": 9,
   "metadata": {},
   "outputs": [],
   "source": [
    "data = data[(data.Age >= 0) & (data.Age <= 100)]"
   ]
  },
  {
   "cell_type": "markdown",
   "metadata": {},
   "source": [
    "###  1.3  전체 객체에서 남자 여자 비율  및 예약 이행 비율 확인"
   ]
  },
  {
   "cell_type": "code",
   "execution_count": 10,
   "metadata": {
    "scrolled": true
   },
   "outputs": [
    {
     "data": {
      "text/html": [
       "<div>\n",
       "<style scoped>\n",
       "    .dataframe tbody tr th:only-of-type {\n",
       "        vertical-align: middle;\n",
       "    }\n",
       "\n",
       "    .dataframe tbody tr th {\n",
       "        vertical-align: top;\n",
       "    }\n",
       "\n",
       "    .dataframe thead th {\n",
       "        text-align: right;\n",
       "    }\n",
       "</style>\n",
       "<table border=\"1\" class=\"dataframe\">\n",
       "  <thead>\n",
       "    <tr style=\"text-align: right;\">\n",
       "      <th>Status</th>\n",
       "      <th>Gender</th>\n",
       "      <th>No-Show</th>\n",
       "      <th>Show-Up</th>\n",
       "      <th>Sum</th>\n",
       "    </tr>\n",
       "  </thead>\n",
       "  <tbody>\n",
       "    <tr>\n",
       "      <th>0</th>\n",
       "      <td>F</td>\n",
       "      <td>59879</td>\n",
       "      <td>140593</td>\n",
       "      <td>200472</td>\n",
       "    </tr>\n",
       "    <tr>\n",
       "      <th>1</th>\n",
       "      <td>M</td>\n",
       "      <td>30840</td>\n",
       "      <td>68655</td>\n",
       "      <td>99495</td>\n",
       "    </tr>\n",
       "  </tbody>\n",
       "</table>\n",
       "</div>"
      ],
      "text/plain": [
       "Status Gender  No-Show  Show-Up     Sum\n",
       "0           F    59879   140593  200472\n",
       "1           M    30840    68655   99495"
      ]
     },
     "execution_count": 10,
     "metadata": {},
     "output_type": "execute_result"
    }
   ],
   "source": [
    "df = pd.crosstab(index = data['Gender'], columns = data.Status).reset_index() \n",
    "##crosstab은 그룹화할 행을 인덱스에 그룹화할 열을 columns에 넣고 각 행에 따른 Column의 개수를 보여준다\n",
    "df['Sum']= pd.DataFrame([((data['Gender']== 'F').sum()), ((data['Gender']== 'M').sum())])                      \n",
    "df"
   ]
  },
  {
   "cell_type": "code",
   "execution_count": 11,
   "metadata": {},
   "outputs": [
    {
     "name": "stdout",
     "output_type": "stream",
     "text": [
      "Man :  33.169 %\n",
      "Woman :  66.83099999999999 %\n"
     ]
    }
   ],
   "source": [
    "all_oj = (data['Gender']== 'M').sum() + (data['Gender']== 'F').sum()  # 전체 객체수\n",
    "print(\"Man : \", round((data['Gender']== 'M').sum() /all_oj , 5)*100 , '%')  #round는 퍼센트를 구할때 유용한 라이브러리로 , 5는 5개의 자리를 \n",
    "print(\"Woman : \",round((data['Gender']== 'F').sum() /all_oj , 5)*100 , '%') # 나타낸다는 것을 의미한다"
   ]
  },
  {
   "cell_type": "code",
   "execution_count": 12,
   "metadata": {},
   "outputs": [
    {
     "name": "stdout",
     "output_type": "stream",
     "text": [
      "WoMan No-Show :  29.869 %\n",
      "WoMan Show-up :  70.131 %\n"
     ]
    }
   ],
   "source": [
    "FM = data[(data['Gender']== 'F')]  #여자만 있는 데이터프레임 생성\n",
    "f_oj = (data['Gender']== 'F').sum()  # 여자 객체수\n",
    "print(\"WoMan No-Show : \", round((FM['Status']== 'No-Show').sum() /f_oj , 5)*100 , '%')  # 여자가 예약 이행 안한 비율\n",
    "print(\"WoMan Show-up : \", 100-round((FM['Status']== 'No-Show').sum() /f_oj , 5)*100 , '%')  # 여자가 예약 이행 한 비율"
   ]
  },
  {
   "cell_type": "code",
   "execution_count": 13,
   "metadata": {},
   "outputs": [
    {
     "name": "stdout",
     "output_type": "stream",
     "text": [
      "Man No-Show :  30.997000000000003 %\n",
      "Man Show-up :  69.003 %\n"
     ]
    }
   ],
   "source": [
    "MM = data[(data['Gender']== 'M')] #남자만 있는 데이터프레임 생성\n",
    "m_oj = (data['Gender']== 'M').sum()  # 남자 객체수\n",
    "print(\"Man No-Show : \", round((MM['Status']== 'No-Show').sum() /m_oj , 5)*100 , '%')  # 남자가 예약 이행 안한 비율\n",
    "print(\"Man Show-up : \", 100-round((MM['Status']== 'No-Show').sum() /m_oj , 5)*100 , '%') # 남자가 예약 이행 한 비율"
   ]
  },
  {
   "cell_type": "markdown",
   "metadata": {},
   "source": [
    "# 2. 데이터 탐구"
   ]
  },
  {
   "cell_type": "markdown",
   "metadata": {},
   "source": [
    "### 2.1 여러가지 데이터를 이용하여 남자와 여자 예약 이행 여부 시각화 "
   ]
  },
  {
   "cell_type": "markdown",
   "metadata": {},
   "source": [
    "#### 나이에 따른 예약 이행 여부 시각화"
   ]
  },
  {
   "cell_type": "code",
   "execution_count": 14,
   "metadata": {},
   "outputs": [
    {
     "data": {
      "image/png": "[encoded data removed]",
      "text/plain": [
       "<Figure size 432x288 with 1 Axes>"
      ]
     },
     "metadata": {
      "needs_background": "light"
     },
     "output_type": "display_data"
    }
   ],
   "source": [
    "df = data[data.Status == 'Show-Up'] ## 예약 이행한 것만 추출후 df에 저장\n",
    "range_df = pd.DataFrame()    \n",
    "range_df['Age'] = range(100)\n",
    "men = range_df.Age.apply(lambda x: len(df[(df.Age == x) & (df.Gender == 'M')]))  #이름없는함수이며 일회용으로 사용된다 \n",
    "women = range_df.Age.apply(lambda x: len(df[(df.Age == x) & (df.Gender == 'F')]))\n",
    "plt.xlabel('Age') # X축의 이름 \n",
    "plt.title('Gender visit the doctor more often') #그래프의 이름 설정\n",
    "plt.plot(range(100),men/(data['Gender']== 'M').sum(), 'b') #남자의 연령별 예약 이행 비율\n",
    "plt.plot(range(100),women/(data['Gender']== 'F').sum(), color = 'r') #여자의 연령별 예약 이행 비율\n",
    "plt.legend(['M','F'])\n",
    "plt.show()"
   ]
  },
  {
   "cell_type": "markdown",
   "metadata": {},
   "source": [
    "#### 각종 질병 발생 시에 남녀 예약 이행 비율"
   ]
  },
  {
   "cell_type": "code",
   "execution_count": 15,
   "metadata": {},
   "outputs": [
    {
     "data": {
      "image/png": "[encoded data removed]",
      "text/plain": [
       "<Figure size 1080x1080 with 4 Axes>"
      ]
     },
     "metadata": {
      "needs_background": "light"
     },
     "output_type": "display_data"
    }
   ],
   "source": [
    "men_smoke = range_df.Age.apply(lambda x: len(df[(df.Age == x) & (df.Gender == 'M') & (df.Smokes == 1)])) #남자이며 흡연자\n",
    "women_smoke = range_df.Age.apply(lambda x: len(df[(df.Age == x) & (df.Gender == 'F') & (df.Smokes == 1)])) #여자이며 흡연자\n",
    "\n",
    "men_tension = range_df.Age.apply(lambda x: len(df[(df.Age == x) & (df.Gender == 'M') & (df.Hypertension == 1)])) #남자이며 고혈압\n",
    "women_tension = range_df.Age.apply(lambda x: len(df[(df.Age == x) & (df.Gender == 'F') & (df.Hypertension == 1)])) #여자이며 고혈압\n",
    " \n",
    "men_Diabetes = range_df.Age.apply(lambda x: len(df[(df.Age == x) & (df.Gender == 'M') & (df.Diabetes == 1)])) #남자이며 당뇨병\n",
    "women_Diabetes = range_df.Age.apply(lambda x: len(df[(df.Age == x) & (df.Gender == 'F') & (df.Diabetes == 1)])) #여자이며 당뇨병\n",
    "\n",
    "men_Tuber = range_df.Age.apply(lambda x: len(df[(df.Age == x) & (df.Gender == 'M') & (df.Tuberculosis == 1)])) #남자이며 결핵\n",
    "women_Tuber = range_df.Age.apply(lambda x: len(df[(df.Age == x) & (df.Gender == 'F') & (df.Tuberculosis == 1)]))#여자이며 결핵\n",
    "\n",
    "plt.figure(figsize = (15,15)) ## 그래프 사이즈\n",
    "plt.subplot(221) ## 행 열 그리고 그 행열에 위치 \n",
    "plt.plot(range(100),men_smoke/men)  # 세로축을 비율로 만들기위해 전체 남자에서 남자흡연자를 나눈다.\n",
    "plt.plot(range(100),women_smoke/women, color = 'r')\n",
    "plt.title('Smoking') #제목\n",
    "plt.legend(['M','F'], loc = 2)\n",
    "plt.xlabel('Age')           \n",
    "\n",
    "plt.subplot(222)\n",
    "plt.plot(range(100),men_tension/men)\n",
    "plt.plot(range(100),women_tension/women, color = 'r')\n",
    "plt.title('Hyper Tension')\n",
    "plt.legend(['M','F'], loc = 2)\n",
    "plt.xlabel('Age')\n",
    "\n",
    "plt.subplot(223)\n",
    "plt.plot(range(100),men_Diabetes/men)\n",
    "plt.plot(range(100),women_Diabetes/women, color = 'r')\n",
    "plt.title('Diabetes')\n",
    "plt.legend(['M','F'], loc = 2)\n",
    "plt.xlabel('Age')\n",
    "\n",
    "plt.subplot(224)\n",
    "plt.plot(range(100),men_Tuber/men)\n",
    "plt.plot(range(100),women_Tuber/women, color = 'r')\n",
    "plt.legend(['M','F'], loc = 2)\n",
    "plt.xlabel('Age')\n",
    "\n",
    "plt.title('Tuberculosis')\n",
    "plt.show()"
   ]
  },
  {
   "cell_type": "markdown",
   "metadata": {},
   "source": [
    "대부분의 질병은 남녀 비율이 비슷하지만  결핵에 한해서는 남자의 비율이 높다"
   ]
  },
  {
   "cell_type": "markdown",
   "metadata": {},
   "source": [
    "#### 예약 등록날과 예약 당일날과의 간격"
   ]
  },
  {
   "cell_type": "code",
   "execution_count": 16,
   "metadata": {},
   "outputs": [
    {
     "data": {
      "image/png": "[encoded data removed]",
      "text/plain": [
       "<Figure size 720x360 with 1 Axes>"
      ]
     },
     "metadata": {
      "needs_background": "light"
     },
     "output_type": "display_data"
    }
   ],
   "source": [
    "bins = [0, 2, 7, 14, 30, 90, 180, 9999] # 예약 시간과의 공백이 막연히 숫자로 만 되어있어서 문자로 만들어주기위한 기준배열\n",
    "labels = [\"Immediate\",  \"Week\" ,\"Two Weeks\", \"Month\", \"Trimester\" , \"Half year\" , \"Forever\"]\n",
    "wait_period = pd.cut(data.AwaitingTime, bins, labels=labels) #cut는 한 column에서  리스트를 사용하여 기준을 나눈다.\n",
    "data['Wait_period'] = wait_period # 새로운 column을 만들어 이것을 넣고 예약 이행자들만 추출한다\n",
    "df = data[data.Status == 'Show-Up']\n",
    "wait_df =  pd.DataFrame(labels) \n",
    "men_wait = wait_df[wait_df.columns[0]].apply(lambda x: len(df[(df.Wait_period == x) & (df.Gender == 'M')])) \n",
    "women_wait = wait_df[wait_df.columns[0]].apply(lambda x: len(df[(df.Wait_period == x) & (df.Gender == 'F')]))\n",
    "\n",
    "plt.figure(figsize = (10,5)) # 그래프 사이즈\n",
    "plt.bar(range(7), men_wait/len(df[df.Gender == 'M']), width = 0.5)  #막대를 7개만들고 막대 크기를 0.5로한다 \n",
    "plt.bar(range(7)+0.5*np.ones(len(range(7))), women_wait/len(df[df.Gender == 'F']), width = 0.5, color = 'r')\n",
    "plt.xticks(range(7) + 0.25*np.ones(len(range(7))), labels)  # x축의 라벨 삽입\n",
    "\n",
    "plt.title('Wait_period')\n",
    "plt.xlabel('Wait_period')\n",
    "plt.legend(['M','F'])\n",
    "plt.show()"
   ]
  },
  {
   "cell_type": "markdown",
   "metadata": {},
   "source": [
    "#### 어떤 요일을 가장 많이 선호하는가에 대한 시각화"
   ]
  },
  {
   "cell_type": "code",
   "execution_count": 17,
   "metadata": {},
   "outputs": [
    {
     "data": {
      "image/png": "[encoded data removed]",
      "text/plain": [
       "<Figure size 720x360 with 1 Axes>"
      ]
     },
     "metadata": {
      "needs_background": "light"
     },
     "output_type": "display_data"
    }
   ],
   "source": [
    "Days = ['Monday','Tuesday','Wednesday','Thursday','Friday','Saturday','Sunday']  # 요일을 리스트로 만든다\n",
    "Days_df = pd.DataFrame(Days)  #그것을 데이터 프레임으로 만든다\n",
    "\n",
    "men_days = Days_df[Days_df.columns[0]].apply(lambda x: len(df[(df.DayOfTheWeek == x) & (df.Gender == 'M')]))\n",
    "women_days = Days_df[Days_df.columns[0]].apply(lambda x: len(df[(df.DayOfTheWeek == x) & (df.Gender == 'F')]))\n",
    "plt.figure(figsize = (10,5))\n",
    "plt.bar(range(7), men_days/len(df[df.Gender == 'M']), width = 0.5)\n",
    "plt.bar(range(7)+0.5*np.ones(len(range(7))), women_days/len(df[df.Gender == 'F']), width = 0.5, color = 'r')\n",
    "plt.xticks(range(7) + 0.25*np.ones(len(range(7))),Days)\n",
    "\n",
    "plt.title('Visit Day')\n",
    "plt.xlabel('Day')\n",
    "plt.legend(['Men','Women'])\n",
    "plt.show()"
   ]
  },
  {
   "cell_type": "markdown",
   "metadata": {},
   "source": [
    "예약 공백기간에서 남자들은 최근 예약을 잘 이행하는 반면에 여자들은 오래 된 예약을 더 잘 지키는 경향이 있다\n",
    "요일 같은 경우에는 주말에 멀수록 예약자들이 많았고 남녀 비율은 요일마다 들쭉날쭉하므로 큰 영향이 없어보였다."
   ]
  },
  {
   "cell_type": "markdown",
   "metadata": {},
   "source": [
    "#### 월 별 예약 이행자에 대한 시각화"
   ]
  },
  {
   "cell_type": "code",
   "execution_count": 18,
   "metadata": {},
   "outputs": [
    {
     "data": {
      "image/png": "[encoded data removed]",
      "text/plain": [
       "<Figure size 792x576 with 2 Axes>"
      ]
     },
     "metadata": {
      "needs_background": "light"
     },
     "output_type": "display_data"
    }
   ],
   "source": [
    "dts = data.copy() #데이터복사를 한 이유는 원본 데이터가 들어있는 변수에 영향을 주지 않기위함이다\n",
    "dts['Month'] = dts['AppointmentData'].apply(lambda x: x[5:7]) # 5:7은  날짜에서 월만 추출한다는것이다 \n",
    "dts = dts[dts.Status == 'Show-Up']\n",
    "dts= dts[[\"Month\",\"Gender\"]]\n",
    "\n",
    "dts = pd.crosstab(index = dts['Month'], columns = dts.Gender) #월을 인덱스에 컬럼에 성별을 넣는 새로운 데이터프레임 생성\n",
    "\n",
    "dts['F'] = round((dts['F']/f_oj),3) *100\n",
    "dts['M'] = round((dts['M']/m_oj),3) *100\n",
    "plt.figure(figsize=(11,8))\n",
    "sns.heatmap(dts, annot=True, fmt='f') ##annot는 각 셀에 값을 표시할지 여부 fmt는 표현 방식 f는 실수형  \n",
    "plt.show()"
   ]
  },
  {
   "cell_type": "markdown",
   "metadata": {},
   "source": [
    "병원 이용객은 여름 가을에 가장 많았으며 특히 휴가철인 7월에 절정을 찍었다. 하지만 남녀의 차이에는 큰 영향이 없었다."
   ]
  },
  {
   "cell_type": "markdown",
   "metadata": {},
   "source": [
    "#### 하루 중에 어떤 시간에 가장 많이 예약을 등록하러 오는지에 대한 시각화"
   ]
  },
  {
   "cell_type": "code",
   "execution_count": 19,
   "metadata": {},
   "outputs": [
    {
     "name": "stderr",
     "output_type": "stream",
     "text": [
      "C:\\Users\\choe\\anaconda3\\lib\\site-packages\\seaborn\\distributions.py:2551: FutureWarning: `distplot` is a deprecated function and will be removed in a future version. Please adapt your code to use either `displot` (a figure-level function with similar flexibility) or `histplot` (an axes-level function for histograms).\n",
      "  warnings.warn(msg, FutureWarning)\n"
     ]
    },
    {
     "data": {
      "image/png": "[encoded data removed]",
      "text/plain": [
       "<Figure size 432x288 with 1 Axes>"
      ]
     },
     "metadata": {
      "needs_background": "light"
     },
     "output_type": "display_data"
    }
   ],
   "source": [
    "\n",
    "data['Time'] = data['AppointmentRegistration'].apply(lambda x: int(x[11:13])) ##커널밀도 추정 히스토그램을 스무디하게 평활화\n",
    "sns.distplot(data.Time[data.Gender == 'M'], bins = range(24),norm_hist = True, kde = False)\n",
    "sns.distplot(data.Time[data.Gender == 'F'], bins = range(24),norm_hist = True, kde = False, color = 'r')\n",
    "                                                    ##norm_hist y의 값을 퍼센트값\n",
    "plt.xlim([6,22]) # x축 범위 설정 병원이 6시부터 22시까지 운영하기 때문이다\n",
    "plt.title('Registration Hour')\n",
    "plt.xlabel('Hour')\n",
    "plt.legend(['Men','Women'])\n",
    "plt.show()"
   ]
  },
  {
   "cell_type": "markdown",
   "metadata": {},
   "source": [
    "남자들은 주로 아침에 많이 예약을 등록하고 여자는 낮에 많이 예약을 등록한다 "
   ]
  },
  {
   "cell_type": "markdown",
   "metadata": {},
   "source": [
    "### 2.2 두 가지 질병을 가진 사람의 예약 이행 여부 비교\n",
    "\n",
    "지금까지는 한 가지의 조건만으로 비교했는데 이번엔 알코올 의존증과 폐암을 동시에 비교한다"
   ]
  },
  {
   "cell_type": "code",
   "execution_count": 20,
   "metadata": {},
   "outputs": [
    {
     "data": {
      "text/html": [
       "<div>\n",
       "<style scoped>\n",
       "    .dataframe tbody tr th:only-of-type {\n",
       "        vertical-align: middle;\n",
       "    }\n",
       "\n",
       "    .dataframe tbody tr th {\n",
       "        vertical-align: top;\n",
       "    }\n",
       "\n",
       "    .dataframe thead th {\n",
       "        text-align: right;\n",
       "    }\n",
       "</style>\n",
       "<table border=\"1\" class=\"dataframe\">\n",
       "  <thead>\n",
       "    <tr style=\"text-align: right;\">\n",
       "      <th></th>\n",
       "      <th></th>\n",
       "      <th></th>\n",
       "      <th>Show</th>\n",
       "      <th>No</th>\n",
       "      <th>No-count</th>\n",
       "      <th>Sh-count</th>\n",
       "    </tr>\n",
       "    <tr>\n",
       "      <th>Gender</th>\n",
       "      <th>Smokes</th>\n",
       "      <th>Alcoholism</th>\n",
       "      <th></th>\n",
       "      <th></th>\n",
       "      <th></th>\n",
       "      <th></th>\n",
       "    </tr>\n",
       "  </thead>\n",
       "  <tbody>\n",
       "    <tr>\n",
       "      <th rowspan=\"4\" valign=\"top\">F</th>\n",
       "      <th rowspan=\"2\" valign=\"top\">0</th>\n",
       "      <th>0</th>\n",
       "      <td>0.704274</td>\n",
       "      <td>0.295726</td>\n",
       "      <td>56211</td>\n",
       "      <td>133867</td>\n",
       "    </tr>\n",
       "    <tr>\n",
       "      <th>1</th>\n",
       "      <td>0.649186</td>\n",
       "      <td>0.350814</td>\n",
       "      <td>388</td>\n",
       "      <td>718</td>\n",
       "    </tr>\n",
       "    <tr>\n",
       "      <th rowspan=\"2\" valign=\"top\">1</th>\n",
       "      <th>0</th>\n",
       "      <td>0.664078</td>\n",
       "      <td>0.335922</td>\n",
       "      <td>2509</td>\n",
       "      <td>4960</td>\n",
       "    </tr>\n",
       "    <tr>\n",
       "      <th>1</th>\n",
       "      <td>0.576141</td>\n",
       "      <td>0.423859</td>\n",
       "      <td>771</td>\n",
       "      <td>1048</td>\n",
       "    </tr>\n",
       "    <tr>\n",
       "      <th rowspan=\"4\" valign=\"top\">M</th>\n",
       "      <th rowspan=\"2\" valign=\"top\">0</th>\n",
       "      <th>0</th>\n",
       "      <td>0.693024</td>\n",
       "      <td>0.306976</td>\n",
       "      <td>27964</td>\n",
       "      <td>63131</td>\n",
       "    </tr>\n",
       "    <tr>\n",
       "      <th>1</th>\n",
       "      <td>0.663296</td>\n",
       "      <td>0.336704</td>\n",
       "      <td>666</td>\n",
       "      <td>1312</td>\n",
       "    </tr>\n",
       "    <tr>\n",
       "      <th rowspan=\"2\" valign=\"top\">1</th>\n",
       "      <th>0</th>\n",
       "      <td>0.681319</td>\n",
       "      <td>0.318681</td>\n",
       "      <td>1218</td>\n",
       "      <td>2604</td>\n",
       "    </tr>\n",
       "    <tr>\n",
       "      <th>1</th>\n",
       "      <td>0.618462</td>\n",
       "      <td>0.381538</td>\n",
       "      <td>992</td>\n",
       "      <td>1608</td>\n",
       "    </tr>\n",
       "  </tbody>\n",
       "</table>\n",
       "</div>"
      ],
      "text/plain": [
       "                              Show        No  No-count  Sh-count\n",
       "Gender Smokes Alcoholism                                        \n",
       "F      0      0           0.704274  0.295726     56211    133867\n",
       "              1           0.649186  0.350814       388       718\n",
       "       1      0           0.664078  0.335922      2509      4960\n",
       "              1           0.576141  0.423859       771      1048\n",
       "M      0      0           0.693024  0.306976     27964     63131\n",
       "              1           0.663296  0.336704       666      1312\n",
       "       1      0           0.681319  0.318681      1218      2604\n",
       "              1           0.618462  0.381538       992      1608"
      ]
     },
     "execution_count": 20,
     "metadata": {},
     "output_type": "execute_result"
    }
   ],
   "source": [
    "data2 = data.copy() \n",
    "data2.eval(\"Show = Status == 'Show-Up'\", inplace=True) # inplace는 새 dataframe을 반환할지 기존 것을 변경할지말이다\n",
    "                                                        # 기본적으로 false로 설정된다\n",
    "data2.eval(\"No = Status == 'No-Show'\", inplace=True)   # eval은 파이썬 표현식만 포함 가능하다\n",
    "groups = data2[['Gender', 'Smokes', 'Alcoholism', \"Show\", \"No\"]].groupby(['Gender', 'Smokes', 'Alcoholism'])  \n",
    "                                                                #  컬럼을 가져오고 groupby는 그중에서 색인으로 할것을 뽑는다\n",
    "gps = pd.DataFrame(groups.mean()) # 데이터 프레임 생성\n",
    "gps[\"No-count\"] = groups.sum()[\"No\"] # 예약 불 이행자의 객체수를 더한다\n",
    "gps[\"Sh-count\"] = groups.sum()[\"Show\"] # 예약 이행자의 객체수를 더한다\n",
    "gps"
   ]
  },
  {
   "cell_type": "markdown",
   "metadata": {},
   "source": [
    "신기하게도 두 가지 병을 앓고 있는 사람들의 예약 이행 비율이 건강한사람들보다 더 작았고 이것은 남녀 모두에게 나타났다."
   ]
  },
  {
   "cell_type": "markdown",
   "metadata": {},
   "source": [
    "#### 밀접한 관계의 합병증\n",
    "\n",
    "당뇨병을 앓고 있는 사람들은 고혈압을, 고혈압을 가지고 있는 사람들은 당뇨병을 가지고 있는 경우가 많은데 그 만큼 두 가지의 병의 관계는 깊다. 그래서 이번엔 밀접한 관계에 있는 두 가지의 병을 묶어서 수치를 계산해 보았다."
   ]
  },
  {
   "cell_type": "code",
   "execution_count": 21,
   "metadata": {},
   "outputs": [
    {
     "data": {
      "text/html": [
       "<div>\n",
       "<style scoped>\n",
       "    .dataframe tbody tr th:only-of-type {\n",
       "        vertical-align: middle;\n",
       "    }\n",
       "\n",
       "    .dataframe tbody tr th {\n",
       "        vertical-align: top;\n",
       "    }\n",
       "\n",
       "    .dataframe thead th {\n",
       "        text-align: right;\n",
       "    }\n",
       "</style>\n",
       "<table border=\"1\" class=\"dataframe\">\n",
       "  <thead>\n",
       "    <tr style=\"text-align: right;\">\n",
       "      <th></th>\n",
       "      <th></th>\n",
       "      <th></th>\n",
       "      <th>Show</th>\n",
       "      <th>No</th>\n",
       "      <th>No-count</th>\n",
       "      <th>Sh-count</th>\n",
       "    </tr>\n",
       "    <tr>\n",
       "      <th>Gender</th>\n",
       "      <th>Hypertension</th>\n",
       "      <th>Diabetes</th>\n",
       "      <th></th>\n",
       "      <th></th>\n",
       "      <th></th>\n",
       "      <th></th>\n",
       "    </tr>\n",
       "  </thead>\n",
       "  <tbody>\n",
       "    <tr>\n",
       "      <th rowspan=\"4\" valign=\"top\">F</th>\n",
       "      <th rowspan=\"2\" valign=\"top\">0</th>\n",
       "      <th>0</th>\n",
       "      <td>0.686039</td>\n",
       "      <td>0.313961</td>\n",
       "      <td>47631</td>\n",
       "      <td>104079</td>\n",
       "    </tr>\n",
       "    <tr>\n",
       "      <th>1</th>\n",
       "      <td>0.735242</td>\n",
       "      <td>0.264758</td>\n",
       "      <td>740</td>\n",
       "      <td>2055</td>\n",
       "    </tr>\n",
       "    <tr>\n",
       "      <th rowspan=\"2\" valign=\"top\">1</th>\n",
       "      <th>0</th>\n",
       "      <td>0.749374</td>\n",
       "      <td>0.250626</td>\n",
       "      <td>8113</td>\n",
       "      <td>24258</td>\n",
       "    </tr>\n",
       "    <tr>\n",
       "      <th>1</th>\n",
       "      <td>0.750294</td>\n",
       "      <td>0.249706</td>\n",
       "      <td>3395</td>\n",
       "      <td>10201</td>\n",
       "    </tr>\n",
       "    <tr>\n",
       "      <th rowspan=\"4\" valign=\"top\">M</th>\n",
       "      <th rowspan=\"2\" valign=\"top\">0</th>\n",
       "      <th>0</th>\n",
       "      <td>0.675870</td>\n",
       "      <td>0.324130</td>\n",
       "      <td>25675</td>\n",
       "      <td>53537</td>\n",
       "    </tr>\n",
       "    <tr>\n",
       "      <th>1</th>\n",
       "      <td>0.707723</td>\n",
       "      <td>0.292277</td>\n",
       "      <td>439</td>\n",
       "      <td>1063</td>\n",
       "    </tr>\n",
       "    <tr>\n",
       "      <th rowspan=\"2\" valign=\"top\">1</th>\n",
       "      <th>0</th>\n",
       "      <td>0.745917</td>\n",
       "      <td>0.254083</td>\n",
       "      <td>3376</td>\n",
       "      <td>9911</td>\n",
       "    </tr>\n",
       "    <tr>\n",
       "      <th>1</th>\n",
       "      <td>0.754277</td>\n",
       "      <td>0.245723</td>\n",
       "      <td>1350</td>\n",
       "      <td>4144</td>\n",
       "    </tr>\n",
       "  </tbody>\n",
       "</table>\n",
       "</div>"
      ],
      "text/plain": [
       "                                  Show        No  No-count  Sh-count\n",
       "Gender Hypertension Diabetes                                        \n",
       "F      0            0         0.686039  0.313961     47631    104079\n",
       "                    1         0.735242  0.264758       740      2055\n",
       "       1            0         0.749374  0.250626      8113     24258\n",
       "                    1         0.750294  0.249706      3395     10201\n",
       "M      0            0         0.675870  0.324130     25675     53537\n",
       "                    1         0.707723  0.292277       439      1063\n",
       "       1            0         0.745917  0.254083      3376      9911\n",
       "                    1         0.754277  0.245723      1350      4144"
      ]
     },
     "execution_count": 21,
     "metadata": {},
     "output_type": "execute_result"
    }
   ],
   "source": [
    "groups = data2[['Gender','Hypertension','Diabetes', \"Show\", \"No\"]].groupby(['Gender','Hypertension','Diabetes'])\n",
    "gps = pd.DataFrame(groups.mean())\n",
    "gps[\"No-count\"] = groups.sum()[\"No\"]\n",
    "gps[\"Sh-count\"] = groups.sum()[\"Show\"]\n",
    "gps"
   ]
  },
  {
   "cell_type": "markdown",
   "metadata": {},
   "source": [
    "밀접한 관계에 있는 당뇨와 고혈압의 경우에는 위와는 정반대로 약속 이행 비율이 더 높게 나타났다 이것 또한 남녀 모두에게 나타났다"
   ]
  },
  {
   "cell_type": "markdown",
   "metadata": {},
   "source": [
    "# 3. 데이터 예측"
   ]
  },
  {
   "cell_type": "markdown",
   "metadata": {},
   "source": [
    "코드 출처 https://www.kaggle.com/somrikbanerjee/d/joniarroba/noshowappointments/predicting-show-up-no-show"
   ]
  },
  {
   "cell_type": "markdown",
   "metadata": {},
   "source": [
    "먼저 반의 데이터로 기계학습을 한 뒤에 이것을 기반으로 나머지 반의 데이터의 예약 이행 여부 확률을 구한다\n",
    "\n",
    "남자의 경우는 홀수개의 데이터이기 때문에 하나를 제외한다"
   ]
  },
  {
   "cell_type": "code",
   "execution_count": 22,
   "metadata": {},
   "outputs": [],
   "source": [
    "FM_train = FM[['Age', 'Diabetes','Hypertension', 'Tuberculosis', 'Smokes',   # 나이, 질병, 고혈압, 당뇨병, 흡연등의 컬럼을 가져와  \n",
    "                         'Alcoholism', 'Scholarship']].iloc[:100236]  #학습을 시킨다\n",
    "F_train = FM.Status[:100236]\n",
    "\n",
    "FM_test = FM[['Age', 'Diabetes','Hypertension', 'Tuberculosis', 'Smokes',\n",
    "                         'Alcoholism', 'Scholarship']].iloc[100236:]\n",
    "F_test = FM.Status[100236:]\n",
    "\n",
    "\n",
    "MM_train = MM[['Age', 'Diabetes','Hypertension', 'Tuberculosis', 'Smokes',\n",
    "                         'Alcoholism', 'Scholarship']].iloc[:49747]\n",
    "M_train = MM.Status[:49747]\n",
    "MM_test = FM[['Age', 'Diabetes','Hypertension', 'Tuberculosis', 'Smokes',\n",
    "                         'Alcoholism', 'Scholarship']].iloc[49747:]\n",
    "\n",
    "M_test = FM.Status[49747:]"
   ]
  },
  {
   "cell_type": "markdown",
   "metadata": {},
   "source": [
    "naive_bayes --- http://laonple.blog.me/220867768192"
   ]
  },
  {
   "cell_type": "markdown",
   "metadata": {},
   "source": [
    "### naive_bayes\n",
    "\n",
    "나이브 베이즈는 분류기를 만들 수 있는 간단한 기술로써 단일 알고리즘을 통한 훈련이 아닌 일반적인 원칙에 근거한 여러 알고리즘들을 이용하여 훈\n",
    "련된다. 모든 나이브 베이즈 분류기는 공통적으로 모든 특성 값은 서로 독립임을 가정한다. \n",
    "\n",
    "나이브 베이즈의 장점. \n",
    "* 첫째, 일부의 확률 모델에서 나이브 베이즈 분류는 지도 학습 (Supervised Learning) 환경에서 매우 효율적으로 훈련 될 수 있다. \n",
    "* 둘째, 분류에 필요한 파라미터를 추정하기 위한 트레이닝 데이터의 양이 매우 적다는 것이다. \n",
    "* 셋째, 간단한 디자인과 단순한 가정에도 불구하고, 나이브 베이즈 분류는 많은 복잡한 실제 상황에서 잘 작동한다. \n",
    "\n",
    "MultinomialNB는 다중 분산 데이터에 대한 나이브 베이지안 알고리즘을 구현하고 텍스트 분류에 사용되는 2 개의 고전적인 나이브 베이지안의 변형 중 하나이다.\n",
    "<img src=\"나이브베이즈.png\", width=300, heigth=300>\n",
    "클래스와 특성의 값이 훈련 데이터에서 발생 하지 않는 경우에는, 빈도수 기반의 확률 추정치는 0이 된다. 이것은 이 추정치가 곱해질 때 다른 확률의 모든 정보를 없앨 수 있기 때문에 문제가 될 수 있다. 따라서, 대부분의 확률 추정에서는 그 값이 0이 되지 않도록 가짜 수(pseudocount)라는 작은 샘플 보정값을 통합하여 사용하는 경우가 대부분이다. 나이브 베이즈의 이러한 정규화 방법은 가짜 수(pseudocount) 1일 경우 라플라스 정규화(Laplace smoothing)라고 불리고, 일반적으로 리드스톤 정규화(Lidstone smoothing)라고 불린다.\n"
   ]
  },
  {
   "cell_type": "code",
   "execution_count": 23,
   "metadata": {},
   "outputs": [
    {
     "name": "stdout",
     "output_type": "stream",
     "text": [
      "women Accuracy: 70.029 %\n",
      "man Accuracy: 70.143 %\n"
     ]
    }
   ],
   "source": [
    "from sklearn.metrics import accuracy_score\n",
    "from sklearn.naive_bayes import MultinomialNB  \n",
    "               \n",
    "\n",
    "clf =  MultinomialNB().fit(FM_train, F_train)\n",
    "print('women Accuracy:', round(accuracy_score(F_test,  \n",
    "                                        clf.predict(FM_test)), 5) * 100, '%')\n",
    "\n",
    "clf2 =  MultinomialNB().fit(MM_train, M_train)\n",
    "print('man Accuracy:', round(accuracy_score(M_test, \n",
    "                                        clf2.predict(MM_test)), 5) * 100, '%')"
   ]
  },
  {
   "cell_type": "code",
   "execution_count": null,
   "metadata": {},
   "outputs": [],
   "source": []
  }
 ],
 "metadata": {
  "kernelspec": {
   "display_name": "Python 3",
   "language": "python",
   "name": "python3"
  },
  "language_info": {
   "codemirror_mode": {
    "name": "ipython",
    "version": 3
   },
   "file_extension": ".py",
   "mimetype": "text/x-python",
   "name": "python",
   "nbconvert_exporter": "python",
   "pygments_lexer": "ipython3",
   "version": "3.8.5"
  }
 },
 "nbformat": 4,
 "nbformat_minor": 2
}
