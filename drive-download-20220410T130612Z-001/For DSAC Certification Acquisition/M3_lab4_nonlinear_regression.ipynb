{
  "nbformat": 4,
  "nbformat_minor": 0,
  "metadata": {
    "colab": {
      "name": "hallym_lab4_nonlinear_regression.ipynb",
      "provenance": [],
      "authorship_tag": "ABX9TyPv8Inl8vpJ63PLukI476Sl",
      "include_colab_link": true
    },
    "kernelspec": {
      "name": "python3",
      "display_name": "Python 3"
    }
  },
  "cells": [
    {
      "cell_type": "markdown",
      "metadata": {
        "id": "view-in-github",
        "colab_type": "text"
      },
      "source": [
        "<a href=\"https://colab.research.google.com/github/rtajeong/Hallym_univ_M34/blob/main/hallym_lab4_nonlinear_regression.ipynb\" target=\"_parent\"><img src=\"https://colab.research.google.com/assets/colab-badge.svg\" alt=\"Open In Colab\"/></a>"
      ]
    },
    {
      "cell_type": "markdown",
      "metadata": {
        "id": "hGrsBPFL4ZmR"
      },
      "source": [
        "# Nonlinear Regression\r\n"
      ]
    },
    {
      "cell_type": "code",
      "metadata": {
        "id": "QHGZ_2ae4Ru3"
      },
      "source": [
        "import numpy as np\r\n",
        "import pandas as pd\r\n",
        "import matplotlib.pyplot as plt\r\n",
        "%matplotlib inline"
      ],
      "execution_count": 1,
      "outputs": []
    },
    {
      "cell_type": "code",
      "metadata": {
        "id": "i45VOv7R4qDv"
      },
      "source": [
        "from sklearn.linear_model import LinearRegression\r\n",
        "from sklearn.preprocessing import PolynomialFeatures\r\n",
        "from sklearn.metrics import mean_squared_error, r2_score"
      ],
      "execution_count": 2,
      "outputs": []
    },
    {
      "cell_type": "code",
      "metadata": {
        "colab": {
          "base_uri": "https://localhost:8080/",
          "height": 302
        },
        "id": "je-ax8M95MUU",
        "outputId": "d6d1ce76-6e7d-46b3-edfd-9454d41f2883"
      },
      "source": [
        "# data generation\r\n",
        "x = np.linspace(-3, 3, 100)\r\n",
        "y = 2.1 * x**3 + 2.1 * x**2 + 1.4 * x + 0.9\r\n",
        "y = y + np.random.randn(100) * 7.2\r\n",
        "plt.scatter(x, y, s=5)\r\n",
        "\r\n",
        "# linear model\r\n",
        "lrg = LinearRegression()\r\n",
        "lrg.fit(x.reshape(-1,1), y)\r\n",
        "y_pred = lrg.predict(x.reshape(-1,1))\r\n",
        "rmse = np.sqrt(mean_squared_error(y, y_pred))\r\n",
        "r2 = lrg.score(x.reshape(-1,1), y)\r\n",
        "print(rmse, r2)\r\n",
        "\r\n",
        "a, b = lrg.coef_, lrg.intercept_\r\n",
        "xx = np.linspace(-3,3, 100)\r\n",
        "yy = a * xx + b\r\n",
        "plt.plot(xx, yy, c='r')"
      ],
      "execution_count": 19,
      "outputs": [
        {
          "output_type": "stream",
          "text": [
            "12.669568712474018 0.7641571017007062\n"
          ],
          "name": "stdout"
        },
        {
          "output_type": "execute_result",
          "data": {
            "text/plain": [
              "[<matplotlib.lines.Line2D at 0x7fde640ec3c8>]"
            ]
          },
          "metadata": {
            "tags": []
          },
          "execution_count": 19
        },
        {
          "output_type": "display_data",
          "data": {
            "image/png": "[encoded data removed]",
            "text/plain": [
              "<Figure size 432x288 with 1 Axes>"
            ]
          },
          "metadata": {
            "tags": [],
            "needs_background": "light"
          }
        }
      ]
    },
    {
      "cell_type": "code",
      "metadata": {
        "colab": {
          "base_uri": "https://localhost:8080/",
          "height": 320
        },
        "id": "mbJddNyy6TL5",
        "outputId": "fc869686-858a-4c63-eede-315c7ccf2b16"
      },
      "source": [
        "# nonlinear (degree 2)\r\n",
        "poly_f = PolynomialFeatures(degree = 2, include_bias = False)\r\n",
        "x_poly = poly_f.fit_transform(x.reshape(-1,1))\r\n",
        "# x[:5], x_poly[:5]\r\n",
        "lrg = LinearRegression()\r\n",
        "lrg.fit(x_poly, y)\r\n",
        "print(lrg.coef_, lrg.intercept_)\r\n",
        "y_pred = lrg.predict(x_poly)\r\n",
        "rmse = np.sqrt(mean_squared_error(y, y_pred))\r\n",
        "r2 = lrg.score(x_poly, y)\r\n",
        "print(rmse, r2)\r\n",
        "\r\n",
        "plt.scatter(x, y, s=10)\r\n",
        "plt.scatter(x, y_pred, c='r', s=1)"
      ],
      "execution_count": 29,
      "outputs": [
        {
          "output_type": "stream",
          "text": [
            "[13.03581053  2.32642819] 0.5592614681711146\n",
            "10.953146943515716 0.8237305826573768\n"
          ],
          "name": "stdout"
        },
        {
          "output_type": "execute_result",
          "data": {
            "text/plain": [
              "<matplotlib.collections.PathCollection at 0x7fde61f35860>"
            ]
          },
          "metadata": {
            "tags": []
          },
          "execution_count": 29
        },
        {
          "output_type": "display_data",
          "data": {
            "image/png": "[encoded data removed]",
            "text/plain": [
              "<Figure size 432x288 with 1 Axes>"
            ]
          },
          "metadata": {
            "tags": [],
            "needs_background": "light"
          }
        }
      ]
    },
    {
      "cell_type": "code",
      "metadata": {
        "colab": {
          "base_uri": "https://localhost:8080/"
        },
        "id": "z5v19r3R-Gse",
        "outputId": "1cc84ed4-d6a6-4760-a0db-2371f5f02665"
      },
      "source": [
        "# nonlinear (degree 3)\r\n",
        "poly_f = PolynomialFeatures(degree = 3, include_bias = False)\r\n",
        "x_poly = poly_f.fit_transform(x.reshape(-1,1))\r\n",
        "x[:5], x_poly[:5]"
      ],
      "execution_count": 31,
      "outputs": [
        {
          "output_type": "execute_result",
          "data": {
            "text/plain": [
              "(array([-3.        , -2.93939394, -2.87878788, -2.81818182, -2.75757576]),\n",
              " array([[ -3.        ,   9.        , -27.        ],\n",
              "        [ -2.93939394,   8.64003673, -25.3964716 ],\n",
              "        [ -2.87878788,   8.28741965, -23.85772324],\n",
              "        [ -2.81818182,   7.94214876, -22.38241923],\n",
              "        [ -2.75757576,   7.60422406, -20.96922392]]))"
            ]
          },
          "metadata": {
            "tags": []
          },
          "execution_count": 31
        }
      ]
    },
    {
      "cell_type": "code",
      "metadata": {
        "colab": {
          "base_uri": "https://localhost:8080/",
          "height": 320
        },
        "id": "tplgcz8k_3Vs",
        "outputId": "ae90e910-fb6c-4c2f-87aa-e1bf208dca0d"
      },
      "source": [
        "lrg = LinearRegression()\r\n",
        "lrg.fit(x_poly, y)\r\n",
        "print(lrg.coef_, lrg.intercept_)\r\n",
        "y_pred = lrg.predict(x_poly)\r\n",
        "rmse = np.sqrt(mean_squared_error(y, y_pred))\r\n",
        "r2 = lrg.score(x_poly, y)\r\n",
        "print(rmse, r2)\r\n",
        "\r\n",
        "plt.scatter(x, y, s=10)\r\n",
        "plt.scatter(x, y_pred, c='r', s=1)"
      ],
      "execution_count": 32,
      "outputs": [
        {
          "output_type": "stream",
          "text": [
            "[2.12806934 2.32642819 1.98021708] 0.5592614681711128\n",
            "7.1181350204142255 0.9255556771008755\n"
          ],
          "name": "stdout"
        },
        {
          "output_type": "execute_result",
          "data": {
            "text/plain": [
              "<matplotlib.collections.PathCollection at 0x7fde61f9ce10>"
            ]
          },
          "metadata": {
            "tags": []
          },
          "execution_count": 32
        },
        {
          "output_type": "display_data",
          "data": {
            "image/png": "[encoded data removed]",
            "text/plain": [
              "<Figure size 432x288 with 1 Axes>"
            ]
          },
          "metadata": {
            "tags": [],
            "needs_background": "light"
          }
        }
      ]
    },
    {
      "cell_type": "code",
      "metadata": {
        "colab": {
          "base_uri": "https://localhost:8080/",
          "height": 302
        },
        "id": "TJf-wchTBU7f",
        "outputId": "aaa98c50-3dba-4c4a-bafb-e73b72fee2c1"
      },
      "source": [
        "# decisiontree regressor\r\n",
        "from sklearn.tree import DecisionTreeRegressor\r\n",
        "dtrg = DecisionTreeRegressor(max_depth=5)\r\n",
        "dtrg.fit(x.reshape(-1,1), y)\r\n",
        "y_pred = dtrg.predict(x.reshape(-1,1))\r\n",
        "rmse = np.sqrt(mean_squared_error(y, y_pred))\r\n",
        "r2 = dtrg.score(x.reshape(-1,1), y)\r\n",
        "print(rmse, r2)\r\n",
        "\r\n",
        "plt.scatter(x, y, c='b', s=5)\r\n",
        "plt.scatter(x, y_pred, c='r', s=3)"
      ],
      "execution_count": 48,
      "outputs": [
        {
          "output_type": "stream",
          "text": [
            "5.933194699436999 0.9482778772084932\n"
          ],
          "name": "stdout"
        },
        {
          "output_type": "execute_result",
          "data": {
            "text/plain": [
              "<matplotlib.collections.PathCollection at 0x7fde601b68d0>"
            ]
          },
          "metadata": {
            "tags": []
          },
          "execution_count": 48
        },
        {
          "output_type": "display_data",
          "data": {
            "image/png": "[encoded data removed]",
            "text/plain": [
              "<Figure size 432x288 with 1 Axes>"
            ]
          },
          "metadata": {
            "tags": [],
            "needs_background": "light"
          }
        }
      ]
    },
    {
      "cell_type": "code",
      "metadata": {
        "colab": {
          "base_uri": "https://localhost:8080/",
          "height": 302
        },
        "id": "VX2y8_PTJUZH",
        "outputId": "b3518518-c463-4e00-acb3-96988beeef11"
      },
      "source": [
        "# randomforest regressor\r\n",
        "from sklearn.ensemble import RandomForestRegressor\r\n",
        "rfrg = RandomForestRegressor(n_estimators=200)\r\n",
        "rfrg.fit(x.reshape(-1,1), y)\r\n",
        "y_pred = rfrg.predict(x.reshape(-1,1))\r\n",
        "rmse = np.sqrt(mean_squared_error(y, y_pred))\r\n",
        "r2 = rfrg.score(x.reshape(-1,1), y)\r\n",
        "print(rmse, r2)\r\n",
        "\r\n",
        "plt.scatter(x, y, c='b', s=5)\r\n",
        "plt.scatter(x, y_pred, c='r', s=3)"
      ],
      "execution_count": 59,
      "outputs": [
        {
          "output_type": "stream",
          "text": [
            "3.325772458338944 0.9837488459999707\n"
          ],
          "name": "stdout"
        },
        {
          "output_type": "execute_result",
          "data": {
            "text/plain": [
              "<matplotlib.collections.PathCollection at 0x7fde5fa86470>"
            ]
          },
          "metadata": {
            "tags": []
          },
          "execution_count": 59
        },
        {
          "output_type": "display_data",
          "data": {
            "image/png": "[encoded data removed]",
            "text/plain": [
              "<Figure size 432x288 with 1 Axes>"
            ]
          },
          "metadata": {
            "tags": [],
            "needs_background": "light"
          }
        }
      ]
    },
    {
      "cell_type": "code",
      "metadata": {
        "colab": {
          "base_uri": "https://localhost:8080/",
          "height": 302
        },
        "id": "l3EaDVrLCpS3",
        "outputId": "a03567e4-c4a2-4b94-98eb-a2c4beef0474"
      },
      "source": [
        "# svm regoressor\r\n",
        "from sklearn.svm import SVR\r\n",
        "svrg = SVR(C=10000, kernel='rbf', gamma=10)\r\n",
        "svrg.fit(x.reshape(-1,1), y)\r\n",
        "y_pred = svrg.predict(x.reshape(-1,1))\r\n",
        "\r\n",
        "rmse = np.sqrt(mean_squared_error(y, y_pred))\r\n",
        "r2 = svrg.score(x.reshape(-1,1), y)\r\n",
        "print(rmse, r2)\r\n",
        "\r\n",
        "plt.scatter(x, y, c='b', s=5)\r\n",
        "plt.scatter(x, y_pred, c='r', s=3)"
      ],
      "execution_count": 55,
      "outputs": [
        {
          "output_type": "stream",
          "text": [
            "6.4664578740068706 0.9385627106321691\n"
          ],
          "name": "stdout"
        },
        {
          "output_type": "execute_result",
          "data": {
            "text/plain": [
              "<matplotlib.collections.PathCollection at 0x7fde6022c588>"
            ]
          },
          "metadata": {
            "tags": []
          },
          "execution_count": 55
        },
        {
          "output_type": "display_data",
          "data": {
            "image/png": "[encoded data removed]",
            "text/plain": [
              "<Figure size 432x288 with 1 Axes>"
            ]
          },
          "metadata": {
            "tags": [],
            "needs_background": "light"
          }
        }
      ]
    }
  ]
}