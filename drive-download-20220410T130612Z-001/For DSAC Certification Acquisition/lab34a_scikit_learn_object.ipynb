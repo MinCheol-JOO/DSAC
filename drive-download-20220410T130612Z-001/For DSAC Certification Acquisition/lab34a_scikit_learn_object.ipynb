{
  "nbformat": 4,
  "nbformat_minor": 0,
  "metadata": {
    "colab": {
      "name": "lab34a_scikit_learn_object.ipynb",
      "provenance": [],
      "collapsed_sections": [],
      "authorship_tag": "ABX9TyPiZCtqilQ8kqxuHvpLx1qX",
      "include_colab_link": true
    },
    "kernelspec": {
      "name": "python3",
      "display_name": "Python 3"
    },
    "language_info": {
      "name": "python"
    }
  },
  "cells": [
    {
      "cell_type": "markdown",
      "metadata": {
        "id": "view-in-github",
        "colab_type": "text"
      },
      "source": [
        "<a href=\"https://colab.research.google.com/github/rtajeong/M3/blob/main/lab34a_scikit_learn_object.ipynb\" target=\"_parent\"><img src=\"https://colab.research.google.com/assets/colab-badge.svg\" alt=\"Open In Colab\"/></a>"
      ]
    },
    {
      "cell_type": "markdown",
      "metadata": {
        "id": "iQQu179-mCEy"
      },
      "source": [
        "# Scikit-Learn API\n",
        "- to show how scikit-learn objects are made\n",
        "- all objects share a consistent and simple interface:\n",
        "   - fit(): estimators\n",
        "   - transform(): transformers\n",
        "   - fit_transform(): fit() + transform()\n",
        "   - predict(): prediction\n"
      ]
    },
    {
      "cell_type": "code",
      "metadata": {
        "id": "0Kok-wiOl210"
      },
      "source": [
        "import numpy as np\n",
        "from scipy import sparse\n",
        "from sklearn.base import BaseEstimator, TransformerMixin\n",
        "from sklearn.utils.validation import check_array, check_is_fitted\n",
        "from sklearn.utils.sparsefuncs import inplace_column_scale, mean_variance_axis"
      ],
      "execution_count": null,
      "outputs": []
    },
    {
      "cell_type": "code",
      "metadata": {
        "id": "nKqxwFJkmOkh"
      },
      "source": [
        "def _mean_and_std(X, axis=0):\n",
        "   \n",
        "    X = np.asarray(X)\n",
        "    mean_ = X.mean(axis)\n",
        "    std_ = X.std(axis)\n",
        "\n",
        "    return mean_, std_"
      ],
      "execution_count": null,
      "outputs": []
    },
    {
      "cell_type": "code",
      "metadata": {
        "colab": {
          "base_uri": "https://localhost:8080/"
        },
        "id": "KWh7F2cboEyi",
        "outputId": "007af242-68d6-448f-e6f7-dcc14427915c"
      },
      "source": [
        "data = np.array([[1,2,3],[4,5,6]]); data"
      ],
      "execution_count": null,
      "outputs": [
        {
          "output_type": "execute_result",
          "data": {
            "text/plain": [
              "array([[1, 2, 3],\n",
              "       [4, 5, 6]])"
            ]
          },
          "metadata": {},
          "execution_count": 49
        }
      ]
    },
    {
      "cell_type": "code",
      "metadata": {
        "colab": {
          "base_uri": "https://localhost:8080/"
        },
        "id": "lMIClXDxuxef",
        "outputId": "35ff64a0-1901-4c91-a690-6ada7bc78721"
      },
      "source": [
        "_mean_and_std(data, 0), _mean_and_std(data, 1)"
      ],
      "execution_count": null,
      "outputs": [
        {
          "output_type": "execute_result",
          "data": {
            "text/plain": [
              "((array([2.5, 3.5, 4.5]), array([1.5, 1.5, 1.5])),\n",
              " (array([2., 5.]), array([0.81649658, 0.81649658])))"
            ]
          },
          "metadata": {},
          "execution_count": 50
        }
      ]
    },
    {
      "cell_type": "code",
      "metadata": {
        "id": "JEAq7b5koJ_L"
      },
      "source": [
        "class my_StandardScaler():\n",
        "\n",
        "    def __init__(self):\n",
        "        self.mean_, self.std_ = 0., 0.\n",
        "        \n",
        "    def fit(self, X, y=None):\n",
        "        X = X.astype(np.float32)\n",
        "        self.mean_, self.std_ = _mean_and_std(X, axis=0)\n",
        "        return self\n",
        "\n",
        "    def transform(self, X, y=None):\n",
        "        X = X.astype(np.float32)\n",
        "        X -= self.mean_\n",
        "        X /= self.std_\n",
        "        return X\n",
        "\n",
        "    def inverse_transform(self, X):\n",
        "        X = X.astype(np.float32)\n",
        "        X *= self.std_\n",
        "        X += self.mean_\n",
        "        return X"
      ],
      "execution_count": null,
      "outputs": []
    },
    {
      "cell_type": "code",
      "metadata": {
        "id": "vd0NcLoNqrJA"
      },
      "source": [
        "X = np.array([1,2,3,4,5,6,7,8,9,10])\n",
        "sc = my_StandardScaler()"
      ],
      "execution_count": null,
      "outputs": []
    },
    {
      "cell_type": "code",
      "metadata": {
        "id": "EtoOZkLIviQv"
      },
      "source": [
        "# dir(sc)"
      ],
      "execution_count": null,
      "outputs": []
    },
    {
      "cell_type": "code",
      "metadata": {
        "colab": {
          "base_uri": "https://localhost:8080/"
        },
        "id": "9j0xaZ37rGsg",
        "outputId": "c895bd2d-7cfe-4e83-92f8-2f698bc86663"
      },
      "source": [
        "sc.fit(X)"
      ],
      "execution_count": null,
      "outputs": [
        {
          "output_type": "execute_result",
          "data": {
            "text/plain": [
              "<__main__.my_StandardScaler at 0x7f08cecb9ad0>"
            ]
          },
          "metadata": {},
          "execution_count": 53
        }
      ]
    },
    {
      "cell_type": "code",
      "metadata": {
        "colab": {
          "base_uri": "https://localhost:8080/"
        },
        "id": "xxu4pcpQrI2f",
        "outputId": "9edd374a-9251-447e-ae14-061b08d952f5"
      },
      "source": [
        "sc.mean_, sc.std_"
      ],
      "execution_count": null,
      "outputs": [
        {
          "output_type": "execute_result",
          "data": {
            "text/plain": [
              "(5.5, 2.8722813)"
            ]
          },
          "metadata": {},
          "execution_count": 54
        }
      ]
    },
    {
      "cell_type": "code",
      "metadata": {
        "colab": {
          "base_uri": "https://localhost:8080/"
        },
        "id": "4rY9PS65rT3Y",
        "outputId": "9d53032f-2837-49e3-ada7-260533ad58ab"
      },
      "source": [
        "X_sc = sc.transform(X); X_sc"
      ],
      "execution_count": null,
      "outputs": [
        {
          "output_type": "execute_result",
          "data": {
            "text/plain": [
              "array([-1.5666989 , -1.2185436 , -0.87038827, -0.52223295, -0.17407766,\n",
              "        0.17407766,  0.52223295,  0.87038827,  1.2185436 ,  1.5666989 ],\n",
              "      dtype=float32)"
            ]
          },
          "metadata": {},
          "execution_count": 55
        }
      ]
    },
    {
      "cell_type": "code",
      "metadata": {
        "colab": {
          "base_uri": "https://localhost:8080/"
        },
        "id": "SG-q1S2Kr9Mw",
        "outputId": "5e01d627-f2dd-4bf3-a4f9-c4d57696b817"
      },
      "source": [
        "sc.inverse_transform(X_sc)"
      ],
      "execution_count": null,
      "outputs": [
        {
          "output_type": "execute_result",
          "data": {
            "text/plain": [
              "array([ 1.       ,  1.9999998,  3.       ,  4.       ,  5.       ,\n",
              "        6.       ,  7.       ,  8.       ,  9.       , 10.       ],\n",
              "      dtype=float32)"
            ]
          },
          "metadata": {},
          "execution_count": 56
        }
      ]
    }
  ]
}