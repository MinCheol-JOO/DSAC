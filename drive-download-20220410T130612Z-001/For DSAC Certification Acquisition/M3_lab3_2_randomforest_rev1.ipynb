{
  "nbformat": 4,
  "nbformat_minor": 0,
  "metadata": {
    "kernelspec": {
      "display_name": "Python 3",
      "language": "python",
      "name": "python3"
    },
    "language_info": {
      "codemirror_mode": {
        "name": "ipython",
        "version": 3
      },
      "file_extension": ".py",
      "mimetype": "text/x-python",
      "name": "python",
      "nbconvert_exporter": "python",
      "pygments_lexer": "ipython3",
      "version": "3.6.8"
    },
    "colab": {
      "name": "M3_lab3_2_randomforest_rev1.ipynb",
      "provenance": [],
      "collapsed_sections": [],
      "include_colab_link": true
    }
  },
  "cells": [
    {
      "cell_type": "markdown",
      "metadata": {
        "id": "view-in-github",
        "colab_type": "text"
      },
      "source": [
        "<a href=\"https://colab.research.google.com/github/rtajeong/M3/blob/main/M3_lab3_2_randomforest_rev1.ipynb\" target=\"_parent\"><img src=\"https://colab.research.google.com/assets/colab-badge.svg\" alt=\"Open In Colab\"/></a>"
      ]
    },
    {
      "cell_type": "markdown",
      "metadata": {
        "id": "RECP9djl_wJC"
      },
      "source": [
        "## 랜덤포레스트"
      ]
    },
    {
      "cell_type": "code",
      "metadata": {
        "id": "RT6uLFQD_wJC"
      },
      "source": [
        "import matplotlib.pyplot as plt\n",
        "from sklearn.datasets import load_breast_cancer\n",
        "from sklearn.tree import DecisionTreeClassifier\n",
        "from sklearn.ensemble import RandomForestClassifier\n",
        "from sklearn.model_selection import train_test_split\n",
        "from sklearn import model_selection, svm, metrics\n",
        "from sklearn.model_selection import GridSearchCV\n",
        "\n",
        "import numpy as np\n",
        "import pandas as pd"
      ],
      "execution_count": null,
      "outputs": []
    },
    {
      "cell_type": "markdown",
      "metadata": {
        "id": "BLGmN97h_wJC"
      },
      "source": [
        "## 결정트리"
      ]
    },
    {
      "cell_type": "code",
      "metadata": {
        "colab": {
          "base_uri": "https://localhost:8080/"
        },
        "id": "LSInGQTj_wJC",
        "outputId": "b1e1eeec-6563-49b7-ccee-4de10af983fd"
      },
      "source": [
        "cancer = load_breast_cancer()\n",
        "np.random.seed(9)\n",
        "X_train, X_test, y_train, y_test = train_test_split(\n",
        "    cancer.data, cancer.target, stratify=cancer.target)\n",
        "clf = DecisionTreeClassifier()\n",
        "clf.fit(X_train, y_train)"
      ],
      "execution_count": null,
      "outputs": [
        {
          "output_type": "execute_result",
          "data": {
            "text/plain": [
              "DecisionTreeClassifier(ccp_alpha=0.0, class_weight=None, criterion='gini',\n",
              "                       max_depth=None, max_features=None, max_leaf_nodes=None,\n",
              "                       min_impurity_decrease=0.0, min_impurity_split=None,\n",
              "                       min_samples_leaf=1, min_samples_split=2,\n",
              "                       min_weight_fraction_leaf=0.0, presort='deprecated',\n",
              "                       random_state=None, splitter='best')"
            ]
          },
          "metadata": {
            "tags": []
          },
          "execution_count": 2
        }
      ]
    },
    {
      "cell_type": "code",
      "metadata": {
        "colab": {
          "base_uri": "https://localhost:8080/"
        },
        "id": "Xouo3oLL_wJD",
        "outputId": "343d1349-b7a7-4423-aeb3-28ee4246be94"
      },
      "source": [
        "print(clf.score(X_test, y_test))"
      ],
      "execution_count": null,
      "outputs": [
        {
          "output_type": "stream",
          "text": [
            "0.916083916083916\n"
          ],
          "name": "stdout"
        }
      ]
    },
    {
      "cell_type": "code",
      "metadata": {
        "colab": {
          "base_uri": "https://localhost:8080/"
        },
        "id": "5Bk1bvrf_wJD",
        "outputId": "374efacc-df54-435e-d6f5-2ccfe491d12e"
      },
      "source": [
        "X_train.shape, X_test.shape, cancer.data.shape"
      ],
      "execution_count": null,
      "outputs": [
        {
          "output_type": "execute_result",
          "data": {
            "text/plain": [
              "((426, 30), (143, 30), (569, 30))"
            ]
          },
          "metadata": {
            "tags": []
          },
          "execution_count": 4
        }
      ]
    },
    {
      "cell_type": "markdown",
      "metadata": {
        "id": "z0gqkQtS_wJD"
      },
      "source": [
        "### feature_importances_:\n",
        "- In trees, it tells how much each feature contributes to decreasing the \n",
        "  weighted impurity. \n",
        "- in Random Forest, it averages the decrease in impurity over trees."
      ]
    },
    {
      "cell_type": "code",
      "metadata": {
        "colab": {
          "base_uri": "https://localhost:8080/"
        },
        "id": "cU1Uc7SJ_wJD",
        "outputId": "78b24af5-6878-4d67-f805-2855535ccae0"
      },
      "source": [
        "# 결정 트리를 사용한 경우의 중요 변수\n",
        "\n",
        "list(zip(cancer.feature_names, clf.feature_importances_.round(4)))[:10]"
      ],
      "execution_count": null,
      "outputs": [
        {
          "output_type": "execute_result",
          "data": {
            "text/plain": [
              "[('mean radius', 0.0),\n",
              " ('mean texture', 0.0417),\n",
              " ('mean perimeter', 0.0),\n",
              " ('mean area', 0.0),\n",
              " ('mean smoothness', 0.0),\n",
              " ('mean compactness', 0.0),\n",
              " ('mean concavity', 0.0),\n",
              " ('mean concave points', 0.0426),\n",
              " ('mean symmetry', 0.0114),\n",
              " ('mean fractal dimension', 0.0)]"
            ]
          },
          "metadata": {
            "tags": []
          },
          "execution_count": 5
        }
      ]
    },
    {
      "cell_type": "code",
      "metadata": {
        "colab": {
          "base_uri": "https://localhost:8080/"
        },
        "id": "Vzmgu6rG_wJD",
        "outputId": "9dbbdd0c-9447-4ab6-a3cd-a6c34ac163d9"
      },
      "source": [
        "df = pd.DataFrame({'feature':cancer.feature_names,'importance':clf.feature_importances_ })\n",
        "df=df.sort_values('importance', ascending=False)\n",
        "print(df.head(10))"
      ],
      "execution_count": null,
      "outputs": [
        {
          "output_type": "stream",
          "text": [
            "                 feature  importance\n",
            "22       worst perimeter    0.694689\n",
            "27  worst concave points    0.121068\n",
            "7    mean concave points    0.042647\n",
            "1           mean texture    0.041720\n",
            "21         worst texture    0.039639\n",
            "13            area error    0.017216\n",
            "20          worst radius    0.017188\n",
            "15     compactness error    0.012042\n",
            "8          mean symmetry    0.011405\n",
            "14      smoothness error    0.002385\n"
          ],
          "name": "stdout"
        }
      ]
    },
    {
      "cell_type": "code",
      "metadata": {
        "colab": {
          "base_uri": "https://localhost:8080/",
          "height": 442
        },
        "id": "DhkF5BMm_wJE",
        "outputId": "abf737f5-ba5d-4795-8e32-5830fa4d7a08"
      },
      "source": [
        "x = df.feature\n",
        "y = df.importance\n",
        "ypos = np.arange(len(x))\n",
        "\n",
        "plt.figure(figsize=(10,7))\n",
        "plt.barh(x, y)\n",
        "plt.yticks(ypos, x)\n",
        "plt.xlabel('Importance')\n",
        "plt.ylabel('Variable')\n",
        "plt.xlim(0, 1)\n",
        "plt.ylim(-1, len(x))\n",
        "plt.show()"
      ],
      "execution_count": null,
      "outputs": [
        {
          "output_type": "display_data",
          "data": {
            "image/png": "[encoded data removed]",
            "text/plain": [
              "<Figure size 720x504 with 1 Axes>"
            ]
          },
          "metadata": {
            "tags": [],
            "needs_background": "light"
          }
        }
      ]
    },
    {
      "cell_type": "code",
      "metadata": {
        "scrolled": false,
        "colab": {
          "base_uri": "https://localhost:8080/",
          "height": 459
        },
        "id": "ObkXDFOy_wJE",
        "outputId": "1c23c251-e46d-4e7b-a1d6-e5e1da5d5b4b"
      },
      "source": [
        "# 랜덤 포레스트를 사용한 경우의 중요 특성\n",
        "\n",
        "rfc = RandomForestClassifier(n_estimators=500)\n",
        "rfc.fit(X_train, y_train)\n",
        "print(rfc.score(X_test, y_test))\n",
        "\n",
        "df = pd.DataFrame({'feature':cancer.feature_names,'importance':rfc.feature_importances_ })\n",
        "df=df.sort_values('importance', ascending=False)\n",
        "x = df.feature\n",
        "y = df.importance\n",
        "ypos = np.arange(len(x))\n",
        "\n",
        "plt.figure(figsize=(10,7))\n",
        "plt.barh(x, y)\n",
        "plt.yticks(ypos, x)\n",
        "plt.xlabel('Importance')\n",
        "plt.ylabel('Variable')\n",
        "plt.xlim(0, 1)\n",
        "plt.ylim(-1, len(x))\n",
        "plt.show()"
      ],
      "execution_count": null,
      "outputs": [
        {
          "output_type": "stream",
          "text": [
            "0.951048951048951\n"
          ],
          "name": "stdout"
        },
        {
          "output_type": "display_data",
          "data": {
            "image/png": "[encoded data removed]",
            "text/plain": [
              "<Figure size 720x504 with 1 Axes>"
            ]
          },
          "metadata": {
            "tags": [],
            "needs_background": "light"
          }
        }
      ]
    },
    {
      "cell_type": "markdown",
      "metadata": {
        "id": "EljSSmar_wJE"
      },
      "source": [
        "- 골고루 사용됨을 알 수 있다."
      ]
    },
    {
      "cell_type": "markdown",
      "metadata": {
        "id": "XR0iNO4hSREf"
      },
      "source": [
        "Boosting 방법을 써보자"
      ]
    },
    {
      "cell_type": "code",
      "metadata": {
        "colab": {
          "base_uri": "https://localhost:8080/"
        },
        "id": "M5SF3QEKPoLp",
        "outputId": "143605c7-1220-4759-ff01-985cbee38e94"
      },
      "source": [
        "from sklearn.ensemble import GradientBoostingClassifier\n",
        "\n",
        "\n",
        "clf = GradientBoostingClassifier(n_estimators=500)\n",
        "clf.fit(X_train, y_train)\n",
        "print(clf.score(X_test, y_test))"
      ],
      "execution_count": null,
      "outputs": [
        {
          "output_type": "stream",
          "text": [
            "0.972027972027972\n"
          ],
          "name": "stdout"
        }
      ]
    },
    {
      "cell_type": "markdown",
      "metadata": {
        "id": "hhdwTzwH_wJE"
      },
      "source": [
        "### 여기까지"
      ]
    },
    {
      "cell_type": "markdown",
      "metadata": {
        "id": "E2FCq3eI_wJE"
      },
      "source": [
        "## 그리드 서치\n",
        "### SVM과 비교"
      ]
    },
    {
      "cell_type": "markdown",
      "metadata": {
        "id": "bNymiwDr_wJE"
      },
      "source": [
        "### Grid Search:\n",
        "- The grid search will try all combinations of parameter values and select \n",
        "  the set of parameters which provides the most accurate model.\n",
        "- 그리드 서치의 매개변수를 설정한다(C, gamma)"
      ]
    },
    {
      "cell_type": "code",
      "metadata": {
        "id": "UfTIxx-E_wJE",
        "colab": {
          "base_uri": "https://localhost:8080/"
        },
        "outputId": "89422e46-7a06-4d22-98bc-9c9306db8837"
      },
      "source": [
        "params = [{\"C\": [1,10,100,1000], \"kernel\":[\"linear\"]},\n",
        "          {\"C\": [1,10,100,1000], \"kernel\":[\"rbf\"], \"gamma\":[0.001, 0.0001]}\n",
        "         ]\n",
        "\n",
        "# 그리드 서치 실행\n",
        "# n_jobs: Number of jobs to run in parallel. None means 1 unless in a \n",
        "# joblib.parallel_backend context. -1 means using all processors.\n",
        "\n",
        "clf = GridSearchCV(svm.SVC(), params, n_jobs=-1 )   # svm.SVC(): C-support vector classification\n",
        "clf.fit(X_train, y_train)\n",
        "print('최적값 :', clf.best_estimator_)\n",
        "print('최적 score :', clf.best_score_)\n",
        "\n",
        "#테스트 데이터로 최종 평가\n",
        "score = clf.score(X_test, y_test)\n",
        "print('최종 평가 =',score)"
      ],
      "execution_count": null,
      "outputs": [
        {
          "output_type": "stream",
          "text": [
            "최적값 : SVC(C=100, break_ties=False, cache_size=200, class_weight=None, coef0=0.0,\n",
            "    decision_function_shape='ovr', degree=3, gamma='scale', kernel='linear',\n",
            "    max_iter=-1, probability=False, random_state=None, shrinking=True,\n",
            "    tol=0.001, verbose=False)\n",
            "최적 score : 0.9601094391244871\n",
            "최종 평가 = 0.965034965034965\n"
          ],
          "name": "stdout"
        }
      ]
    },
    {
      "cell_type": "markdown",
      "metadata": {
        "id": "j-RpfNWw_wJE"
      },
      "source": [
        "# Tuning the hyper-parameters of an estimator\n",
        "### A search consists of:\n",
        "\n",
        "- an estimator (regressor or classifier such as sklearn.svm.SVC());\n",
        "- a parameter space;\n",
        "- a method for searching or sampling candidates;\n",
        "- a cross-validation scheme; and\n",
        "- a score function."
      ]
    },
    {
      "cell_type": "code",
      "metadata": {
        "id": "tsMj4VKD_wJE",
        "colab": {
          "base_uri": "https://localhost:8080/"
        },
        "outputId": "49b11849-6472-48d6-ae2d-bbc306b27980"
      },
      "source": [
        "# to find the names and current values for all parameters for a given \n",
        "# estimator,\n",
        "clf.get_params()"
      ],
      "execution_count": null,
      "outputs": [
        {
          "output_type": "execute_result",
          "data": {
            "text/plain": [
              "{'cv': None,\n",
              " 'error_score': nan,\n",
              " 'estimator': SVC(C=1.0, break_ties=False, cache_size=200, class_weight=None, coef0=0.0,\n",
              "     decision_function_shape='ovr', degree=3, gamma='scale', kernel='rbf',\n",
              "     max_iter=-1, probability=False, random_state=None, shrinking=True,\n",
              "     tol=0.001, verbose=False),\n",
              " 'estimator__C': 1.0,\n",
              " 'estimator__break_ties': False,\n",
              " 'estimator__cache_size': 200,\n",
              " 'estimator__class_weight': None,\n",
              " 'estimator__coef0': 0.0,\n",
              " 'estimator__decision_function_shape': 'ovr',\n",
              " 'estimator__degree': 3,\n",
              " 'estimator__gamma': 'scale',\n",
              " 'estimator__kernel': 'rbf',\n",
              " 'estimator__max_iter': -1,\n",
              " 'estimator__probability': False,\n",
              " 'estimator__random_state': None,\n",
              " 'estimator__shrinking': True,\n",
              " 'estimator__tol': 0.001,\n",
              " 'estimator__verbose': False,\n",
              " 'iid': 'deprecated',\n",
              " 'n_jobs': -1,\n",
              " 'param_grid': [{'C': [1, 10, 100, 1000], 'kernel': ['linear']},\n",
              "  {'C': [1, 10, 100, 1000], 'gamma': [0.001, 0.0001], 'kernel': ['rbf']}],\n",
              " 'pre_dispatch': '2*n_jobs',\n",
              " 'refit': True,\n",
              " 'return_train_score': False,\n",
              " 'scoring': None,\n",
              " 'verbose': 0}"
            ]
          },
          "metadata": {
            "tags": []
          },
          "execution_count": 11
        }
      ]
    },
    {
      "cell_type": "code",
      "metadata": {
        "id": "FOfGsoci_wJE",
        "colab": {
          "base_uri": "https://localhost:8080/",
          "height": 70
        },
        "outputId": "d3a800b4-f06e-4c84-cfaa-d90b4325ab41"
      },
      "source": [
        "# Two generic approaches to sampling search candidates are provided in \n",
        "# scikit-learn: for given values, \n",
        "# - GridSearchCV: exhaustively considers all parameter combinations, \n",
        "# - RandomizedSearchCV: can sample a given number of candidates from a \n",
        "#   parameter space with a specified distribution. \n",
        "\n",
        "''' Note that it is common that a small subset of those parameters can have a \n",
        "large impact on the predictive or computation performance of the model while \n",
        "others can be left to their default values. It is recommended to read the \n",
        "docstring of the estimator class to get a finer understanding of their \n",
        "expected behavior, possibly by reading the enclosed reference. '''"
      ],
      "execution_count": null,
      "outputs": [
        {
          "output_type": "execute_result",
          "data": {
            "application/vnd.google.colaboratory.intrinsic+json": {
              "type": "string"
            },
            "text/plain": [
              "' Note that it is common that a small subset of those parameters can have a \\nlarge impact on the predictive or computation performance of the model while \\nothers can be left to their default values. It is recommended to read the \\ndocstring of the estimator class to get a finer understanding of their \\nexpected behavior, possibly by reading the enclosed reference. '"
            ]
          },
          "metadata": {
            "tags": []
          },
          "execution_count": 12
        }
      ]
    },
    {
      "cell_type": "code",
      "metadata": {
        "id": "chPpxsBf_wJE"
      },
      "source": [
        ""
      ],
      "execution_count": null,
      "outputs": []
    }
  ]
}