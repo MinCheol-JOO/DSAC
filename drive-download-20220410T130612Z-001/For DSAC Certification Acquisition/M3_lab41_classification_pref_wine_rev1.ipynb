{
  "nbformat": 4,
  "nbformat_minor": 0,
  "metadata": {
    "kernelspec": {
      "display_name": "Python 3",
      "language": "python",
      "name": "python3"
    },
    "language_info": {
      "codemirror_mode": {
        "name": "ipython",
        "version": 3
      },
      "file_extension": ".py",
      "mimetype": "text/x-python",
      "name": "python",
      "nbconvert_exporter": "python",
      "pygments_lexer": "ipython3",
      "version": "3.6.8"
    },
    "colab": {
      "name": "lab41_classification_pref_wine_rev1.ipynb",
      "provenance": [],
      "collapsed_sections": [],
      "toc_visible": true,
      "include_colab_link": true
    }
  },
  "cells": [
    {
      "cell_type": "markdown",
      "metadata": {
        "id": "view-in-github",
        "colab_type": "text"
      },
      "source": [
        "<a href=\"https://colab.research.google.com/github/rtajeong/Hallym_univ_M34/blob/main/lab41_classification_pref_wine_rev1.ipynb\" target=\"_parent\"><img src=\"https://colab.research.google.com/assets/colab-badge.svg\" alt=\"Open In Colab\"/></a>"
      ]
    },
    {
      "cell_type": "markdown",
      "metadata": {
        "_cell_guid": "6876755d-3552-491d-b416-a012fbe221e4",
        "_uuid": "0b46910d15d98513ea81fb24e0f8ab28134c5f5f",
        "id": "dJFjzmLfU-if"
      },
      "source": [
        "분류 성능비교\n",
        "==\n",
        "\n",
        "다루는 내용\n",
        "--\n",
        "- 분류 알고리즘 비교\n",
        "- 리지 규제, 라쏘 규제\n",
        "- 교차검증\n",
        "- 정적 성능평가 Confusion matrix  \n",
        "- 동적 성능평가 ROC\n",
        "\n",
        "데이터\n",
        "--\n",
        "- 포도주 품질 분류 https://goo.gl/Gyc8K7\n",
        "\n",
        "출처\n",
        "--\n",
        "https://www.kaggle.com/vishalyo990/prediction-of-quality-of-wine/notebook\n",
        "\n"
      ]
    },
    {
      "cell_type": "markdown",
      "metadata": {
        "id": "scg0F22ZU-jV"
      },
      "source": [
        "모듈 불러오기\n",
        "--"
      ]
    },
    {
      "cell_type": "code",
      "metadata": {
        "_cell_guid": "87c7b371-53b1-4d4d-bfbd-373d2b84b33a",
        "_uuid": "da5343fb3f6b3942909c94bf8e2add04fd3ff1a3",
        "id": "LECgCdAQU-jX"
      },
      "source": [
        "import pandas as pd\n",
        "import numpy as np\n",
        "import matplotlib.pyplot as plt\n",
        "from sklearn import tree\n",
        "from sklearn.ensemble import RandomForestClassifier \n",
        "from sklearn.svm import SVC \n",
        "from sklearn.linear_model import SGDClassifier, LogisticRegression\n",
        "from sklearn.metrics import confusion_matrix, classification_report, roc_curve, auc\n",
        "from sklearn.preprocessing import StandardScaler, LabelEncoder\n",
        "from sklearn.model_selection import train_test_split, GridSearchCV, cross_val_score \n",
        "%matplotlib inline"
      ],
      "execution_count": null,
      "outputs": []
    },
    {
      "cell_type": "markdown",
      "metadata": {
        "id": "jhmV7c6qU-jZ"
      },
      "source": [
        "데이터 읽기 (포도주 품질 평가)\n",
        "--"
      ]
    },
    {
      "cell_type": "code",
      "metadata": {
        "colab": {
          "base_uri": "https://localhost:8080/"
        },
        "id": "Q1Z3Ns4lVQE0",
        "outputId": "b951eb96-85fa-4552-d42f-e9fb52a77a91"
      },
      "source": [
        "!curl -L https://goo.gl/Gyc8K7 -o winequality-red.csv"
      ],
      "execution_count": null,
      "outputs": [
        {
          "output_type": "stream",
          "text": [
            "  % Total    % Received % Xferd  Average Speed   Time    Time     Time  Current\n",
            "                                 Dload  Upload   Total   Spent    Left  Speed\n",
            "  0     0    0     0    0     0      0      0 --:--:-- --:--:-- --:--:--     0\n",
            "  0     0    0     0    0     0      0      0 --:--:-- --:--:-- --:--:--     0\n",
            "  0     0    0     0    0     0      0      0 --:--:-- --:--:-- --:--:--     0\n",
            "100   98k  100   98k    0     0  61368      0  0:00:01  0:00:01 --:--:-- 1071k\n"
          ],
          "name": "stdout"
        }
      ]
    },
    {
      "cell_type": "code",
      "metadata": {
        "colab": {
          "base_uri": "https://localhost:8080/",
          "height": 216
        },
        "id": "2XeHbyysVbAW",
        "outputId": "d536cfe7-1c97-4742-9b4d-9c35e80dab83"
      },
      "source": [
        "wine = pd.read_csv('./winequality-red.csv')\r\n",
        "print(wine.shape)\r\n",
        "wine.head(5)"
      ],
      "execution_count": null,
      "outputs": [
        {
          "output_type": "stream",
          "text": [
            "(1599, 12)\n"
          ],
          "name": "stdout"
        },
        {
          "output_type": "execute_result",
          "data": {
            "text/html": [
              "<div>\n",
              "<style scoped>\n",
              "    .dataframe tbody tr th:only-of-type {\n",
              "        vertical-align: middle;\n",
              "    }\n",
              "\n",
              "    .dataframe tbody tr th {\n",
              "        vertical-align: top;\n",
              "    }\n",
              "\n",
              "    .dataframe thead th {\n",
              "        text-align: right;\n",
              "    }\n",
              "</style>\n",
              "<table border=\"1\" class=\"dataframe\">\n",
              "  <thead>\n",
              "    <tr style=\"text-align: right;\">\n",
              "      <th></th>\n",
              "      <th>fixed acidity</th>\n",
              "      <th>volatile acidity</th>\n",
              "      <th>citric acid</th>\n",
              "      <th>residual sugar</th>\n",
              "      <th>chlorides</th>\n",
              "      <th>free sulfur dioxide</th>\n",
              "      <th>total sulfur dioxide</th>\n",
              "      <th>density</th>\n",
              "      <th>pH</th>\n",
              "      <th>sulphates</th>\n",
              "      <th>alcohol</th>\n",
              "      <th>quality</th>\n",
              "    </tr>\n",
              "  </thead>\n",
              "  <tbody>\n",
              "    <tr>\n",
              "      <th>0</th>\n",
              "      <td>7.4</td>\n",
              "      <td>0.70</td>\n",
              "      <td>0.00</td>\n",
              "      <td>1.9</td>\n",
              "      <td>0.076</td>\n",
              "      <td>11.0</td>\n",
              "      <td>34.0</td>\n",
              "      <td>0.9978</td>\n",
              "      <td>3.51</td>\n",
              "      <td>0.56</td>\n",
              "      <td>9.4</td>\n",
              "      <td>5</td>\n",
              "    </tr>\n",
              "    <tr>\n",
              "      <th>1</th>\n",
              "      <td>7.8</td>\n",
              "      <td>0.88</td>\n",
              "      <td>0.00</td>\n",
              "      <td>2.6</td>\n",
              "      <td>0.098</td>\n",
              "      <td>25.0</td>\n",
              "      <td>67.0</td>\n",
              "      <td>0.9968</td>\n",
              "      <td>3.20</td>\n",
              "      <td>0.68</td>\n",
              "      <td>9.8</td>\n",
              "      <td>5</td>\n",
              "    </tr>\n",
              "    <tr>\n",
              "      <th>2</th>\n",
              "      <td>7.8</td>\n",
              "      <td>0.76</td>\n",
              "      <td>0.04</td>\n",
              "      <td>2.3</td>\n",
              "      <td>0.092</td>\n",
              "      <td>15.0</td>\n",
              "      <td>54.0</td>\n",
              "      <td>0.9970</td>\n",
              "      <td>3.26</td>\n",
              "      <td>0.65</td>\n",
              "      <td>9.8</td>\n",
              "      <td>5</td>\n",
              "    </tr>\n",
              "    <tr>\n",
              "      <th>3</th>\n",
              "      <td>11.2</td>\n",
              "      <td>0.28</td>\n",
              "      <td>0.56</td>\n",
              "      <td>1.9</td>\n",
              "      <td>0.075</td>\n",
              "      <td>17.0</td>\n",
              "      <td>60.0</td>\n",
              "      <td>0.9980</td>\n",
              "      <td>3.16</td>\n",
              "      <td>0.58</td>\n",
              "      <td>9.8</td>\n",
              "      <td>6</td>\n",
              "    </tr>\n",
              "    <tr>\n",
              "      <th>4</th>\n",
              "      <td>7.4</td>\n",
              "      <td>0.70</td>\n",
              "      <td>0.00</td>\n",
              "      <td>1.9</td>\n",
              "      <td>0.076</td>\n",
              "      <td>11.0</td>\n",
              "      <td>34.0</td>\n",
              "      <td>0.9978</td>\n",
              "      <td>3.51</td>\n",
              "      <td>0.56</td>\n",
              "      <td>9.4</td>\n",
              "      <td>5</td>\n",
              "    </tr>\n",
              "  </tbody>\n",
              "</table>\n",
              "</div>"
            ],
            "text/plain": [
              "   fixed acidity  volatile acidity  citric acid  ...  sulphates  alcohol  quality\n",
              "0            7.4              0.70         0.00  ...       0.56      9.4        5\n",
              "1            7.8              0.88         0.00  ...       0.68      9.8        5\n",
              "2            7.8              0.76         0.04  ...       0.65      9.8        5\n",
              "3           11.2              0.28         0.56  ...       0.58      9.8        6\n",
              "4            7.4              0.70         0.00  ...       0.56      9.4        5\n",
              "\n",
              "[5 rows x 12 columns]"
            ]
          },
          "metadata": {
            "tags": []
          },
          "execution_count": 3
        }
      ]
    },
    {
      "cell_type": "markdown",
      "metadata": {
        "id": "ShB_mHHeU-jf"
      },
      "source": [
        "- fixed acidity - 결합 산도 \n",
        "- volatile acidity - 휘발성 산도 \n",
        "- citric acid - 시트르산 \n",
        "- residual sugar - 잔류 설탕 \n",
        "- chlorides\t - 염화물 \n",
        "- free sulfur dioxide - 자유 이산화황 \n",
        "- total sulfur dioxide - 총 이산화황 \n",
        "- density - 밀도 \n",
        "- pH - pH \n",
        "- sulphates - 황산염 \n",
        "- alcohol - 알코올 \n",
        "- quality - 품질 (0 ~ 10 점)"
      ]
    },
    {
      "cell_type": "code",
      "metadata": {
        "_cell_guid": "704f4830-5804-436d-9b78-6ca00f5ae510",
        "_uuid": "af141503385967f92d409c5e111e2724b4c9636f",
        "colab": {
          "base_uri": "https://localhost:8080/"
        },
        "id": "ZDgWjoucU-jg",
        "outputId": "c86ee00a-1fee-4dc5-b3c9-eeab82aa11d4"
      },
      "source": [
        "wine.info() # 데이터 정보"
      ],
      "execution_count": null,
      "outputs": [
        {
          "output_type": "stream",
          "text": [
            "<class 'pandas.core.frame.DataFrame'>\n",
            "RangeIndex: 1599 entries, 0 to 1598\n",
            "Data columns (total 12 columns):\n",
            " #   Column                Non-Null Count  Dtype  \n",
            "---  ------                --------------  -----  \n",
            " 0   fixed acidity         1599 non-null   float64\n",
            " 1   volatile acidity      1599 non-null   float64\n",
            " 2   citric acid           1599 non-null   float64\n",
            " 3   residual sugar        1599 non-null   float64\n",
            " 4   chlorides             1599 non-null   float64\n",
            " 5   free sulfur dioxide   1599 non-null   float64\n",
            " 6   total sulfur dioxide  1599 non-null   float64\n",
            " 7   density               1599 non-null   float64\n",
            " 8   pH                    1599 non-null   float64\n",
            " 9   sulphates             1599 non-null   float64\n",
            " 10  alcohol               1599 non-null   float64\n",
            " 11  quality               1599 non-null   int64  \n",
            "dtypes: float64(11), int64(1)\n",
            "memory usage: 150.0 KB\n"
          ],
          "name": "stdout"
        }
      ]
    },
    {
      "cell_type": "code",
      "metadata": {
        "colab": {
          "base_uri": "https://localhost:8080/"
        },
        "id": "N8DuKt-2U-jh",
        "outputId": "464fca94-2b0d-4aa2-e8f8-65cff4c93207"
      },
      "source": [
        "wine.columns"
      ],
      "execution_count": null,
      "outputs": [
        {
          "output_type": "execute_result",
          "data": {
            "text/plain": [
              "Index(['fixed acidity', 'volatile acidity', 'citric acid', 'residual sugar',\n",
              "       'chlorides', 'free sulfur dioxide', 'total sulfur dioxide', 'density',\n",
              "       'pH', 'sulphates', 'alcohol', 'quality'],\n",
              "      dtype='object')"
            ]
          },
          "metadata": {
            "tags": []
          },
          "execution_count": 5
        }
      ]
    },
    {
      "cell_type": "markdown",
      "metadata": {
        "_cell_guid": "9838ca3d-4b89-4503-9d7e-247cc3a9730b",
        "_uuid": "974be3136a2f13bf26a88b26cbddbf73f5cafda9",
        "id": "J1RLz2NvU-jj"
      },
      "source": [
        "## 데이터 전처리 (레이블 만들기)"
      ]
    },
    {
      "cell_type": "code",
      "metadata": {
        "scrolled": true,
        "colab": {
          "base_uri": "https://localhost:8080/"
        },
        "id": "82w7-gb_U-jk",
        "outputId": "405b6f2e-c951-481c-b85f-4504afccb21c"
      },
      "source": [
        "wine['quality'].value_counts()"
      ],
      "execution_count": null,
      "outputs": [
        {
          "output_type": "execute_result",
          "data": {
            "text/plain": [
              "5    681\n",
              "6    638\n",
              "7    199\n",
              "4     53\n",
              "8     18\n",
              "3     10\n",
              "Name: quality, dtype: int64"
            ]
          },
          "metadata": {
            "tags": []
          },
          "execution_count": 6
        }
      ]
    },
    {
      "cell_type": "code",
      "metadata": {
        "_cell_guid": "33e1c5c0-a65a-4918-8d94-db8e4c521d50",
        "_uuid": "3f082340d1b157391052f0fa20a44aa0105ce987",
        "colab": {
          "base_uri": "https://localhost:8080/"
        },
        "id": "Dtgh5EgmU-jl",
        "outputId": "12c954fb-d5cc-4aa7-9714-f69591f1999f"
      },
      "source": [
        "# 품질이 좋고 나쁜 것을 나누는 기준 설정\n",
        "# 6.5를 기준으로 bad(0) good(1)으로 나눈다 (임의로 나눈 것임)\n",
        "my_bins = (2.5, 6.5, 8.5)\n",
        "groups = [0, 1]\n",
        "wine['qual'] = pd.cut(wine['quality'], bins = my_bins, labels = groups) \n",
        "\n",
        "wine['qual'].value_counts()"
      ],
      "execution_count": null,
      "outputs": [
        {
          "output_type": "execute_result",
          "data": {
            "text/plain": [
              "0    1382\n",
              "1     217\n",
              "Name: qual, dtype: int64"
            ]
          },
          "metadata": {
            "tags": []
          },
          "execution_count": 7
        }
      ]
    },
    {
      "cell_type": "code",
      "metadata": {
        "_cell_guid": "33e1c5c0-a65a-4918-8d94-db8e4c521d50",
        "_uuid": "3f082340d1b157391052f0fa20a44aa0105ce987",
        "colab": {
          "base_uri": "https://localhost:8080/"
        },
        "id": "hpSQEWZUU-jv",
        "outputId": "5b643b25-d42a-4622-a532-0302c83493aa"
      },
      "source": [
        "X = wine.drop(['quality', 'qual'], axis = 1) \n",
        "y = wine['qual'] \n",
        "\n",
        "y.value_counts()"
      ],
      "execution_count": null,
      "outputs": [
        {
          "output_type": "execute_result",
          "data": {
            "text/plain": [
              "0    1382\n",
              "1     217\n",
              "Name: qual, dtype: int64"
            ]
          },
          "metadata": {
            "tags": []
          },
          "execution_count": 9
        }
      ]
    },
    {
      "cell_type": "code",
      "metadata": {
        "colab": {
          "base_uri": "https://localhost:8080/",
          "height": 138
        },
        "id": "vdelGflrU-jx",
        "outputId": "2dfb19c0-d318-40f9-aef0-aa0dce818349"
      },
      "source": [
        "X[:3]"
      ],
      "execution_count": null,
      "outputs": [
        {
          "output_type": "execute_result",
          "data": {
            "text/html": [
              "<div>\n",
              "<style scoped>\n",
              "    .dataframe tbody tr th:only-of-type {\n",
              "        vertical-align: middle;\n",
              "    }\n",
              "\n",
              "    .dataframe tbody tr th {\n",
              "        vertical-align: top;\n",
              "    }\n",
              "\n",
              "    .dataframe thead th {\n",
              "        text-align: right;\n",
              "    }\n",
              "</style>\n",
              "<table border=\"1\" class=\"dataframe\">\n",
              "  <thead>\n",
              "    <tr style=\"text-align: right;\">\n",
              "      <th></th>\n",
              "      <th>fixed acidity</th>\n",
              "      <th>volatile acidity</th>\n",
              "      <th>citric acid</th>\n",
              "      <th>residual sugar</th>\n",
              "      <th>chlorides</th>\n",
              "      <th>free sulfur dioxide</th>\n",
              "      <th>total sulfur dioxide</th>\n",
              "      <th>density</th>\n",
              "      <th>pH</th>\n",
              "      <th>sulphates</th>\n",
              "      <th>alcohol</th>\n",
              "    </tr>\n",
              "  </thead>\n",
              "  <tbody>\n",
              "    <tr>\n",
              "      <th>0</th>\n",
              "      <td>7.4</td>\n",
              "      <td>0.70</td>\n",
              "      <td>0.00</td>\n",
              "      <td>1.9</td>\n",
              "      <td>0.076</td>\n",
              "      <td>11.0</td>\n",
              "      <td>34.0</td>\n",
              "      <td>0.9978</td>\n",
              "      <td>3.51</td>\n",
              "      <td>0.56</td>\n",
              "      <td>9.4</td>\n",
              "    </tr>\n",
              "    <tr>\n",
              "      <th>1</th>\n",
              "      <td>7.8</td>\n",
              "      <td>0.88</td>\n",
              "      <td>0.00</td>\n",
              "      <td>2.6</td>\n",
              "      <td>0.098</td>\n",
              "      <td>25.0</td>\n",
              "      <td>67.0</td>\n",
              "      <td>0.9968</td>\n",
              "      <td>3.20</td>\n",
              "      <td>0.68</td>\n",
              "      <td>9.8</td>\n",
              "    </tr>\n",
              "    <tr>\n",
              "      <th>2</th>\n",
              "      <td>7.8</td>\n",
              "      <td>0.76</td>\n",
              "      <td>0.04</td>\n",
              "      <td>2.3</td>\n",
              "      <td>0.092</td>\n",
              "      <td>15.0</td>\n",
              "      <td>54.0</td>\n",
              "      <td>0.9970</td>\n",
              "      <td>3.26</td>\n",
              "      <td>0.65</td>\n",
              "      <td>9.8</td>\n",
              "    </tr>\n",
              "  </tbody>\n",
              "</table>\n",
              "</div>"
            ],
            "text/plain": [
              "   fixed acidity  volatile acidity  citric acid  ...    pH  sulphates  alcohol\n",
              "0            7.4              0.70         0.00  ...  3.51       0.56      9.4\n",
              "1            7.8              0.88         0.00  ...  3.20       0.68      9.8\n",
              "2            7.8              0.76         0.04  ...  3.26       0.65      9.8\n",
              "\n",
              "[3 rows x 11 columns]"
            ]
          },
          "metadata": {
            "tags": []
          },
          "execution_count": 10
        }
      ]
    },
    {
      "cell_type": "code",
      "metadata": {
        "id": "Vyd__ckKrMB2"
      },
      "source": [
        ""
      ],
      "execution_count": null,
      "outputs": []
    },
    {
      "cell_type": "markdown",
      "metadata": {
        "id": "-EG4FbcoU-jz"
      },
      "source": [
        "표준 스케일링\n",
        "--\n",
        "\n",
        "전체 자료의 분포를 평균 0, 분산 1이 되도록 만든다.  \n",
        "X에는 수치 데이터만 들어야 한다.  \n",
        "테스트 데이터도 같이 스케일링하는 것을 잊지 않는다"
      ]
    },
    {
      "cell_type": "code",
      "metadata": {
        "id": "tSMj56hWU-j0"
      },
      "source": [
        "sc = StandardScaler()\n",
        "X = sc.fit_transform(X)"
      ],
      "execution_count": null,
      "outputs": []
    },
    {
      "cell_type": "code",
      "metadata": {
        "colab": {
          "base_uri": "https://localhost:8080/"
        },
        "id": "FLHXs21aU-j1",
        "outputId": "1dcbd6d4-d92d-459f-fc67-3fe32a28b434"
      },
      "source": [
        "X[:3]"
      ],
      "execution_count": null,
      "outputs": [
        {
          "output_type": "execute_result",
          "data": {
            "text/plain": [
              "array([[-0.52835961,  0.96187667, -1.39147228, -0.45321841, -0.24370669,\n",
              "        -0.46619252, -0.37913269,  0.55827446,  1.28864292, -0.57920652,\n",
              "        -0.96024611],\n",
              "       [-0.29854743,  1.96744245, -1.39147228,  0.04341614,  0.2238752 ,\n",
              "         0.87263823,  0.62436323,  0.02826077, -0.7199333 ,  0.1289504 ,\n",
              "        -0.58477711],\n",
              "       [-0.29854743,  1.29706527, -1.18607043, -0.16942723,  0.09635286,\n",
              "        -0.08366945,  0.22904665,  0.13426351, -0.33117661, -0.04808883,\n",
              "        -0.58477711]])"
            ]
          },
          "metadata": {
            "tags": []
          },
          "execution_count": 12
        }
      ]
    },
    {
      "cell_type": "code",
      "metadata": {
        "_cell_guid": "d7703d9a-3397-4c42-9b38-6f341cac1cde",
        "_uuid": "bdfc0f6ba146f947f265fd493e8327366fdb5c9a",
        "colab": {
          "base_uri": "https://localhost:8080/"
        },
        "id": "BQFwKREaU-j2",
        "outputId": "6fca1842-5f62-4042-ab62-ae8f5acab11b"
      },
      "source": [
        "# 데이터를 랜덤하게 섞은 후 80%를 훈련데이터로 사용\n",
        "np.random.seed(11)\n",
        "X_train, X_test, y_train, y_test = train_test_split(X, y, test_size = 0.2)\n",
        "\n",
        "X_train.shape, y_train.shape\n",
        "# X_test.shape, y_test.shape"
      ],
      "execution_count": null,
      "outputs": [
        {
          "output_type": "execute_result",
          "data": {
            "text/plain": [
              "((1279, 11), (1279,))"
            ]
          },
          "metadata": {
            "tags": []
          },
          "execution_count": 13
        }
      ]
    },
    {
      "cell_type": "markdown",
      "metadata": {
        "_cell_guid": "cb7432d3-16a5-4764-b792-def2666dffbe",
        "_uuid": "6bb4d5afc35743acfd4630d12038c29f2459ce39",
        "id": "dTkBtwEPU-j3"
      },
      "source": [
        "## 선형 모델(확률적 경사 하강법 사용)"
      ]
    },
    {
      "cell_type": "code",
      "metadata": {
        "_cell_guid": "d6835aea-7d7c-4602-b3f3-11e26a37f816",
        "_uuid": "2e1bc3b870d29573b09f1c590ee18011e29af7c3",
        "colab": {
          "base_uri": "https://localhost:8080/"
        },
        "id": "W9pU_TCxU-j4",
        "outputId": "712d8917-8023-4518-ca18-61ae0a92436c"
      },
      "source": [
        "sgd = SGDClassifier()\n",
        "sgd.fit(X_train, y_train)\n",
        "sgd.score(X_test,y_test)"
      ],
      "execution_count": null,
      "outputs": [
        {
          "output_type": "execute_result",
          "data": {
            "text/plain": [
              "0.81875"
            ]
          },
          "metadata": {
            "tags": []
          },
          "execution_count": 14
        }
      ]
    },
    {
      "cell_type": "markdown",
      "metadata": {
        "id": "p7vhxtq0U-j5"
      },
      "source": [
        "결정 트리 (Decesion Tree)\n",
        "--"
      ]
    },
    {
      "cell_type": "code",
      "metadata": {
        "colab": {
          "base_uri": "https://localhost:8080/"
        },
        "id": "z7BCXBuVU-j6",
        "outputId": "18937e7e-f39c-4e12-efdc-ed67c729bc8d"
      },
      "source": [
        "from sklearn import tree\n",
        "clf = tree.DecisionTreeClassifier()\n",
        "clf = clf.fit(X_train, y_train)\n",
        "clf.score(X_test,y_test)"
      ],
      "execution_count": null,
      "outputs": [
        {
          "output_type": "execute_result",
          "data": {
            "text/plain": [
              "0.871875"
            ]
          },
          "metadata": {
            "tags": []
          },
          "execution_count": 15
        }
      ]
    },
    {
      "cell_type": "markdown",
      "metadata": {
        "_cell_guid": "0a12868b-8780-43b9-ae70-4c849407aac6",
        "_uuid": "093572f70cda59063611c1c888974e6a863ec7ef",
        "id": "48SjXSADU-j8"
      },
      "source": [
        "## 랜덤 포래스트 (Random Forest Classifier)"
      ]
    },
    {
      "cell_type": "code",
      "metadata": {
        "colab": {
          "base_uri": "https://localhost:8080/"
        },
        "id": "5COIKv9oU-j-",
        "outputId": "0bfd001a-2a0c-4b13-c689-30ec23a46b78"
      },
      "source": [
        "rfc = RandomForestClassifier(n_estimators=300) \n",
        "rfc.fit(X_train, y_train)\n",
        "rfc.score(X_test,y_test)"
      ],
      "execution_count": null,
      "outputs": [
        {
          "output_type": "execute_result",
          "data": {
            "text/plain": [
              "0.91875"
            ]
          },
          "metadata": {
            "tags": []
          },
          "execution_count": 16
        }
      ]
    },
    {
      "cell_type": "markdown",
      "metadata": {
        "_cell_guid": "eda98e5a-552d-4318-8ae7-1fc45c360be4",
        "_uuid": "9ec5e14c6c24713d6b6e0aaa76ddc5d45886c626",
        "id": "U8UwfW2bU-j_"
      },
      "source": [
        "## Support Vector Classifier (SVC)"
      ]
    },
    {
      "cell_type": "code",
      "metadata": {
        "_cell_guid": "c09c2885-0ae7-424b-8bfb-8d60eeab8910",
        "_uuid": "432c960068fac4d27d9be14a39ac0fe92933f532",
        "colab": {
          "base_uri": "https://localhost:8080/"
        },
        "id": "EgoZ8CdrU-kA",
        "outputId": "42906c31-28e4-4ce4-80ab-637d221f6c83"
      },
      "source": [
        "svc = SVC()   # default: C=1.0, kernel='rbf', gamma='scale' \n",
        "svc.fit(X_train, y_train)\n",
        "svc.score(X_test,y_test)"
      ],
      "execution_count": null,
      "outputs": [
        {
          "output_type": "execute_result",
          "data": {
            "text/plain": [
              "0.88125"
            ]
          },
          "metadata": {
            "tags": []
          },
          "execution_count": 18
        }
      ]
    },
    {
      "cell_type": "markdown",
      "metadata": {
        "id": "1kCU4NxUU-kB"
      },
      "source": [
        "Logistic Regression\n",
        "--"
      ]
    },
    {
      "cell_type": "code",
      "metadata": {
        "colab": {
          "base_uri": "https://localhost:8080/"
        },
        "id": "4DYwbeINU-kC",
        "outputId": "7af43aeb-c576-49f0-e80f-d16183f422b7"
      },
      "source": [
        "log = LogisticRegression()\n",
        "log.fit(X_train, y_train)\n",
        "log.score(X_test,y_test)"
      ],
      "execution_count": null,
      "outputs": [
        {
          "output_type": "execute_result",
          "data": {
            "text/plain": [
              "0.86875"
            ]
          },
          "metadata": {
            "tags": []
          },
          "execution_count": 19
        }
      ]
    },
    {
      "cell_type": "markdown",
      "metadata": {
        "_cell_guid": "d6cd1c1f-9531-4c6a-87c1-262dd7fb6caf",
        "_uuid": "9f705df2b81e776eedc164c5d933ff4dd4c61d31",
        "id": "roQBdSbuU-kD"
      },
      "source": [
        "## Cross validation(교차 검증)"
      ]
    },
    {
      "cell_type": "code",
      "metadata": {
        "_cell_guid": "a5507be9-a3eb-4bba-b8d5-928d015faadf",
        "_uuid": "24a7f7dc1bf59eaae6e5ea5a6f61130664fcd260",
        "colab": {
          "base_uri": "https://localhost:8080/"
        },
        "id": "03fHTpjLU-kE",
        "outputId": "feecc99d-6394-4aca-f5e0-c6c11b51e927"
      },
      "source": [
        "# estimator = 모델, cv는 분할 테스트 숫자\n",
        "rfc_eval = cross_val_score(rfc, X, y, cv = 5)  \n",
        "rfc_eval, rfc_eval.mean()"
      ],
      "execution_count": null,
      "outputs": [
        {
          "output_type": "execute_result",
          "data": {
            "text/plain": [
              "(array([0.875     , 0.846875  , 0.871875  , 0.859375  , 0.88087774]),\n",
              " 0.8668005485893417)"
            ]
          },
          "metadata": {
            "tags": []
          },
          "execution_count": 22
        }
      ]
    },
    {
      "cell_type": "markdown",
      "metadata": {
        "id": "w_LaB0dOU-kG"
      },
      "source": [
        "##  정적 평가, 혼돈 매트릭스 (confusion_matrix)"
      ]
    },
    {
      "cell_type": "code",
      "metadata": {
        "_cell_guid": "84334dbd-d36c-4650-87ab-d3e8f73be63c",
        "_uuid": "0fd8c7cd7741be25fd0d5f56d5711e8aaf44ac0f",
        "colab": {
          "base_uri": "https://localhost:8080/"
        },
        "id": "fKXPGta5U-kH",
        "outputId": "b90db68d-453c-4255-96e4-65c983c3d933"
      },
      "source": [
        "y_pred = sgd.predict(X_test)\n",
        "confusion_matrix(y_test, y_pred)"
      ],
      "execution_count": null,
      "outputs": [
        {
          "output_type": "execute_result",
          "data": {
            "text/plain": [
              "array([[253,  16],\n",
              "       [ 42,   9]])"
            ]
          },
          "metadata": {
            "tags": []
          },
          "execution_count": 23
        }
      ]
    },
    {
      "cell_type": "markdown",
      "metadata": {
        "id": "843UEeyPU-kI"
      },
      "source": [
        "아래는 모델이 올바르게 예측했는지를 평가하기 위한 값들이다"
      ]
    },
    {
      "cell_type": "code",
      "metadata": {
        "_cell_guid": "1cc15e56-0589-4fa3-a4f1-6f5e7b5547b2",
        "_uuid": "61e8a79a7db4fef289b8d4e3b3dd8e1c01756697",
        "colab": {
          "base_uri": "https://localhost:8080/"
        },
        "id": "8cbNpI7XU-kJ",
        "outputId": "29c4c803-be8e-4af5-fa72-3257d240bedb"
      },
      "source": [
        "print(classification_report(y_test, y_pred))"
      ],
      "execution_count": null,
      "outputs": [
        {
          "output_type": "stream",
          "text": [
            "              precision    recall  f1-score   support\n",
            "\n",
            "           0       0.86      0.94      0.90       269\n",
            "           1       0.36      0.18      0.24        51\n",
            "\n",
            "    accuracy                           0.82       320\n",
            "   macro avg       0.61      0.56      0.57       320\n",
            "weighted avg       0.78      0.82      0.79       320\n",
            "\n"
          ],
          "name": "stdout"
        }
      ]
    },
    {
      "cell_type": "markdown",
      "metadata": {
        "id": "kHO2f7TdU-kO"
      },
      "source": [
        "Score (맞다고 생각하는 점수)\n",
        "--"
      ]
    },
    {
      "cell_type": "code",
      "metadata": {
        "id": "hrolYEkwU-kP"
      },
      "source": [
        "y_score = sgd.decision_function(X_test)   # sgd 는 predict_proba() 가 없다\r\n",
        "# decision_function(): The confidence score for a sample is the signed distance \r\n",
        "# of that sample to the hyperplane"
      ],
      "execution_count": null,
      "outputs": []
    },
    {
      "cell_type": "code",
      "metadata": {
        "colab": {
          "base_uri": "https://localhost:8080/"
        },
        "id": "6apX-sMLU-kP",
        "outputId": "fbeef7eb-1c23-4d6c-c424-72380c1322d2"
      },
      "source": [
        "y_score[:5]"
      ],
      "execution_count": null,
      "outputs": [
        {
          "output_type": "execute_result",
          "data": {
            "text/plain": [
              "array([ 0.79259076, -2.95713556, -5.74014753, -1.21517746, -5.88022051])"
            ]
          },
          "metadata": {
            "tags": []
          },
          "execution_count": 26
        }
      ]
    },
    {
      "cell_type": "markdown",
      "metadata": {
        "id": "thOxcmlrU-kV"
      },
      "source": [
        "랭킹 (순서를 평가)\n",
        "--"
      ]
    },
    {
      "cell_type": "code",
      "metadata": {
        "scrolled": true,
        "colab": {
          "base_uri": "https://localhost:8080/",
          "height": 198
        },
        "id": "N3LJIF9sU-kY",
        "outputId": "2c72d8e6-7c08-4197-ef96-1d65334d3c87"
      },
      "source": [
        "result = pd.DataFrame(list(zip(y_score, y_pred, y_test)), \n",
        "                      columns=['score', 'predict', 'real'])\n",
        "result['correct'] = (result.predict == result.real)\n",
        "result.head()"
      ],
      "execution_count": null,
      "outputs": [
        {
          "output_type": "execute_result",
          "data": {
            "text/html": [
              "<div>\n",
              "<style scoped>\n",
              "    .dataframe tbody tr th:only-of-type {\n",
              "        vertical-align: middle;\n",
              "    }\n",
              "\n",
              "    .dataframe tbody tr th {\n",
              "        vertical-align: top;\n",
              "    }\n",
              "\n",
              "    .dataframe thead th {\n",
              "        text-align: right;\n",
              "    }\n",
              "</style>\n",
              "<table border=\"1\" class=\"dataframe\">\n",
              "  <thead>\n",
              "    <tr style=\"text-align: right;\">\n",
              "      <th></th>\n",
              "      <th>score</th>\n",
              "      <th>predict</th>\n",
              "      <th>real</th>\n",
              "      <th>correct</th>\n",
              "    </tr>\n",
              "  </thead>\n",
              "  <tbody>\n",
              "    <tr>\n",
              "      <th>0</th>\n",
              "      <td>0.792591</td>\n",
              "      <td>1</td>\n",
              "      <td>0</td>\n",
              "      <td>False</td>\n",
              "    </tr>\n",
              "    <tr>\n",
              "      <th>1</th>\n",
              "      <td>-2.957136</td>\n",
              "      <td>0</td>\n",
              "      <td>0</td>\n",
              "      <td>True</td>\n",
              "    </tr>\n",
              "    <tr>\n",
              "      <th>2</th>\n",
              "      <td>-5.740148</td>\n",
              "      <td>0</td>\n",
              "      <td>0</td>\n",
              "      <td>True</td>\n",
              "    </tr>\n",
              "    <tr>\n",
              "      <th>3</th>\n",
              "      <td>-1.215177</td>\n",
              "      <td>0</td>\n",
              "      <td>0</td>\n",
              "      <td>True</td>\n",
              "    </tr>\n",
              "    <tr>\n",
              "      <th>4</th>\n",
              "      <td>-5.880221</td>\n",
              "      <td>0</td>\n",
              "      <td>0</td>\n",
              "      <td>True</td>\n",
              "    </tr>\n",
              "  </tbody>\n",
              "</table>\n",
              "</div>"
            ],
            "text/plain": [
              "      score  predict  real  correct\n",
              "0  0.792591        1     0    False\n",
              "1 -2.957136        0     0     True\n",
              "2 -5.740148        0     0     True\n",
              "3 -1.215177        0     0     True\n",
              "4 -5.880221        0     0     True"
            ]
          },
          "metadata": {
            "tags": []
          },
          "execution_count": 27
        }
      ]
    },
    {
      "cell_type": "markdown",
      "metadata": {
        "id": "q7vxgt3cU-ke"
      },
      "source": [
        "ROC로 성능 평가 (맞춘 순서를 평가)\n",
        "--"
      ]
    },
    {
      "cell_type": "code",
      "metadata": {
        "colab": {
          "base_uri": "https://localhost:8080/",
          "height": 422
        },
        "id": "OCr7gS-6U-kf",
        "outputId": "816e9002-79d2-44a9-8720-2ac463d3dda1"
      },
      "source": [
        "fpr = dict()\n",
        "tpr = dict()\n",
        "roc_auc = dict()\n",
        "fpr, tpr, _ = roc_curve(y_test, y_score)\n",
        "roc_auc = auc(fpr, tpr)\n",
        "\n",
        "plt.figure(figsize=(6,6))\n",
        "plt.plot(fpr, tpr, label='ROC curve (area = %0.2f)' % roc_auc)\n",
        "plt.plot([0, 1], [0, 1], linestyle='--')\n",
        "plt.xlim([0.0, 1.0])\n",
        "plt.ylim([0.0, 1.05])\n",
        "plt.xlabel('False Positive Rate')\n",
        "plt.ylabel('True Positive Rate')\n",
        "plt.title('ROC')\n",
        "plt.legend(loc=\"lower right\")"
      ],
      "execution_count": null,
      "outputs": [
        {
          "output_type": "execute_result",
          "data": {
            "text/plain": [
              "<matplotlib.legend.Legend at 0x7f6f419af668>"
            ]
          },
          "metadata": {
            "tags": []
          },
          "execution_count": 28
        },
        {
          "output_type": "display_data",
          "data": {
            "image/png": "[encoded data removed]",
            "text/plain": [
              "<Figure size 432x432 with 1 Axes>"
            ]
          },
          "metadata": {
            "tags": [],
            "needs_background": "light"
          }
        }
      ]
    },
    {
      "cell_type": "code",
      "metadata": {
        "id": "qDV5iVOyU-lN"
      },
      "source": [
        ""
      ],
      "execution_count": null,
      "outputs": []
    }
  ]
}