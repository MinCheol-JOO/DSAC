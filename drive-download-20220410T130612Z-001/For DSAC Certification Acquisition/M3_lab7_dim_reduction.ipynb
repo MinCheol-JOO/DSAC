{
  "nbformat": 4,
  "nbformat_minor": 0,
  "metadata": {
    "colab": {
      "name": "hallym_lab7_dim_reduction.ipynb",
      "provenance": [],
      "collapsed_sections": [],
      "authorship_tag": "ABX9TyN/knBSSHJweakJIW1sUjR6",
      "include_colab_link": true
    },
    "kernelspec": {
      "name": "python3",
      "display_name": "Python 3"
    }
  },
  "cells": [
    {
      "cell_type": "markdown",
      "metadata": {
        "id": "view-in-github",
        "colab_type": "text"
      },
      "source": [
        "<a href=\"https://colab.research.google.com/github/rtajeong/Hallym_univ_M34/blob/main/hallym_lab7_dim_reduction.ipynb\" target=\"_parent\"><img src=\"https://colab.research.google.com/assets/colab-badge.svg\" alt=\"Open In Colab\"/></a>"
      ]
    },
    {
      "cell_type": "markdown",
      "metadata": {
        "id": "Mw_OaPwxScMC"
      },
      "source": [
        "# Dimension Reduction"
      ]
    },
    {
      "cell_type": "code",
      "metadata": {
        "id": "R6BlzIpmSUMK"
      },
      "source": [
        "import numpy as np\r\n",
        "import pandas as pd\r\n",
        "import matplotlib.pyplot as plt\r\n",
        "%matplotlib inline"
      ],
      "execution_count": 4,
      "outputs": []
    },
    {
      "cell_type": "code",
      "metadata": {
        "id": "dfO_lSVsSsph"
      },
      "source": [
        "from sklearn.datasets import load_breast_cancer\r\n",
        "from sklearn.model_selection import train_test_split, cross_val_score\r\n",
        "from sklearn.ensemble import RandomForestClassifier"
      ],
      "execution_count": 5,
      "outputs": []
    },
    {
      "cell_type": "code",
      "metadata": {
        "id": "MrOY9ZVhTD44"
      },
      "source": [
        "from sklearn.feature_selection import SelectPercentile, chi2\r\n",
        "from sklearn.preprocessing import StandardScaler\r\n",
        "from sklearn.decomposition import PCA\r\n",
        "from sklearn.manifold import TSNE\r\n",
        "import seaborn as sns"
      ],
      "execution_count": 6,
      "outputs": []
    },
    {
      "cell_type": "code",
      "metadata": {
        "id": "sACY134iTiip"
      },
      "source": [
        "cancer = load_breast_cancer()\r\n",
        "X_all, y = cancer.data, cancer.target"
      ],
      "execution_count": 8,
      "outputs": []
    },
    {
      "cell_type": "code",
      "metadata": {
        "colab": {
          "base_uri": "https://localhost:8080/"
        },
        "id": "MrA14muzT87j",
        "outputId": "4c580845-619f-4926-f1d3-96850d8b6c46"
      },
      "source": [
        "X_all.shape, y.shape"
      ],
      "execution_count": 9,
      "outputs": [
        {
          "output_type": "execute_result",
          "data": {
            "text/plain": [
              "((569, 30), (569,))"
            ]
          },
          "metadata": {
            "tags": []
          },
          "execution_count": 9
        }
      ]
    },
    {
      "cell_type": "code",
      "metadata": {
        "colab": {
          "base_uri": "https://localhost:8080/"
        },
        "id": "HqT2pnqxUbF7",
        "outputId": "1041a688-0160-4252-b68e-891cffee0d0b"
      },
      "source": [
        "X = StandardScaler().fit_transform(X_all)\r\n",
        "X.shape"
      ],
      "execution_count": 10,
      "outputs": [
        {
          "output_type": "execute_result",
          "data": {
            "text/plain": [
              "(569, 30)"
            ]
          },
          "metadata": {
            "tags": []
          },
          "execution_count": 10
        }
      ]
    },
    {
      "cell_type": "code",
      "metadata": {
        "colab": {
          "base_uri": "https://localhost:8080/"
        },
        "id": "dRaaz1A_UsA1",
        "outputId": "7939d677-3b65-437f-cb05-8c2fa8c74d59"
      },
      "source": [
        "cancer.feature_names"
      ],
      "execution_count": 11,
      "outputs": [
        {
          "output_type": "execute_result",
          "data": {
            "text/plain": [
              "array(['mean radius', 'mean texture', 'mean perimeter', 'mean area',\n",
              "       'mean smoothness', 'mean compactness', 'mean concavity',\n",
              "       'mean concave points', 'mean symmetry', 'mean fractal dimension',\n",
              "       'radius error', 'texture error', 'perimeter error', 'area error',\n",
              "       'smoothness error', 'compactness error', 'concavity error',\n",
              "       'concave points error', 'symmetry error',\n",
              "       'fractal dimension error', 'worst radius', 'worst texture',\n",
              "       'worst perimeter', 'worst area', 'worst smoothness',\n",
              "       'worst compactness', 'worst concavity', 'worst concave points',\n",
              "       'worst symmetry', 'worst fractal dimension'], dtype='<U23')"
            ]
          },
          "metadata": {
            "tags": []
          },
          "execution_count": 11
        }
      ]
    },
    {
      "cell_type": "code",
      "metadata": {
        "colab": {
          "base_uri": "https://localhost:8080/"
        },
        "id": "0aZlsnVlUycO",
        "outputId": "45416572-ac9f-4b50-9e76-3861d73d738c"
      },
      "source": [
        "rfc = RandomForestClassifier()\r\n",
        "cross_val_score(rfc, X, y, cv=5).mean()"
      ],
      "execution_count": 12,
      "outputs": [
        {
          "output_type": "execute_result",
          "data": {
            "text/plain": [
              "0.9613569321533924"
            ]
          },
          "metadata": {
            "tags": []
          },
          "execution_count": 12
        }
      ]
    },
    {
      "cell_type": "code",
      "metadata": {
        "colab": {
          "base_uri": "https://localhost:8080/"
        },
        "id": "dqSpTpIYVGCI",
        "outputId": "6815cd1c-197e-4abd-9474-aa42d396ed90"
      },
      "source": [
        "# let's use just 6 features (20%)\r\n",
        "\r\n",
        "fs = SelectPercentile(chi2, percentile=20)\r\n",
        "X_P = fs.fit_transform(X_all, y)\r\n",
        "X_P = StandardScaler().fit_transform(X_P)\r\n",
        "fs.get_support()"
      ],
      "execution_count": 16,
      "outputs": [
        {
          "output_type": "execute_result",
          "data": {
            "text/plain": [
              "array([False, False,  True,  True, False, False, False, False, False,\n",
              "       False, False, False, False,  True, False, False, False, False,\n",
              "       False, False,  True, False,  True,  True, False, False, False,\n",
              "       False, False, False])"
            ]
          },
          "metadata": {
            "tags": []
          },
          "execution_count": 16
        }
      ]
    },
    {
      "cell_type": "code",
      "metadata": {
        "colab": {
          "base_uri": "https://localhost:8080/"
        },
        "id": "4eR-yDbIVuLt",
        "outputId": "88a30231-a80c-428f-e8b2-9ffbaf4ce76f"
      },
      "source": [
        "fs.scores_, fs.pvalues_"
      ],
      "execution_count": 17,
      "outputs": [
        {
          "output_type": "execute_result",
          "data": {
            "text/plain": [
              "(array([2.66104917e+02, 9.38975081e+01, 2.01110286e+03, 5.39916559e+04,\n",
              "        1.49899264e-01, 5.40307549e+00, 1.97123536e+01, 1.05440354e+01,\n",
              "        2.57379775e-01, 7.43065536e-05, 3.46752472e+01, 9.79353970e-03,\n",
              "        2.50571896e+02, 8.75850471e+03, 3.26620664e-03, 6.13785332e-01,\n",
              "        1.04471761e+00, 3.05231563e-01, 8.03633831e-05, 6.37136566e-03,\n",
              "        4.91689157e+02, 1.74449400e+02, 3.66503542e+03, 1.12598432e+05,\n",
              "        3.97365694e-01, 1.93149220e+01, 3.95169151e+01, 1.34854195e+01,\n",
              "        1.29886140e+00, 2.31522407e-01]),\n",
              " array([8.01397628e-060, 3.32292194e-022, 0.00000000e+000, 0.00000000e+000,\n",
              "        6.98631644e-001, 2.01012999e-002, 9.00175712e-006, 1.16563638e-003,\n",
              "        6.11926026e-001, 9.93122221e-001, 3.89553429e-009, 9.21168192e-001,\n",
              "        1.94877489e-056, 0.00000000e+000, 9.54425121e-001, 4.33366115e-001,\n",
              "        3.06726812e-001, 5.80621137e-001, 9.92847410e-001, 9.36379753e-001,\n",
              "        6.11324751e-109, 7.89668299e-040, 0.00000000e+000, 0.00000000e+000,\n",
              "        5.28452867e-001, 1.10836762e-005, 3.25230064e-010, 2.40424384e-004,\n",
              "        2.54421307e-001, 6.30397277e-001]))"
            ]
          },
          "metadata": {
            "tags": []
          },
          "execution_count": 17
        }
      ]
    },
    {
      "cell_type": "code",
      "metadata": {
        "colab": {
          "base_uri": "https://localhost:8080/"
        },
        "id": "JgHp92ujWZS7",
        "outputId": "9ae9b8e5-5cc1-4140-c0d7-143e45bfb1d8"
      },
      "source": [
        "np.array(fs.scores_).argsort()[::-1]"
      ],
      "execution_count": 18,
      "outputs": [
        {
          "output_type": "execute_result",
          "data": {
            "text/plain": [
              "array([23,  3, 13, 22,  2, 20,  0, 12, 21,  1, 26, 10,  6, 25, 27,  7,  5,\n",
              "       28, 16, 15, 24, 17,  8, 29,  4, 11, 19, 14, 18,  9])"
            ]
          },
          "metadata": {
            "tags": []
          },
          "execution_count": 18
        }
      ]
    },
    {
      "cell_type": "code",
      "metadata": {
        "colab": {
          "base_uri": "https://localhost:8080/"
        },
        "id": "7-45aa2vWv3V",
        "outputId": "5a1c5ba8-e4cd-465f-8f09-6cb40c05cbf4"
      },
      "source": [
        "cancer.feature_names[fs.get_support()]"
      ],
      "execution_count": 19,
      "outputs": [
        {
          "output_type": "execute_result",
          "data": {
            "text/plain": [
              "array(['mean perimeter', 'mean area', 'area error', 'worst radius',\n",
              "       'worst perimeter', 'worst area'], dtype='<U23')"
            ]
          },
          "metadata": {
            "tags": []
          },
          "execution_count": 19
        }
      ]
    },
    {
      "cell_type": "code",
      "metadata": {
        "colab": {
          "base_uri": "https://localhost:8080/"
        },
        "id": "ankq-5EFW-qo",
        "outputId": "42c8ad7d-b64a-4c45-b1bd-b7b853c6d048"
      },
      "source": [
        "cross_val_score(rfc, X_P, y).mean()"
      ],
      "execution_count": 20,
      "outputs": [
        {
          "output_type": "execute_result",
          "data": {
            "text/plain": [
              "0.9262536873156343"
            ]
          },
          "metadata": {
            "tags": []
          },
          "execution_count": 20
        }
      ]
    },
    {
      "cell_type": "code",
      "metadata": {
        "colab": {
          "base_uri": "https://localhost:8080/"
        },
        "id": "wslxD3x9XKao",
        "outputId": "cc88e226-47e6-4413-c3f4-3a189a4ac035"
      },
      "source": [
        "# let's take only 2 features\r\n",
        "fs = SelectPercentile(chi2, percentile=6)\r\n",
        "X_P = fs.fit_transform(X_all, y)\r\n",
        "X_P = StandardScaler().fit_transform(X_P)\r\n",
        "cancer.feature_names[fs.get_support()]"
      ],
      "execution_count": 22,
      "outputs": [
        {
          "output_type": "execute_result",
          "data": {
            "text/plain": [
              "array(['mean area', 'worst area'], dtype='<U23')"
            ]
          },
          "metadata": {
            "tags": []
          },
          "execution_count": 22
        }
      ]
    },
    {
      "cell_type": "code",
      "metadata": {
        "colab": {
          "base_uri": "https://localhost:8080/"
        },
        "id": "sqZ97sHUYS3p",
        "outputId": "74990ce2-7632-424b-a982-17fd228ffb7c"
      },
      "source": [
        "fs.get_support()"
      ],
      "execution_count": 24,
      "outputs": [
        {
          "output_type": "execute_result",
          "data": {
            "text/plain": [
              "array([False, False, False,  True, False, False, False, False, False,\n",
              "       False, False, False, False, False, False, False, False, False,\n",
              "       False, False, False, False, False,  True, False, False, False,\n",
              "       False, False, False])"
            ]
          },
          "metadata": {
            "tags": []
          },
          "execution_count": 24
        }
      ]
    },
    {
      "cell_type": "code",
      "metadata": {
        "colab": {
          "base_uri": "https://localhost:8080/"
        },
        "id": "4glD-J7IXyia",
        "outputId": "3a6e0931-5f51-48ce-c8c8-29cacd55058f"
      },
      "source": [
        "cross_val_score(rfc, X_P, y).mean()"
      ],
      "execution_count": 23,
      "outputs": [
        {
          "output_type": "execute_result",
          "data": {
            "text/plain": [
              "0.9103710603943487"
            ]
          },
          "metadata": {
            "tags": []
          },
          "execution_count": 23
        }
      ]
    },
    {
      "cell_type": "code",
      "metadata": {
        "colab": {
          "base_uri": "https://localhost:8080/",
          "height": 374
        },
        "id": "r1oqL4CcX72Y",
        "outputId": "eecdf911-e040-4e66-a278-bdf4448f9c8d"
      },
      "source": [
        "m = ['v', 'o']\r\n",
        "c = ['r', 'b']\r\n",
        "plt.figure(figsize=(8,6))\r\n",
        "for i in range(len(y)):\r\n",
        "  plt.scatter(cancer.data[:,3][i], \r\n",
        "              cancer.data[:,23][i], \r\n",
        "              marker=m[y[i]],\r\n",
        "              color=c[y[i]],\r\n",
        "              s=5)\r\n",
        "plt.show()"
      ],
      "execution_count": 27,
      "outputs": [
        {
          "output_type": "display_data",
          "data": {
            "image/png": "[encoded data removed]",
            "text/plain": [
              "<Figure size 576x432 with 1 Axes>"
            ]
          },
          "metadata": {
            "tags": [],
            "needs_background": "light"
          }
        }
      ]
    },
    {
      "cell_type": "code",
      "metadata": {
        "colab": {
          "base_uri": "https://localhost:8080/"
        },
        "id": "vs7rr7vNYt92",
        "outputId": "63dcde82-51e4-4846-f647-5b62bf07b3eb"
      },
      "source": [
        "# dimension reduction using PCA\r\n",
        "\r\n",
        "pca = PCA(n_components = 2)\r\n",
        "pca_result = pca.fit_transform(X)  # X: scaled\r\n",
        "pca_result"
      ],
      "execution_count": 31,
      "outputs": [
        {
          "output_type": "execute_result",
          "data": {
            "text/plain": [
              "array([[ 9.19283683,  1.94858307],\n",
              "       [ 2.3878018 , -3.76817174],\n",
              "       [ 5.73389628, -1.0751738 ],\n",
              "       ...,\n",
              "       [ 1.25617928, -1.90229671],\n",
              "       [10.37479406,  1.67201011],\n",
              "       [-5.4752433 , -0.67063679]])"
            ]
          },
          "metadata": {
            "tags": []
          },
          "execution_count": 31
        }
      ]
    },
    {
      "cell_type": "code",
      "metadata": {
        "colab": {
          "base_uri": "https://localhost:8080/",
          "height": 374
        },
        "id": "HWrrYnLnZjzJ",
        "outputId": "6f320201-c291-4f5a-dea4-10df307ff0fb"
      },
      "source": [
        "m = ['v', 'o']\r\n",
        "c = ['r', 'b']\r\n",
        "plt.figure(figsize=(8,6))\r\n",
        "for i in range(len(y)):\r\n",
        "  plt.scatter(pca_result[:,0][i], \r\n",
        "              pca_result[:,1][i], \r\n",
        "              marker=m[y[i]],\r\n",
        "              color=c[y[i]],\r\n",
        "              s=5)\r\n",
        "plt.show()"
      ],
      "execution_count": 32,
      "outputs": [
        {
          "output_type": "display_data",
          "data": {
            "image/png": "[encoded data removed]",
            "text/plain": [
              "<Figure size 576x432 with 1 Axes>"
            ]
          },
          "metadata": {
            "tags": [],
            "needs_background": "light"
          }
        }
      ]
    },
    {
      "cell_type": "code",
      "metadata": {
        "colab": {
          "base_uri": "https://localhost:8080/"
        },
        "id": "8T_Y-sAqaSKi",
        "outputId": "1de40ad5-e465-4f24-94c2-92ede76f6d0a"
      },
      "source": [
        "pca.components_"
      ],
      "execution_count": 33,
      "outputs": [
        {
          "output_type": "execute_result",
          "data": {
            "text/plain": [
              "array([[ 0.21890244,  0.10372458,  0.22753729,  0.22099499,  0.14258969,\n",
              "         0.23928535,  0.25840048,  0.26085376,  0.13816696,  0.06436335,\n",
              "         0.20597878,  0.01742803,  0.21132592,  0.20286964,  0.01453145,\n",
              "         0.17039345,  0.15358979,  0.1834174 ,  0.04249842,  0.10256832,\n",
              "         0.22799663,  0.10446933,  0.23663968,  0.22487053,  0.12795256,\n",
              "         0.21009588,  0.22876753,  0.25088597,  0.12290456,  0.13178394],\n",
              "       [-0.23385713, -0.05970609, -0.21518136, -0.23107671,  0.18611302,\n",
              "         0.15189161,  0.06016536, -0.0347675 ,  0.19034877,  0.36657547,\n",
              "        -0.10555215,  0.08997968, -0.08945723, -0.15229263,  0.20443045,\n",
              "         0.2327159 ,  0.19720728,  0.13032156,  0.183848  ,  0.28009203,\n",
              "        -0.21986638, -0.0454673 , -0.19987843, -0.21935186,  0.17230435,\n",
              "         0.14359317,  0.09796411, -0.00825724,  0.14188335,  0.27533947]])"
            ]
          },
          "metadata": {
            "tags": []
          },
          "execution_count": 33
        }
      ]
    },
    {
      "cell_type": "code",
      "metadata": {
        "colab": {
          "base_uri": "https://localhost:8080/"
        },
        "id": "XbgZJX2Pabpy",
        "outputId": "93d750d7-85f5-472d-8025-4b74e78fa49c"
      },
      "source": [
        "cross_val_score(rfc, pca_result, y, cv=5).mean()\r\n",
        "\r\n"
      ],
      "execution_count": 34,
      "outputs": [
        {
          "output_type": "execute_result",
          "data": {
            "text/plain": [
              "0.9315013196708586"
            ]
          },
          "metadata": {
            "tags": []
          },
          "execution_count": 34
        }
      ]
    },
    {
      "cell_type": "code",
      "metadata": {
        "colab": {
          "base_uri": "https://localhost:8080/"
        },
        "id": "eDxs7plGaUg5",
        "outputId": "a539f7e3-0bf1-4fc7-e503-009f2d721d16"
      },
      "source": [
        "pca = PCA(n_components = 6)\r\n",
        "pca_result = pca.fit_transform(X)  # X: scaled\r\n",
        "cross_val_score(rfc, pca_result, y, cv=5).mean()"
      ],
      "execution_count": 35,
      "outputs": [
        {
          "output_type": "execute_result",
          "data": {
            "text/plain": [
              "0.9489675516224189"
            ]
          },
          "metadata": {
            "tags": []
          },
          "execution_count": 35
        }
      ]
    },
    {
      "cell_type": "code",
      "metadata": {
        "colab": {
          "base_uri": "https://localhost:8080/"
        },
        "id": "KQkPu5kza8vC",
        "outputId": "e36e282b-7b28-4fc2-ed41-9ddd70a4360c"
      },
      "source": [
        "# one more function - just for viewing\r\n",
        "\r\n",
        "tsne = TSNE(n_components = 2, verbose=1, perplexity=40, n_iter=1000)\r\n",
        "tsne_result = tsne.fit_transform(cancer.data)"
      ],
      "execution_count": 38,
      "outputs": [
        {
          "output_type": "stream",
          "text": [
            "[t-SNE] Computing 121 nearest neighbors...\n",
            "[t-SNE] Indexed 569 samples in 0.005s...\n",
            "[t-SNE] Computed neighbors for 569 samples in 0.025s...\n",
            "[t-SNE] Computed conditional probabilities for sample 569 / 569\n",
            "[t-SNE] Mean sigma: 33.679708\n",
            "[t-SNE] KL divergence after 250 iterations with early exaggeration: 49.527470\n",
            "[t-SNE] KL divergence after 1000 iterations: 0.217801\n"
          ],
          "name": "stdout"
        }
      ]
    },
    {
      "cell_type": "code",
      "metadata": {
        "colab": {
          "base_uri": "https://localhost:8080/",
          "height": 375
        },
        "id": "U-nuzIvCbQZZ",
        "outputId": "31d17b00-11e2-4a3e-aa63-61ccaaa960e6"
      },
      "source": [
        "m = ['v', 'o']\r\n",
        "c = ['r', 'b']\r\n",
        "plt.figure(figsize=(8,6))\r\n",
        "for i in range(len(y)):\r\n",
        "  plt.scatter(tsne_result[:,0][i], \r\n",
        "              tsne_result[:,1][i], \r\n",
        "              marker=m[y[i]],\r\n",
        "              color=c[y[i]],\r\n",
        "              s=5)\r\n",
        "plt.show()"
      ],
      "execution_count": 39,
      "outputs": [
        {
          "output_type": "display_data",
          "data": {
            "image/png": "[encoded data removed]",
            "text/plain": [
              "<Figure size 576x432 with 1 Axes>"
            ]
          },
          "metadata": {
            "tags": [],
            "needs_background": "light"
          }
        }
      ]
    },
    {
      "cell_type": "code",
      "metadata": {
        "colab": {
          "base_uri": "https://localhost:8080/",
          "height": 500
        },
        "id": "wjuCCMAVbm5C",
        "outputId": "68533622-03e3-4840-8753-457f177ab653"
      },
      "source": [
        "tsne = TSNE(n_components = 2, verbose=1, perplexity=40, n_iter=1000)\r\n",
        "tsne_result = tsne.fit_transform(X)\r\n",
        "\r\n",
        "m = ['v', 'o']\r\n",
        "c = ['r', 'b']\r\n",
        "plt.figure(figsize=(8,6))\r\n",
        "for i in range(len(y)):\r\n",
        "  plt.scatter(tsne_result[:,0][i], \r\n",
        "              tsne_result[:,1][i], \r\n",
        "              marker=m[y[i]],\r\n",
        "              color=c[y[i]],\r\n",
        "              s=5)\r\n",
        "plt.show()"
      ],
      "execution_count": 40,
      "outputs": [
        {
          "output_type": "stream",
          "text": [
            "[t-SNE] Computing 121 nearest neighbors...\n",
            "[t-SNE] Indexed 569 samples in 0.003s...\n",
            "[t-SNE] Computed neighbors for 569 samples in 0.040s...\n",
            "[t-SNE] Computed conditional probabilities for sample 569 / 569\n",
            "[t-SNE] Mean sigma: 1.522404\n",
            "[t-SNE] KL divergence after 250 iterations with early exaggeration: 66.648636\n",
            "[t-SNE] KL divergence after 1000 iterations: 0.877361\n"
          ],
          "name": "stdout"
        },
        {
          "output_type": "display_data",
          "data": {
            "image/png": "[encoded data removed]",
            "text/plain": [
              "<Figure size 576x432 with 1 Axes>"
            ]
          },
          "metadata": {
            "tags": [],
            "needs_background": "light"
          }
        }
      ]
    },
    {
      "cell_type": "code",
      "metadata": {
        "colab": {
          "base_uri": "https://localhost:8080/"
        },
        "id": "5QHbMfU1b5sJ",
        "outputId": "b839f9a4-bd89-414e-e68f-4cd29c44052c"
      },
      "source": [
        "cross_val_score(rfc, tsne_result, y, cv=5).mean()"
      ],
      "execution_count": 41,
      "outputs": [
        {
          "output_type": "execute_result",
          "data": {
            "text/plain": [
              "0.9613103555348548"
            ]
          },
          "metadata": {
            "tags": []
          },
          "execution_count": 41
        }
      ]
    },
    {
      "cell_type": "code",
      "metadata": {
        "id": "ZeZhs3GIb7hu"
      },
      "source": [
        ""
      ],
      "execution_count": null,
      "outputs": []
    }
  ]
}